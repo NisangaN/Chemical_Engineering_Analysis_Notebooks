{
 "cells": [
  {
   "cell_type": "markdown",
   "metadata": {},
   "source": [
    "# Initial Value PDEs\n",
    "\n",
    "# Learning Objectives\n",
    "\n",
    "- Be able to recognize Laplace & Poisson equations\n",
    "- Describe the basic steps involved in the Method of Lines (MOL)\n",
    "- How to discretize interior nodes\n",
    "- How to discretize exterior nodes for each boundary condition (Neumann, Robin, Dirichlet)\n",
    "- Solve a 1D system of PDEs using MOL with both explicit and implicit Euler's method.\n",
    "- Formulate the system of ODEs created with MOL by interlacing variables on a rectangular grid.\n",
    "- Solve a 2D system of PDEs using MOL, with interface varaibles using either explicit or implicit Euler's method.\n",
    "\n",
    "# Questions for reflection\n",
    "- For a simple, what factors influence whether a system is numerically stable?\n",
    "- For IVP-PDEs, the problem size can grow quite rapidly. For a 3D systems, using 20 discretization points in each dimension leads to an 8000-by-8000 system while 256 points leads to a ~16 million by ~16 million system. As illustrated by [Jaroudi, et al.](https://www.tandfonline.com/doi/full/10.1080/00207160.2019.1613526?af=R), a large number of such systems can be solved in a few hours on standard desktop. In light of this fact, how do you think the resulting linear systems formulated and solved?"
   ]
  },
  {
   "cell_type": "code",
   "execution_count": null,
   "metadata": {},
   "outputs": [],
   "source": []
  }
 ],
 "metadata": {
  "kernelspec": {
   "display_name": "Julia 1.3.1",
   "language": "julia",
   "name": "julia-1.3"
  },
  "language_info": {
   "file_extension": ".jl",
   "mimetype": "application/julia",
   "name": "julia",
   "version": "1.3.1"
  }
 },
 "nbformat": 4,
 "nbformat_minor": 4
}
