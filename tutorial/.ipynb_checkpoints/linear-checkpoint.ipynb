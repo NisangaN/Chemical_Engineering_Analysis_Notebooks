{
 "cells": [
  {
   "cell_type": "markdown",
   "metadata": {},
   "source": [
    "#  <span style=\"color:darkblue\"> Linear Algebraic Systems </span>\n",
    "\n",
    "*Supplemental material for Chapters 1 & 2 of \"Numerical Methods and Chemical Engineering Applications\" by Dorfman and Daoutidis.*\n",
    "\n",
    "<hr style=\"border:2px solid gray\"> </hr>\n",
    "\n",
    "# <span style=\"color:darkblue\"> Learning Objectives </span>\n",
    "\n",
    "### *Setting up a linear system*\n",
    "- Be able to distinguish a linear system from a nonlinear system.\n",
    "- Learn to write a linear system in a matrix-vector format.\n",
    "- Input a linear system into a program\n",
    "- Write applicable engineering models in a linear format.\n",
    "\n",
    "### *Characterizing linear systems*\n",
    "- Determine the bandwidth(s) of the linear system.\n",
    "- Determine if a linear system has a unique solution.\n",
    "- Will solving a linear system provide a meaningful result (is it well-posed).\n",
    "\n",
    "### *Solving a linear system*\n",
    "- Solve a linear system by Gauss-Elimination\n",
    "- Solve a linear system by LU factorizations.\n",
    "- State when numerical errors occur may occur in Gauss-Elimination and how to resolve them.\n",
    "- Be able to state some conditions for the convergence of Jacobi and Gauss-Siedel methods.\n",
    "\n",
    "<hr style=\"border:2px solid gray\"> </hr>"
   ]
  },
  {
   "cell_type": "markdown",
   "metadata": {},
   "source": [
    "# Linear Algebra\n",
    "\n",
    "It would be only a slight overstatement to say that linear algebra underlies all modern numerical algorithms to one degree or another. Even software which specifically addresses nonlinear or complicated forms will often make use of linear algebra in a myriad of subroutines. In essence many complicated problems can be reduced to repeated formulating and solving linear systems. \n",
    "\n",
    "- As a consequence, whenever a linear solve fails your overall algorithm may fail.\n",
    "- Many of the issues are directly applicable to...\n",
    "- \n",
    "\n",
    "\n",
    "## Example\n",
    "\n",
    "Linear algebraic systems form the \n",
    "\n",
    "Adapted from [Kokossis, Antonis C., and Christodoulos A. Floudas. \"Synthesis of isothermal reactor—separator—recycle systems.\" Chemical engineering science 46.5-6 (1991): 1361-1383.](https://www.sciencedirect.com/science/article/pii/0009250991850634)"
   ]
  },
  {
   "cell_type": "markdown",
   "metadata": {},
   "source": [
    "## Solving Linear Systems\n",
    "\n",
    "When we solve a system of equations f(x) = 0, we see some vector x* such that f(x*) = 0. In the case, of a linear system we can write the Ix = x*. That is if we can perform valid operators that reduce the matrix A to the identity matrix then the corresponding right-hand side will be the solution x*\n",
    "\n",
    "##\n",
    "\n",
    "sum aix = bi\n",
    "c*(sum aux) = c*bi \n",
    "\n",
    "sum aix = bi\n",
    "sum aix = bi + 0 \n",
    "sum aix = bi + (bj - bj)\n",
    "sum aix = bi + (bj - sum ajx)\n",
    "sum aix + sum ajx = bi + bj\n"
   ]
  },
  {
   "cell_type": "code",
   "execution_count": null,
   "metadata": {},
   "outputs": [],
   "source": []
  },
  {
   "cell_type": "code",
   "execution_count": null,
   "metadata": {},
   "outputs": [],
   "source": [
    "# Define the Ax = b linear system\n",
    "\n",
    "A = zeros(2,2)    # Makes an 2d array of size 2-by-2. This array has 2 rows and 2 columns.\n",
    "b = zeros(2)      # Makes a column vector of size 2. A vector with 2 rows and 1 column.\n",
    "\n",
    "# fills in the first row (which corresponds to the first model equation)\n",
    "\n",
    "A[1,2] = 1        # Set the matrix A's entry in the first row and second column to 1\n",
    "A[2,2] = 1        # Set the matrix A's entry in the second row and second column to 2\n",
    "\n",
    "# FILL IN THE REST BELOW HERE\n"
   ]
  },
  {
   "cell_type": "code",
   "execution_count": 1,
   "metadata": {},
   "outputs": [],
   "source": [
    "# Define the left-hand side of the linear system b\n",
    "\n",
    "b = zeros(2)      # Makes an 1d array of size 2-by-1.\n",
    "b[1] = 1          # Set the first row in b to be 1.\n",
    "\n",
    "# FILL IN THE REST BELOW HERE\n",
    "b[2] = "
   ]
  },
  {
   "cell_type": "code",
   "execution_count": null,
   "metadata": {},
   "outputs": [],
   "source": [
    "# Run this to display the input matrix and vector\n",
    "println(\"This Matrix (A) is  \"); A; println(\"The r.h.s vector (b) is  \"); b;"
   ]
  },
  {
   "cell_type": "markdown",
   "metadata": {},
   "source": [
    "## Does a linear system have a unique solution? (Application to Blending Problems)\n",
    "\n",
    "One typical industrial problem consists choosing a series of feedstocks potentially blending/pooling these into intermediate streams and then proceeding these into a final product.  \n",
    "\n",
    "In the product design, this is particularly obvious for customizable products such as paints (wherein manufacturers are not only deciding the number of bases stocks to .\n",
    "\n",
    "Full and efficient treatments of this manner of problem consisting of formulating special types of optimization problems referred to as MINLPs and remain an active area of research []. The main challenges numerically difficulties arise due to the nonlinearity of many properties with respect composition (viscosity, reaction rates, etc.). \n",
    "\n",
    "We'll also assume that we're using a contract manufacturing business model. So at a company level you'll coordinate distribution for a product, potentially provide the manufacturer with equipment, and handle the produce design but you can more or less shop around for manufacturing space (aka you aren't constrained by equipment sizes and component availabilities).\n",
    "\n",
    "The R&D \n",
    "\n",
    "Can we achieve the \n",
    "\n",
    "A linear system can have a unique solution, an infinite number of solutions, or no solutions.\n",
    "\n",
    "\n",
    "Gasoline... \n",
    "Paint...\n",
    "Food..."
   ]
  },
  {
   "cell_type": "markdown",
   "metadata": {},
   "source": [
    "### Determinant\n",
    "\n"
   ]
  },
  {
   "cell_type": "markdown",
   "metadata": {},
   "source": [
    "### Example 1: Getting the right color for a coating\n",
    "\n",
    "A coating consists of a ~75% of a functional polymer mix (resin forms a solid matrix to hold pigments in place, an extender which provides adhesion to the surface, a solvent which allows the coating to be applied, and a series of additives). Common additives include bactericides, fungicides, algaecides, disperants, anti-frictive agents, and/or thixotropic agents. Three pigments (Titanium Oxide - White, ) are added to the blend in amounts 5 - 20% is used ot "
   ]
  },
  {
   "cell_type": "code",
   "execution_count": null,
   "metadata": {},
   "outputs": [],
   "source": [
    "In general, these three components cost XXX, XXXX, YYY."
   ]
  },
  {
   "cell_type": "markdown",
   "metadata": {},
   "source": [
    "The commercial department at your company has requested that you include an antimicrobial additive to the paint which will allow the surface to self-sterilize over time. This consists of adding XX% nanoparticle copper or YY% nanoparticle silver to the mixture. Is this functionality achievable with the existing color?\n"
   ]
  },
  {
   "cell_type": "code",
   "execution_count": null,
   "metadata": {},
   "outputs": [],
   "source": [
    "using Plots  # Import the Plot package\n",
    "pylot()      # Specify that we want to use the XXX backend for plotting\n",
    "\n"
   ]
  },
  {
   "cell_type": "markdown",
   "metadata": {},
   "source": [
    "# Well-posed problems and the Condition Number\n",
    "\n",
    "While a linear system, `Ax = b`, may have a unique solution, we also seek to understand whether using a particular algorithm to solve `Ax = b` will yeild an accurate solution. We often don't know `A` or `b` exactly. As a consequence, solutions which vary greatly when `A` or `b` are slightly perturbed may be suspect. This is generally assessed by evaluating the **condition number** of a linear system.\n",
    "\n",
    "If an application leads to an ill-posed problem it may be possible to transform the linear system into an equivalent well-posed system by use of a [**preconditioner**](http://www.mathcs.emory.edu/~benzi/Web_papers/survey.pdf).\n",
    "\n"
   ]
  },
  {
   "cell_type": "markdown",
   "metadata": {},
   "source": [
    "# Questions for reflection\n",
    "- What varieties of problems may result in a banded matrix?\n",
    "- What does it mean that an iterative method converged? \n",
    "- When is an absolute or relative convergence criteria preferable?\n",
    "- When is solving by one method versus another preferable (e.g. Banded Gauss-Elimination versus Gauss-Siedel)?"
   ]
  },
  {
   "cell_type": "code",
   "execution_count": null,
   "metadata": {},
   "outputs": [],
   "source": []
  }
 ],
 "metadata": {
  "kernelspec": {
   "display_name": "Julia 1.3.1",
   "language": "julia",
   "name": "julia-1.3"
  },
  "language_info": {
   "file_extension": ".jl",
   "mimetype": "application/julia",
   "name": "julia",
   "version": "1.3.1"
  }
 },
 "nbformat": 4,
 "nbformat_minor": 4
}
