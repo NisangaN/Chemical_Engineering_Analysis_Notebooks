{
 "cells": [
  {
   "cell_type": "markdown",
   "metadata": {},
   "source": [
    "# Optimization"
   ]
  },
  {
   "cell_type": "markdown",
   "metadata": {},
   "source": [
    "## Learning Objectives\n",
    "\n",
    "- Classify optimization problems as linear, quadratic, nonlinear, and mixed-integer problems.\n",
    "- Learn how to interpret the solutions of optimization problems.\n",
    "- Learn how to input optimization problems in Matlab/Julia(JuMP).\n",
    "- Assess the sensitivity of a solution with respect to constraints.\n",
    "- Learn how to formulate and solve optimization problems for multiple examples.\n",
    "\n",
    "## Organization \n",
    "    - First, we'll solve a Sudoku puzzle.\n",
    "    - You'll formulate and solve blending problem.\n",
    "    - Lastly, you'll \n",
    "\n",
    "\n",
    "## Formulating an optimization problem\n",
    "\n",
    "Optimizers generally exploit a specific structures in the problem formulation as a means to solve a problem. These problem types range from Linear programs for which problems with 100k variables and constraints may routinely be solved [in less than a minute](http://plato.asu.edu/ftp/lpsimp.html) to nonconvex nonlinear mixed-integer problems were a problems with fewer than of variables have yet to be solved. \n",
    "\n",
    "A number of other special forms have been treated [specially-ordered sets](), [second-order cones](), [mixed-complementary constraints](), as well as a myriad of special nonlinear forms. The most heavily studied and widely used descriptors for each program are linear, quadratic, nonlinear, and mixed-integer. \n",
    "\n",
    "\n",
    "AAA\n",
    "\n",
    "- **Linear:** All the constraints and the objective are linear.\n",
    "- **Quadratic** all the constraints and the objective are quadratic or linear.\n",
    "- **Nonlinear** atleast one constraint or the objective is not linear.\n",
    "\n",
    "AAA\n",
    "\n",
    "- **Continuous:** All variables can vary between values in some possibly open interval.\n",
    "- **Integer:** All variables are integer valued.\n",
    "- **Mixed-integer:** The problem contains both integer and continuous variables.\n",
    "\n",
    "\n",
    "This has necessitated the  (Convex.jl, )."
   ]
  },
  {
   "cell_type": "code",
   "execution_count": 1,
   "metadata": {
    "collapsed": true
   },
   "outputs": [
    {
     "name": "stdout",
     "output_type": "stream",
     "text": [
      "\u001b[32m\u001b[1m  Updating\u001b[22m\u001b[39m registry at `C:\\Users\\wilhe\\.julia\\registries\\General`\n",
      "\u001b[32m\u001b[1m  Updating\u001b[22m\u001b[39m git-repo `https://github.com/JuliaRegistries/General.git`\n",
      "\u001b[2K\u001b[36m\u001b[1mFetching:\u001b[22m\u001b[39m [========================================>]  99.9 %0.0 %>                                  ]  14.9 %                                 ]  15.1 % [===============>                         ]  35.7 %]  50.5 %.1 %>             ]  67.0 %>      ]  84.5 %>    ]  88.7 %\u001b[?25h\u001b[32m\u001b[1m Resolving\u001b[22m\u001b[39m package versions...\n",
      "\u001b[32m\u001b[1m Installed\u001b[22m\u001b[39m DataAPI ───────────── v1.3.0\n",
      "\u001b[32m\u001b[1m Installed\u001b[22m\u001b[39m ArrayInterface ────── v2.8.7\n",
      "\u001b[32m\u001b[1m Installed\u001b[22m\u001b[39m BoundaryValueDiffEq ─ v2.5.0\n",
      "\u001b[32m\u001b[1m Installed\u001b[22m\u001b[39m OrderedCollections ── v1.2.0\n",
      "\u001b[32m\u001b[1m Installed\u001b[22m\u001b[39m OpenBLAS_jll ──────── v0.3.9+4\n",
      "\u001b[32m\u001b[1m Installed\u001b[22m\u001b[39m ColorTypes ────────── v0.10.3\n",
      "\u001b[32m\u001b[1m Installed\u001b[22m\u001b[39m Ipopt_jll ─────────── v3.13.2+0\n",
      "\u001b[32m\u001b[1m Installed\u001b[22m\u001b[39m JuliaInterpreter ──── v0.7.14\n",
      "\u001b[32m\u001b[1m Installed\u001b[22m\u001b[39m LoweredCodeUtils ──── v0.4.4\n",
      "\u001b[32m\u001b[1m Installed\u001b[22m\u001b[39m Parsers ───────────── v1.0.3\n",
      "\u001b[32m\u001b[1m Installed\u001b[22m\u001b[39m OpenBLAS32_jll ────── v0.3.9+4\n",
      "\u001b[32m\u001b[1m Installed\u001b[22m\u001b[39m FiniteDiff ────────── v2.3.1\n",
      "\u001b[32m\u001b[1m Installed\u001b[22m\u001b[39m CodeTracking ──────── v0.5.11\n",
      "\u001b[32m\u001b[1m Installed\u001b[22m\u001b[39m FileIO ────────────── v1.3.0\n",
      "\u001b[32m\u001b[1m Installed\u001b[22m\u001b[39m DiffEqJump ────────── v6.6.2\n",
      "\u001b[32m\u001b[1m Installed\u001b[22m\u001b[39m GeometryTypes ─────── v0.8.3\n",
      "\u001b[32m\u001b[1m Installed\u001b[22m\u001b[39m Latexify ──────────── v0.13.1\n",
      "\u001b[32m\u001b[1m Installed\u001b[22m\u001b[39m VertexSafeGraphs ──── v0.1.2\n",
      "\u001b[32m\u001b[1m Installed\u001b[22m\u001b[39m Opus_jll ──────────── v1.3.1+1\n",
      "\u001b[32m\u001b[1m Installed\u001b[22m\u001b[39m FillArrays ────────── v0.8.8\n",
      "\u001b[32m\u001b[1m Installed\u001b[22m\u001b[39m ArrayLayouts ──────── v0.2.6\n",
      "\u001b[32m\u001b[1m Installed\u001b[22m\u001b[39m SparseDiffTools ───── v1.7.1\n",
      "\u001b[32m\u001b[1m Installed\u001b[22m\u001b[39m BinaryProvider ────── v0.5.9\n",
      "\u001b[32m\u001b[1m Installed\u001b[22m\u001b[39m BandedMatrices ────── v0.15.7\n",
      "\u001b[32m\u001b[1m Installed\u001b[22m\u001b[39m Ogg_jll ───────────── v1.3.4+0\n",
      "\u001b[32m\u001b[1m Installed\u001b[22m\u001b[39m libvorbis_jll ─────── v1.3.6+3\n",
      "\u001b[32m\u001b[1m Installed\u001b[22m\u001b[39m FFTW ──────────────── v1.2.1\n",
      "\u001b[32m\u001b[1m Installed\u001b[22m\u001b[39m FlameGraphs ───────── v0.2.3\n",
      "\u001b[32m\u001b[1m Installed\u001b[22m\u001b[39m DiffEqCallbacks ───── v2.13.1\n",
      "\u001b[32m\u001b[1m Installed\u001b[22m\u001b[39m Zygote ────────────── v0.4.20\n",
      "\u001b[32m\u001b[1m  Updating\u001b[22m\u001b[39m `C:\\Users\\wilhe\\.julia\\environments\\v1.3\\Project.toml`\n",
      " \u001b[90m [53c679d3]\u001b[39m\u001b[93m ↑ McCormick v0.4.0 [`C:\\Users\\wilhe\\Desktop\\Package Development Work\\McCormick.jl`] ⇒ v0.4.1 [`C:\\Users\\wilhe\\Desktop\\Package Development Work\\McCormick.jl`]\u001b[39m\n",
      "\u001b[32m\u001b[1m  Updating\u001b[22m\u001b[39m `C:\\Users\\wilhe\\.julia\\environments\\v1.3\\Manifest.toml`\n",
      " \u001b[90m [4fba245c]\u001b[39m\u001b[93m ↑ ArrayInterface v2.8.5 ⇒ v2.8.7\u001b[39m\n",
      " \u001b[90m [4c555306]\u001b[39m\u001b[93m ↑ ArrayLayouts v0.2.4 ⇒ v0.2.6\u001b[39m\n",
      " \u001b[90m [aae01518]\u001b[39m\u001b[93m ↑ BandedMatrices v0.15.4 ⇒ v0.15.7\u001b[39m\n",
      " \u001b[90m [b99e7846]\u001b[39m\u001b[93m ↑ BinaryProvider v0.5.8 ⇒ v0.5.9\u001b[39m\n",
      " \u001b[90m [764a87c0]\u001b[39m\u001b[93m ↑ BoundaryValueDiffEq v2.3.0 ⇒ v2.5.0\u001b[39m\n",
      " \u001b[90m [da1fd8a2]\u001b[39m\u001b[93m ↑ CodeTracking v0.5.9 ⇒ v0.5.11\u001b[39m\n",
      " \u001b[90m [3da002f7]\u001b[39m\u001b[93m ↑ ColorTypes v0.10.2 ⇒ v0.10.3\u001b[39m\n",
      " \u001b[90m [9a962f9c]\u001b[39m\u001b[93m ↑ DataAPI v1.2.0 ⇒ v1.3.0\u001b[39m\n",
      " \u001b[90m [459566f4]\u001b[39m\u001b[93m ↑ DiffEqCallbacks v2.13.0 ⇒ v2.13.1\u001b[39m\n",
      " \u001b[90m [01453d9d]\u001b[39m\u001b[91m - DiffEqDiffTools v1.7.0\u001b[39m\n",
      " \u001b[90m [c894b116]\u001b[39m\u001b[93m ↑ DiffEqJump v6.6.1 ⇒ v6.6.2\u001b[39m\n",
      " \u001b[90m [7a1cc6ca]\u001b[39m\u001b[93m ↑ FFTW v1.2.0 ⇒ v1.2.1\u001b[39m\n",
      " \u001b[90m [5789e2e9]\u001b[39m\u001b[93m ↑ FileIO v1.2.4 ⇒ v1.3.0\u001b[39m\n",
      " \u001b[90m [1a297f60]\u001b[39m\u001b[93m ↑ FillArrays v0.8.7 ⇒ v0.8.8\u001b[39m\n",
      " \u001b[90m [6a86dc24]\u001b[39m\u001b[93m ↑ FiniteDiff v2.3.0 ⇒ v2.3.1\u001b[39m\n",
      " \u001b[90m [08572546]\u001b[39m\u001b[93m ↑ FlameGraphs v0.2.2 ⇒ v0.2.3\u001b[39m\n",
      " \u001b[90m [4d00f742]\u001b[39m\u001b[93m ↑ GeometryTypes v0.8.2 ⇒ v0.8.3\u001b[39m\n",
      " \u001b[90m [9cc047cb]\u001b[39m\u001b[93m ↑ Ipopt_jll v3.13.1+1 ⇒ v3.13.2+0\u001b[39m\n",
      " \u001b[90m [aa1ae85d]\u001b[39m\u001b[93m ↑ JuliaInterpreter v0.7.13 ⇒ v0.7.14\u001b[39m\n",
      " \u001b[90m [23fbe1c1]\u001b[39m\u001b[93m ↑ Latexify v0.13.0 ⇒ v0.13.1\u001b[39m\n",
      " \u001b[90m [6f1432cf]\u001b[39m\u001b[93m ↑ LoweredCodeUtils v0.4.3 ⇒ v0.4.4\u001b[39m\n",
      " \u001b[90m [53c679d3]\u001b[39m\u001b[93m ↑ McCormick v0.4.0 [`C:\\Users\\wilhe\\Desktop\\Package Development Work\\McCormick.jl`] ⇒ v0.4.1 [`C:\\Users\\wilhe\\Desktop\\Package Development Work\\McCormick.jl`]\u001b[39m\n",
      " \u001b[90m [e7412a2a]\u001b[39m\u001b[93m ↑ Ogg_jll v1.3.3+0 ⇒ v1.3.4+0\u001b[39m\n",
      " \u001b[90m [656ef2d0]\u001b[39m\u001b[93m ↑ OpenBLAS32_jll v0.3.9+2 ⇒ v0.3.9+4\u001b[39m\n",
      " \u001b[90m [4536629a]\u001b[39m\u001b[93m ↑ OpenBLAS_jll v0.3.9+2 ⇒ v0.3.9+4\u001b[39m\n",
      " \u001b[90m [91d4177d]\u001b[39m\u001b[93m ↑ Opus_jll v1.3.1+0 ⇒ v1.3.1+1\u001b[39m\n",
      " \u001b[90m [bac558e1]\u001b[39m\u001b[93m ↑ OrderedCollections v1.1.0 ⇒ v1.2.0\u001b[39m\n",
      " \u001b[90m [69de0a69]\u001b[39m\u001b[93m ↑ Parsers v1.0.2 ⇒ v1.0.3\u001b[39m\n",
      " \u001b[90m [47a9eef4]\u001b[39m\u001b[93m ↑ SparseDiffTools v1.6.0 ⇒ v1.7.1\u001b[39m\n",
      " \u001b[90m [19fa3120]\u001b[39m\u001b[93m ↑ VertexSafeGraphs v0.1.1 ⇒ v0.1.2\u001b[39m\n",
      " \u001b[90m [e88e6eb3]\u001b[39m\u001b[93m ↑ Zygote v0.4.17 ⇒ v0.4.20\u001b[39m\n",
      " \u001b[90m [f27f6e37]\u001b[39m\u001b[93m ↑ libvorbis_jll v1.3.6+2 ⇒ v1.3.6+3\u001b[39m\n",
      "\u001b[32m\u001b[1m  Building\u001b[22m\u001b[39m FFTW → `C:\\Users\\wilhe\\.julia\\packages\\FFTW\\5DZuu\\deps\\build.log`\n",
      "\u001b[32m\u001b[1m Resolving\u001b[22m\u001b[39m package versions...\n",
      "\u001b[32m\u001b[1m  Updating\u001b[22m\u001b[39m `C:\\Users\\wilhe\\.julia\\environments\\v1.3\\Project.toml`\n",
      " \u001b[90m [b6b21f68]\u001b[39m\u001b[93m ~ Ipopt v0.6.1 [`C:\\Users\\wilhe\\Desktop\\Package Development Work\\Ipopt.jl`] ⇒ v0.6.1\u001b[39m\n",
      "\u001b[32m\u001b[1m  Updating\u001b[22m\u001b[39m `C:\\Users\\wilhe\\.julia\\environments\\v1.3\\Manifest.toml`\n",
      " \u001b[90m [ae81ac8f]\u001b[39m\u001b[91m - ASL_jll v0.1.1+3\u001b[39m\n",
      " \u001b[90m [b6b21f68]\u001b[39m\u001b[93m ~ Ipopt v0.6.1 [`C:\\Users\\wilhe\\Desktop\\Package Development Work\\Ipopt.jl`] ⇒ v0.6.1\u001b[39m\n",
      " \u001b[90m [9cc047cb]\u001b[39m\u001b[91m - Ipopt_jll v3.13.2+0\u001b[39m\n",
      " \u001b[90m [d00139f3]\u001b[39m\u001b[91m - METIS_jll v5.1.0+3\u001b[39m\n",
      " \u001b[90m [d7ed1dd3]\u001b[39m\u001b[91m - MUMPS_seq_jll v5.2.1+3\u001b[39m\n",
      " \u001b[90m [656ef2d0]\u001b[39m\u001b[91m - OpenBLAS32_jll v0.3.9+4\u001b[39m\n"
     ]
    }
   ],
   "source": [
    "# Run this block once. Adds Julia packages to your Julia local installation from the package manager\n",
    "\n",
    "using Pkg               # Import functions from the package manager into this session.\n",
    "Pkg.add(\"JuMP\")         # A modeling language for Mathematical optimization in Julia.\n",
    "Pkg.add(\"Ipopt\")        # A highly performant nonlinear optimizer.\n",
    "Pkg.add(\"GLPK\")         # An open-source linear and mixed-integer linear optimizer"
   ]
  },
  {
   "cell_type": "markdown",
   "metadata": {},
   "source": [
    "## Solving Sudoku with Mixed-Integer Programming*"
   ]
  },
  {
   "cell_type": "markdown",
   "metadata": {},
   "source": [
    "* Adapted from a now defunct example by Ian Dunning at https://www.juliaopt.org/notebooks/JuMP-Sudoku.html.\n",
    "\n",
    "Sudoku is a popular number puzzle. The goal is to place the digits 1,...,9 on a nine-by-nine grid, with some of the digits already filled in. Your solution must satisfy the following rules:\n",
    "\n",
    "    The numbers 1 to 9 must appear in each 3x3 square\n",
    "    The numbers 1 to 9 must appear in each row\n",
    "    The numbers 1 to 9 must appear in each column\n",
    "\n",
    "This isn't an optimization problem, its actually a feasibility problem: we wish to find a feasible solution that satsifies these rules. You can think of it as an optimization problem with an objective of 0.\n",
    "\n",
    "We can model this problem using 0-1 integer programming: a problem where all the decision variables are binary. We'll use JuMP to create the model, and then we can solve it with any integer programming solver."
   ]
  },
  {
   "cell_type": "code",
   "execution_count": null,
   "metadata": {},
   "outputs": [],
   "source": [
    "using JuMP, GLPK                    # import functions from the JuMP & GLPK package into your current environment\n",
    "\n",
    "# Create a Sudoku model\n",
    "sudoku = Model(GLPK.Optimizer)\n",
    "\n",
    "# Create our variables\n",
    "@variable(sudoku, x[i=1:9, j=1:9, k=1:9], Bin)   # Bin indicates the variable is binary or 0-1"
   ]
  },
  {
   "cell_type": "markdown",
   "metadata": {},
   "source": [
    "Only one digit can be in each square. So for each square represented by a pair of i,j variables the sum over k should be equal to one."
   ]
  },
  {
   "cell_type": "code",
   "execution_count": null,
   "metadata": {},
   "outputs": [],
   "source": [
    "for i = 1:9, j = 1:9  \n",
    "    @constraint(sudoku, sum(x[i,j,k] for k=1:9) == 1)\n",
    "end"
   ]
  },
  {
   "cell_type": "markdown",
   "metadata": {},
   "source": [
    "Each variable can only appear once in each column."
   ]
  },
  {
   "cell_type": "code",
   "execution_count": null,
   "metadata": {},
   "outputs": [],
   "source": [
    "for ind = 1:9, k = 1:9\n",
    "    @constraint(sudoku, sum(x[i,ind,k] for i=1:9} == 1)\n",
    "end"
   ]
  },
  {
   "cell_type": "markdown",
   "metadata": {},
   "source": [
    "Each variable can only appear once in each row."
   ]
  },
  {
   "cell_type": "code",
   "execution_count": null,
   "metadata": {},
   "outputs": [],
   "source": [
    "for ind = 1:9, k = 1:9\n",
    "    # FILL IN THE CODE HERE\n",
    "end"
   ]
  },
  {
   "cell_type": "markdown",
   "metadata": {},
   "source": [
    "Each variable can only appear once in each 3-by-3 subgrid."
   ]
  },
  {
   "cell_type": "code",
   "execution_count": null,
   "metadata": {},
   "outputs": [],
   "source": [
    "# i is the top left row, j is the top left column\n",
    "# We'll sum from i to i+2, e.g. i=4, r=4, 5, 6\n",
    "for i = 1:3:7, j = 1:3:7, k = 1:9\n",
    "    @constraint(sudoku, sum(x[i,ind,k] for r=i:i+2, c=j:j+2] == 1)\n",
    "end"
   ]
  },
  {
   "cell_type": "markdown",
   "metadata": {},
   "source": [
    "Fills in the provided values using zero to represent an empty cell"
   ]
  },
  {
   "cell_type": "code",
   "execution_count": null,
   "metadata": {},
   "outputs": [],
   "source": [
    "# enter the initial values\n",
    "init_val = [ 5 3 0 0 7 0 0 0 0;\n",
    "             6 0 0 1 9 5 0 0 0;\n",
    "             0 9 8 0 0 0 0 6 0;\n",
    "             8 0 0 0 6 0 0 0 3;\n",
    "             4 0 0 8 0 3 0 0 1;\n",
    "             7 0 0 0 2 0 0 0 6;\n",
    "             0 6 0 0 0 0 2 8 0;\n",
    "             0 0 0 4 1 9 0 0 5;\n",
    "             0 0 0 0 8 0 0 7 9]\n",
    "\n",
    "# if the value is specified initially add a constraint fixing the variables to that value.\n",
    "for i = 1:9, j = 1:9\n",
    "    if init_val[i,j] != 0\n",
    "        @constraint(sudoku, x[i,j,init_sol[i,j]] == 1)\n",
    "    end\n",
    "end"
   ]
  },
  {
   "cell_type": "markdown",
   "metadata": {},
   "source": [
    "What type of optimization problem was the Suduko? Is GLPK an appropriate optimizer for this type of problem?"
   ]
  },
  {
   "cell_type": "code",
   "execution_count": null,
   "metadata": {},
   "outputs": [],
   "source": [
    "optimize!(m)"
   ]
  },
  {
   "cell_type": "markdown",
   "metadata": {},
   "source": [
    "To display the solution, we need to look for the values of x[i,j,k] that are 1."
   ]
  },
  {
   "cell_type": "code",
   "execution_count": 3,
   "metadata": {},
   "outputs": [
    {
     "ename": "UndefVarError",
     "evalue": "UndefVarError: getValue not defined",
     "output_type": "error",
     "traceback": [
      "UndefVarError: getValue not defined",
      "",
      "Stacktrace:",
      " [1] top-level scope at In[3]:1"
     ]
    }
   ],
   "source": [
    "x_val = value(x) # Extract the values of x\n",
    "sol = zeros(Int,9,9)  # Create a 9-9 integer matrix to store the solution\n",
    "\n",
    "for i in 1:9, j in 1:9, k in 1:9\n",
    "    # Integer programs are solved as a series of linear programs\n",
    "    # so the values might not be precisely 0 and 1. We can just\n",
    "    # round them to the nearest integer to make it easier\n",
    "    if iround(x_val[i,j,k]) == 1\n",
    "        sol[i,j] = k\n",
    "    end\n",
    "end\n",
    "\n",
    "# Display the solution\n",
    "println(sol)"
   ]
  },
  {
   "cell_type": "markdown",
   "metadata": {},
   "source": [
    "## How sensitive is the constraint?\n",
    "\n",
    "Duality\n",
    "\n",
    "## Some questions to reflect on"
   ]
  },
  {
   "cell_type": "code",
   "execution_count": null,
   "metadata": {},
   "outputs": [],
   "source": [
    "using JuMP, Ipopt                    # import functions from the JuMP & Ipopt package into your current environment\n",
    "\n",
    "model = Model(Ipopt.Optimizer)       # create a model which stores an optimization problem\n",
    "                                     # indicate that the optimizer Ipopt should be used to solve the model\n",
    "\n",
    "@variable(m, lb <= x <= ub)          # define the variables\n",
    "@variable(m, lb <= y <= ub)\n",
    " \n",
    "@NLconstraint(m, c, x <= 0)          # add the nonlinear constraint to the model m\n",
    "                                     # c is a constraint index (used to reference this constraint)\n",
    "\n",
    "@NLobjective(m, Min, x + y)          # add a nonlinear objective    \n",
    "optimize!(m)                         # optimize the model\n",
    "\n",
    "x_val = primal_value(x)\n",
    "y_val = primal_value(x)\n",
    "\n"
   ]
  },
  {
   "cell_type": "code",
   "execution_count": null,
   "metadata": {},
   "outputs": [],
   "source": [
    "tstatus = termination_status(m)      # Get a descriptive status \n",
    "pstatus = primal_status(m)           # Get a \n",
    "objval = objective_value(m)          #"
   ]
  },
  {
   "cell_type": "code",
   "execution_count": null,
   "metadata": {},
   "outputs": [],
   "source": []
  },
  {
   "cell_type": "markdown",
   "metadata": {},
   "source": [
    "##  Optional readings..."
   ]
  },
  {
   "cell_type": "markdown",
   "metadata": {},
   "source": [
    "- Automatic Differentiation: Software tools to generate derivatives automatically, faster \n",
    "                             and more accurately than finite difference methods "
   ]
  },
  {
   "cell_type": "code",
   "execution_count": null,
   "metadata": {},
   "outputs": [],
   "source": []
  }
 ],
 "metadata": {
  "kernelspec": {
   "display_name": "Julia 1.3.1",
   "language": "julia",
   "name": "julia-1.3"
  },
  "language_info": {
   "file_extension": ".jl",
   "mimetype": "application/julia",
   "name": "julia",
   "version": "1.3.1"
  }
 },
 "nbformat": 4,
 "nbformat_minor": 4
}
