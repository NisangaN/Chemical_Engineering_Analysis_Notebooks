{
 "cells": [
  {
   "cell_type": "markdown",
   "metadata": {},
   "source": [
    "# "
   ]
  },
  {
   "cell_type": "markdown",
   "metadata": {},
   "source": [
    "## Formulating an optimization problem\n",
    "\n",
    "Many optimizers exploit special structures in the problem formulation to speed convergence.\n",
    "moreover "
   ]
  },
  {
   "cell_type": "code",
   "execution_count": 1,
   "metadata": {},
   "outputs": [
    {
     "name": "stdout",
     "output_type": "stream",
     "text": [
      "\u001b[32m\u001b[1m  Updating\u001b[22m\u001b[39m registry at `C:\\Users\\wilhe\\.julia\\registries\\General`\n",
      "\u001b[32m\u001b[1m  Updating\u001b[22m\u001b[39m git-repo `https://github.com/JuliaRegistries/General.git`\n",
      "\u001b[2K\u001b[36m\u001b[1mFetching:\u001b[22m\u001b[39m [========================================>]  99.9 %0.0 %>                                  ]  14.9 %                                 ]  15.1 % [===============>                         ]  35.7 %]  50.5 %.1 %>             ]  67.0 %>      ]  84.5 %>    ]  88.7 %\u001b[?25h\u001b[32m\u001b[1m Resolving\u001b[22m\u001b[39m package versions...\n",
      "\u001b[32m\u001b[1m Installed\u001b[22m\u001b[39m DataAPI ───────────── v1.3.0\n",
      "\u001b[32m\u001b[1m Installed\u001b[22m\u001b[39m ArrayInterface ────── v2.8.7\n",
      "\u001b[32m\u001b[1m Installed\u001b[22m\u001b[39m BoundaryValueDiffEq ─ v2.5.0\n",
      "\u001b[32m\u001b[1m Installed\u001b[22m\u001b[39m OrderedCollections ── v1.2.0\n",
      "\u001b[32m\u001b[1m Installed\u001b[22m\u001b[39m OpenBLAS_jll ──────── v0.3.9+4\n",
      "\u001b[32m\u001b[1m Installed\u001b[22m\u001b[39m ColorTypes ────────── v0.10.3\n",
      "\u001b[32m\u001b[1m Installed\u001b[22m\u001b[39m Ipopt_jll ─────────── v3.13.2+0\n",
      "\u001b[32m\u001b[1m Installed\u001b[22m\u001b[39m JuliaInterpreter ──── v0.7.14\n",
      "\u001b[32m\u001b[1m Installed\u001b[22m\u001b[39m LoweredCodeUtils ──── v0.4.4\n",
      "\u001b[32m\u001b[1m Installed\u001b[22m\u001b[39m Parsers ───────────── v1.0.3\n",
      "\u001b[32m\u001b[1m Installed\u001b[22m\u001b[39m OpenBLAS32_jll ────── v0.3.9+4\n",
      "\u001b[32m\u001b[1m Installed\u001b[22m\u001b[39m FiniteDiff ────────── v2.3.1\n",
      "\u001b[32m\u001b[1m Installed\u001b[22m\u001b[39m CodeTracking ──────── v0.5.11\n",
      "\u001b[32m\u001b[1m Installed\u001b[22m\u001b[39m FileIO ────────────── v1.3.0\n",
      "\u001b[32m\u001b[1m Installed\u001b[22m\u001b[39m DiffEqJump ────────── v6.6.2\n",
      "\u001b[32m\u001b[1m Installed\u001b[22m\u001b[39m GeometryTypes ─────── v0.8.3\n",
      "\u001b[32m\u001b[1m Installed\u001b[22m\u001b[39m Latexify ──────────── v0.13.1\n",
      "\u001b[32m\u001b[1m Installed\u001b[22m\u001b[39m VertexSafeGraphs ──── v0.1.2\n",
      "\u001b[32m\u001b[1m Installed\u001b[22m\u001b[39m Opus_jll ──────────── v1.3.1+1\n",
      "\u001b[32m\u001b[1m Installed\u001b[22m\u001b[39m FillArrays ────────── v0.8.8\n",
      "\u001b[32m\u001b[1m Installed\u001b[22m\u001b[39m ArrayLayouts ──────── v0.2.6\n",
      "\u001b[32m\u001b[1m Installed\u001b[22m\u001b[39m SparseDiffTools ───── v1.7.1\n",
      "\u001b[32m\u001b[1m Installed\u001b[22m\u001b[39m BinaryProvider ────── v0.5.9\n",
      "\u001b[32m\u001b[1m Installed\u001b[22m\u001b[39m BandedMatrices ────── v0.15.7\n",
      "\u001b[32m\u001b[1m Installed\u001b[22m\u001b[39m Ogg_jll ───────────── v1.3.4+0\n",
      "\u001b[32m\u001b[1m Installed\u001b[22m\u001b[39m libvorbis_jll ─────── v1.3.6+3\n",
      "\u001b[32m\u001b[1m Installed\u001b[22m\u001b[39m FFTW ──────────────── v1.2.1\n",
      "\u001b[32m\u001b[1m Installed\u001b[22m\u001b[39m FlameGraphs ───────── v0.2.3\n",
      "\u001b[32m\u001b[1m Installed\u001b[22m\u001b[39m DiffEqCallbacks ───── v2.13.1\n",
      "\u001b[32m\u001b[1m Installed\u001b[22m\u001b[39m Zygote ────────────── v0.4.20\n",
      "\u001b[32m\u001b[1m  Updating\u001b[22m\u001b[39m `C:\\Users\\wilhe\\.julia\\environments\\v1.3\\Project.toml`\n",
      " \u001b[90m [53c679d3]\u001b[39m\u001b[93m ↑ McCormick v0.4.0 [`C:\\Users\\wilhe\\Desktop\\Package Development Work\\McCormick.jl`] ⇒ v0.4.1 [`C:\\Users\\wilhe\\Desktop\\Package Development Work\\McCormick.jl`]\u001b[39m\n",
      "\u001b[32m\u001b[1m  Updating\u001b[22m\u001b[39m `C:\\Users\\wilhe\\.julia\\environments\\v1.3\\Manifest.toml`\n",
      " \u001b[90m [4fba245c]\u001b[39m\u001b[93m ↑ ArrayInterface v2.8.5 ⇒ v2.8.7\u001b[39m\n",
      " \u001b[90m [4c555306]\u001b[39m\u001b[93m ↑ ArrayLayouts v0.2.4 ⇒ v0.2.6\u001b[39m\n",
      " \u001b[90m [aae01518]\u001b[39m\u001b[93m ↑ BandedMatrices v0.15.4 ⇒ v0.15.7\u001b[39m\n",
      " \u001b[90m [b99e7846]\u001b[39m\u001b[93m ↑ BinaryProvider v0.5.8 ⇒ v0.5.9\u001b[39m\n",
      " \u001b[90m [764a87c0]\u001b[39m\u001b[93m ↑ BoundaryValueDiffEq v2.3.0 ⇒ v2.5.0\u001b[39m\n",
      " \u001b[90m [da1fd8a2]\u001b[39m\u001b[93m ↑ CodeTracking v0.5.9 ⇒ v0.5.11\u001b[39m\n",
      " \u001b[90m [3da002f7]\u001b[39m\u001b[93m ↑ ColorTypes v0.10.2 ⇒ v0.10.3\u001b[39m\n",
      " \u001b[90m [9a962f9c]\u001b[39m\u001b[93m ↑ DataAPI v1.2.0 ⇒ v1.3.0\u001b[39m\n",
      " \u001b[90m [459566f4]\u001b[39m\u001b[93m ↑ DiffEqCallbacks v2.13.0 ⇒ v2.13.1\u001b[39m\n",
      " \u001b[90m [01453d9d]\u001b[39m\u001b[91m - DiffEqDiffTools v1.7.0\u001b[39m\n",
      " \u001b[90m [c894b116]\u001b[39m\u001b[93m ↑ DiffEqJump v6.6.1 ⇒ v6.6.2\u001b[39m\n",
      " \u001b[90m [7a1cc6ca]\u001b[39m\u001b[93m ↑ FFTW v1.2.0 ⇒ v1.2.1\u001b[39m\n",
      " \u001b[90m [5789e2e9]\u001b[39m\u001b[93m ↑ FileIO v1.2.4 ⇒ v1.3.0\u001b[39m\n",
      " \u001b[90m [1a297f60]\u001b[39m\u001b[93m ↑ FillArrays v0.8.7 ⇒ v0.8.8\u001b[39m\n",
      " \u001b[90m [6a86dc24]\u001b[39m\u001b[93m ↑ FiniteDiff v2.3.0 ⇒ v2.3.1\u001b[39m\n",
      " \u001b[90m [08572546]\u001b[39m\u001b[93m ↑ FlameGraphs v0.2.2 ⇒ v0.2.3\u001b[39m\n",
      " \u001b[90m [4d00f742]\u001b[39m\u001b[93m ↑ GeometryTypes v0.8.2 ⇒ v0.8.3\u001b[39m\n",
      " \u001b[90m [9cc047cb]\u001b[39m\u001b[93m ↑ Ipopt_jll v3.13.1+1 ⇒ v3.13.2+0\u001b[39m\n",
      " \u001b[90m [aa1ae85d]\u001b[39m\u001b[93m ↑ JuliaInterpreter v0.7.13 ⇒ v0.7.14\u001b[39m\n",
      " \u001b[90m [23fbe1c1]\u001b[39m\u001b[93m ↑ Latexify v0.13.0 ⇒ v0.13.1\u001b[39m\n",
      " \u001b[90m [6f1432cf]\u001b[39m\u001b[93m ↑ LoweredCodeUtils v0.4.3 ⇒ v0.4.4\u001b[39m\n",
      " \u001b[90m [53c679d3]\u001b[39m\u001b[93m ↑ McCormick v0.4.0 [`C:\\Users\\wilhe\\Desktop\\Package Development Work\\McCormick.jl`] ⇒ v0.4.1 [`C:\\Users\\wilhe\\Desktop\\Package Development Work\\McCormick.jl`]\u001b[39m\n",
      " \u001b[90m [e7412a2a]\u001b[39m\u001b[93m ↑ Ogg_jll v1.3.3+0 ⇒ v1.3.4+0\u001b[39m\n",
      " \u001b[90m [656ef2d0]\u001b[39m\u001b[93m ↑ OpenBLAS32_jll v0.3.9+2 ⇒ v0.3.9+4\u001b[39m\n",
      " \u001b[90m [4536629a]\u001b[39m\u001b[93m ↑ OpenBLAS_jll v0.3.9+2 ⇒ v0.3.9+4\u001b[39m\n",
      " \u001b[90m [91d4177d]\u001b[39m\u001b[93m ↑ Opus_jll v1.3.1+0 ⇒ v1.3.1+1\u001b[39m\n",
      " \u001b[90m [bac558e1]\u001b[39m\u001b[93m ↑ OrderedCollections v1.1.0 ⇒ v1.2.0\u001b[39m\n",
      " \u001b[90m [69de0a69]\u001b[39m\u001b[93m ↑ Parsers v1.0.2 ⇒ v1.0.3\u001b[39m\n",
      " \u001b[90m [47a9eef4]\u001b[39m\u001b[93m ↑ SparseDiffTools v1.6.0 ⇒ v1.7.1\u001b[39m\n",
      " \u001b[90m [19fa3120]\u001b[39m\u001b[93m ↑ VertexSafeGraphs v0.1.1 ⇒ v0.1.2\u001b[39m\n",
      " \u001b[90m [e88e6eb3]\u001b[39m\u001b[93m ↑ Zygote v0.4.17 ⇒ v0.4.20\u001b[39m\n",
      " \u001b[90m [f27f6e37]\u001b[39m\u001b[93m ↑ libvorbis_jll v1.3.6+2 ⇒ v1.3.6+3\u001b[39m\n",
      "\u001b[32m\u001b[1m  Building\u001b[22m\u001b[39m FFTW → `C:\\Users\\wilhe\\.julia\\packages\\FFTW\\5DZuu\\deps\\build.log`\n",
      "\u001b[32m\u001b[1m Resolving\u001b[22m\u001b[39m package versions...\n",
      "\u001b[32m\u001b[1m  Updating\u001b[22m\u001b[39m `C:\\Users\\wilhe\\.julia\\environments\\v1.3\\Project.toml`\n",
      " \u001b[90m [b6b21f68]\u001b[39m\u001b[93m ~ Ipopt v0.6.1 [`C:\\Users\\wilhe\\Desktop\\Package Development Work\\Ipopt.jl`] ⇒ v0.6.1\u001b[39m\n",
      "\u001b[32m\u001b[1m  Updating\u001b[22m\u001b[39m `C:\\Users\\wilhe\\.julia\\environments\\v1.3\\Manifest.toml`\n",
      " \u001b[90m [ae81ac8f]\u001b[39m\u001b[91m - ASL_jll v0.1.1+3\u001b[39m\n",
      " \u001b[90m [b6b21f68]\u001b[39m\u001b[93m ~ Ipopt v0.6.1 [`C:\\Users\\wilhe\\Desktop\\Package Development Work\\Ipopt.jl`] ⇒ v0.6.1\u001b[39m\n",
      " \u001b[90m [9cc047cb]\u001b[39m\u001b[91m - Ipopt_jll v3.13.2+0\u001b[39m\n",
      " \u001b[90m [d00139f3]\u001b[39m\u001b[91m - METIS_jll v5.1.0+3\u001b[39m\n",
      " \u001b[90m [d7ed1dd3]\u001b[39m\u001b[91m - MUMPS_seq_jll v5.2.1+3\u001b[39m\n",
      " \u001b[90m [656ef2d0]\u001b[39m\u001b[91m - OpenBLAS32_jll v0.3.9+4\u001b[39m\n"
     ]
    }
   ],
   "source": [
    "# Run this block once. Adds Julia packages to your Julia local installation from the package manager\n",
    "using Pkg        # Import functions from the package manager into this session.\n",
    "Pkg.add(\"JuMP\")  # A modeling language for Mathematical optimization in Julia.\n",
    "Pkg.add(\"Ipopt\") # A highly performant nonlinear optimizer."
   ]
  },
  {
   "cell_type": "code",
   "execution_count": null,
   "metadata": {},
   "outputs": [],
   "source": [
    "# import functions from the JuMP & Ipopt package into your current Julia environment\n",
    "using JuMP, Ipopt\n",
    "\n",
    "# create a model object\n",
    "model = Model(Ipopt.Optimizer)\n",
    "\n",
    "# define the variables and bounds\n",
    "@variable(m, lb <= x <= ub)\n",
    "@variable(m, lb <= y <= ub)\n",
    " \n",
    "@NLconstraint(m, c, x <= 0)   # add a nonlinear constraint, that can be referenced using the constraint index c\n",
    "\n",
    "@NLobjective(m, Min, x + y)   # add     \n",
    "optimize!(m)                  # optimize the model\n",
    "\n",
    "x_val = primal_value(x)\n",
    "y_val = primal_value(x)\n",
    "\n"
   ]
  },
  {
   "cell_type": "markdown",
   "metadata": {},
   "source": [
    "## How sensitive is the constraint?\n",
    "\n",
    "Duality"
   ]
  }
 ],
 "metadata": {
  "kernelspec": {
   "display_name": "Julia 1.3.1",
   "language": "julia",
   "name": "julia-1.3"
  },
  "language_info": {
   "file_extension": ".jl",
   "mimetype": "application/julia",
   "name": "julia",
   "version": "1.3.1"
  }
 },
 "nbformat": 4,
 "nbformat_minor": 4
}
