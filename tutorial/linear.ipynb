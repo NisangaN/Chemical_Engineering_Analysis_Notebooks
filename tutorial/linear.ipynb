{
 "cells": [
  {
   "cell_type": "markdown",
   "metadata": {},
   "source": [
    "# Linear Algebraic Systems\n",
    "\n",
    "## Learning Objectives\n",
    "- Be able to recognize a linear system.\n",
    "- Enter a linear system in a matrix vector format.\n",
    "- Solve a linear system by Gauss-Elimination.\n",
    "- Write applicable engineering models in a linear format.\n",
    "- Determine if a system is under-determined or over-determined.\n",
    "\n",
    "## Importance\n",
    "\n",
    "\n",
    "## Background\n",
    "\n",
    "\n",
    "## Example\n",
    "\n",
    "Linear algebraic systems form the \n",
    "\n",
    "Adapted from [Kokossis, Antonis C., and Christodoulos A. Floudas. \"Synthesis of isothermal reactor—separator—recycle systems.\" Chemical engineering science 46.5-6 (1991): 1361-1383.](https://www.sciencedirect.com/science/article/pii/0009250991850634)"
   ]
  },
  {
   "cell_type": "code",
   "execution_count": null,
   "metadata": {},
   "outputs": [],
   "source": []
  },
  {
   "cell_type": "markdown",
   "metadata": {},
   "source": [
    "## Solving Linear Systems\n",
    "\n",
    "When we solve a system of equations f(x) = 0, we see some vector x* such that f(x*) = 0. In the case, of a linear system we can write the Ix = x*. That is if we can perform valid operators that reduce the matrix A to the identity matrix then the corresponding right-hand side will be the solution x*\n",
    "\n",
    "##\n",
    "\n",
    "sum aix = bi\n",
    "c*(sum aux) = c*bi \n",
    "\n",
    "sum aix = bi\n",
    "sum aix = bi + 0 \n",
    "sum aix = bi + (bj - bj)\n",
    "sum aix = bi + (bj - sum ajx)\n",
    "sum aix + sum ajx = bi + bj\n"
   ]
  },
  {
   "cell_type": "markdown",
   "metadata": {},
   "source": [
    "## Example 1: Getting the right color for a coating\n",
    "\n",
    "A coating consists of a ~75% of a functional polymer mix (resin forms a solid matrix to hold pigments in place, an extender which provides adhesion to the surface, a solvent which allows the coating to be applied, and a series of additives). Common additives include bactericides, fungicides, algaecides, disperants, anti-frictive agents, and/or thixotropic agents. Three pigments (Titanium Oxide - White, ) are added to the blend in amounts 5 - 20% is used ot "
   ]
  },
  {
   "cell_type": "code",
   "execution_count": null,
   "metadata": {},
   "outputs": [],
   "source": [
    "# Define the Ax = b linear system\n",
    "A = zeros(2,2)  # Makes an 2d array of size 2-by-2. This array has 2 rows and 2 columns.\n",
    "b = zeros(2)    # Makes a column vector of size 2. A vector with 2 rows and 1 column.\n",
    "\n",
    "# fills in the first row (which corresponds to the first model equation)\n",
    "A[1,2] = 1   #\n",
    "A[1,2] = 1   #\n",
    "\n",
    "# fill in the rest below here\n"
   ]
  },
  {
   "cell_type": "code",
   "execution_count": null,
   "metadata": {},
   "outputs": [],
   "source": [
    "# Define the left-hand side of the linear system b"
   ]
  },
  {
   "cell_type": "markdown",
   "metadata": {},
   "source": [
    "## Blending Problems\n",
    "\n",
    "Gasoline... \n",
    "Paint...\n",
    "Food..."
   ]
  }
 ],
 "metadata": {
  "kernelspec": {
   "display_name": "Julia 1.3.1",
   "language": "julia",
   "name": "julia-1.3"
  },
  "language_info": {
   "file_extension": ".jl",
   "mimetype": "application/julia",
   "name": "julia",
   "version": "1.3.1"
  }
 },
 "nbformat": 4,
 "nbformat_minor": 4
}
