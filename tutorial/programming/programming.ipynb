{
 "cells": [
  {
   "cell_type": "markdown",
   "metadata": {},
   "source": [
    "#  <span style=\"color:darkblue\"> Programming in Julia </span>\n",
    "\n",
    "*Supplemental material (Julia) for Chapters 1 of \"Numerical Methods and Chemical Engineering Applications\" by Dorfman and Daoutidis*\n",
    "\n",
    "<hr style=\"border:6px solid black\"> </hr>\n",
    "\n",
    "# <span style=\"color:darkblue\"> Learning Objectives </span>\n",
    "\n",
    "### *Introductory Julia Programming*\n",
    "- Be able to write basic functions\n",
    "- Write small programs using Julia's control flow (for loop, while loop, if-else statement)\n",
    "- Learn how to input data into arrays\n",
    "- Make and format basic (line, surface) plots in Julia\n",
    "- Recognize common error codes and how to fix them.\n",
    "\n",
    "<hr style=\"border:6px solid black\"> </hr>\n",
    "\n",
    "# <span style=\"color:darkblue\"> Importance of Programming to... </span>\n",
    "\n",
    "**The experimentalist**: You'll likely need to be able intrepret experimental data you gather ([Minitab](http://www.minitab.com/en-us/case-studies/fresnillo-plc/), [JMP](https://www.jmp.com/en_us/customer-stories/kirin-beer.html)). It's also good to keep in mind that experimentalists benefit from having some modeling and programming tools at your disposal since you may need to automate laboratory equipment or design custom measurement devices. \n",
    "\n",
    "**The process engineer at a factory**: Modern industry loves continuous data collection... The typical process engineer with need to need to be able to intrepet the data provided by PI, perform analysis on this, and use computational tools to design experiments and implement quality control measure (again, using [Minitab](http://www.minitab.com/en-us/case-studies/fresnillo-plc/), [JMP](https://www.jmp.com/en_us/customer-stories/kirin-beer.html), other properiety software). \n",
    "\n",
    "**The controls engineer**: Simulation and testing of proposed controls system using Matlab/Simulink has become such standard practice that a number of major vendors such as [Rockwell Automation]() and [Ametek](https://www.ametek.com/pressreleases/news/2019/july/ametek-vis-new-intelligent-control-module-enhances) include builtin Matlab/Simulink integration. \n",
    "\n",
    "**The modeling and simulation engineer**: May use [CFD](https://www.ansys.com/-/media/ansys/corporate/resourcelibrary/article/aa-v7-i2-cardiovascular-engineering.pdf) and multiphysics packages to design products, equipment, and improve processes. In fact this specialization is highly dependent on this. While a number of important tasks require the use of specialized software, user-defined scripts often must be added to available multiphysics simulations.\n",
    "\n",
    "**The data/quantitative scientist**: You'll end up leveraging machine learning tools like PyTorch, Tensorflow, R, and Python extensively.  \n",
    "\n",
    "<hr style=\"border:6px solid black\"> </hr>"
   ]
  },
  {
   "cell_type": "markdown",
   "metadata": {},
   "source": [
    "# <span style=\"color:darkblue\"> Julia Basics </span>\n",
    "\n",
    "Julia is a novel programming language rapidly gaining adoption by a number of research groups and scientific computing organtizations and is generally viewed as a natural successor to Python. Why? It's simple, it's fast, it's open-source, and readily usable. It has a lower barrier for novice users and supports features that expert users can exploit to write, debug, and optimize code quickly. Moreover, it has a number of the software management features lacking from other scientific computing software such as Matlab.\n",
    "\n",
    "For a number of industry and research applications, computational speed is vital and Julia provides this without compromising on other aspects: https://julialang.org/benchmarks/.\n",
    "\n",
    "<hr style=\"border:2px solid gray\"> </hr>"
   ]
  },
  {
   "cell_type": "markdown",
   "metadata": {},
   "source": [
    "## *Julia - Variables & Data Types*"
   ]
  },
  {
   "cell_type": "markdown",
   "metadata": {},
   "source": [
    "When programming, we often want to store a \"peice\" of information for later use. To do this we create a variable. You can think of a variable as some box which contains a peice of data. Once you've stored the data here, you can access and manipulate it by referring to the variable."
   ]
  },
  {
   "cell_type": "code",
   "execution_count": 9,
   "metadata": {},
   "outputs": [
    {
     "data": {
      "text/plain": [
       "25"
      ]
     },
     "execution_count": 9,
     "metadata": {},
     "output_type": "execute_result"
    }
   ],
   "source": [
    "var_1 = 5           # We define the variable `var_1` and assign it the integer 5\n",
    "var_2 = \"high five\" # We define the variable `var_2` and assign it the string \"high_five\"\n",
    "var_3 = -5.0        # We define the variable `var_3` and assign it the floating point value -5.0\n",
    "\n",
    "var_1^2             # We compute the square of `var_1`"
   ]
  },
  {
   "cell_type": "markdown",
   "metadata": {},
   "source": [
    "In the above example, we made three different types of variables an **integer**, a **string**, and a **float** (floating point number). Julia supports a large number of additional types and allows for the user to introduce their own custom types. We'll try to avoid this functionality for simplicity sake. However, there are two other data types that you'll find useful:\n",
    "- **Arrays**: Arrays store a series of data which can be accessed using integer valued indices. A one-dimensional array is a vector. A two-dimensional array is a matrix. An n-dimensional matrix can represent high-order tensors.\n",
    "- **Boolean**: A value that is either `true` or `false`.\n",
    "\n",
    "Some useful functions which construct arrays are included below. Try commenting out all functions except the one of interest by adding `#` to the front of the line and then run the below block to familarize yourself which each expression."
   ]
  },
  {
   "cell_type": "markdown",
   "metadata": {},
   "source": [
    "<div class=\"alert alert-block alert-warning\">\n",
    "<b>INTERACTIVE!</b> Some useful functions which construct arrays are included below. Try commenting out \n",
    "all functions except the one of interest by adding `#` to the front of the line and then run \n",
    "the below block to familarize yourself which each expression.\n",
    "</div>"
   ]
  },
  {
   "cell_type": "code",
   "execution_count": 18,
   "metadata": {},
   "outputs": [
    {
     "data": {
      "text/plain": [
       "3×3×2 Array{Float64,3}:\n",
       "[:, :, 1] =\n",
       " 0.0  0.0  0.0\n",
       " 0.0  0.0  0.0\n",
       " 0.0  0.0  0.0\n",
       "\n",
       "[:, :, 2] =\n",
       " 0.0  0.0  0.0\n",
       " 0.0  0.0  0.0\n",
       " 0.0  0.0  0.0"
      ]
     },
     "execution_count": 18,
     "metadata": {},
     "output_type": "execute_result"
    }
   ],
   "source": [
    "zeros(3)\n",
    "zeros(4,4)\n",
    "fill(3,2,1)\n",
    "rand(2,3)\n",
    "zeros(3,3,2)"
   ]
  },
  {
   "cell_type": "markdown",
   "metadata": {},
   "source": [
    "Let's now store a value to an array and then retrieve it. The operators are referred formally called `getindex` and `set index!` and they are broadly used for store information in a variety of different collections. Both functions are commonly written in an equivalent shorthand. \n",
    "- `a[1,2]` retrieve the value stored at index `(1,2)` of `a` and is equivalent to `getindex(a, 1, 2)` \n",
    "- `a[2,1] = 3` stores the value `3` at index `(2,1)` of `a` is equivalent to `setindex!(a, 3, 1, 2)`"
   ]
  },
  {
   "cell_type": "markdown",
   "metadata": {},
   "source": [
    "<div class=\"alert alert-block alert-danger\">\n",
    "<b>Warning (Assignment vs. copying): </b> Matlab should be aware that the assignment behavior of an array is fundamentally different in Julia. For array `x`, the expression `y = x` expression gives a new name (aka reference) `y` to the same array already referenced by `x`. It does not create a new copy of the array x. So if we perform `y = x` then `y[1] = 2.0` we have also set `x[1] = 2.0. This convention is referred to as passing by pointer and is common in C++ and other programming languages as it is much faster than copying. Copies may be made using the `copy` or `deepcopy` commands.\n",
    "</div>"
   ]
  },
  {
   "cell_type": "markdown",
   "metadata": {},
   "source": [
    "You can also make arrays using a bracket notation. \n",
    "\n",
    "**Vectors** can be written by using square bracing surrounding a list of values separated by semi-colons or commas"
   ]
  },
  {
   "cell_type": "code",
   "execution_count": null,
   "metadata": {},
   "outputs": [],
   "source": [
    "a = [1; 2; 3; 4]\n",
    "b = [1.1; 2.1; 2]"
   ]
  },
  {
   "cell_type": "markdown",
   "metadata": {},
   "source": [
    "**Matrices** can also be created using the following notation, in which each new row is denoted by a semicolon `;`."
   ]
  },
  {
   "cell_type": "code",
   "execution_count": 2,
   "metadata": {},
   "outputs": [
    {
     "data": {
      "text/plain": [
       "2×2 Array{Float64,2}:\n",
       " 1.0  2.1\n",
       " 3.1  5.1"
      ]
     },
     "execution_count": 2,
     "metadata": {},
     "output_type": "execute_result"
    }
   ],
   "source": [
    "c = [1.0 2.1; 3.1 5.1]"
   ]
  },
  {
   "cell_type": "markdown",
   "metadata": {},
   "source": [
    "<div class=\"alert alert-block alert-info\">\n",
    "<b>Don't forget any commas or semicolons between entries.</b> Also make sure you are using square brackets and not parentheses. Otherwise, you may have made something that isn't a vector but might be a perfectly valid snippet of Julia code.\n",
    "</div>"
   ]
  },
  {
   "cell_type": "markdown",
   "metadata": {},
   "source": [
    "<div class=\"alert alert-block alert-info\">\n",
    "Note that in Julia, <b>1-vectors are distinct from scalar quantities (numbers)</b>. For instance, the vector (array)` [2.1]` and the number `2.1` are not equivalent.\n",
    "</div>"
   ]
  },
  {
   "cell_type": "markdown",
   "metadata": {},
   "source": [
    "<div class=\"alert alert-block alert-info\"> <b>Variables must be defined prior to being used</b> (hint: your computer reads code top to bottom and left to right). If they haven't been defined then a `UndefVarError` will be shown. </div>"
   ]
  },
  {
   "cell_type": "markdown",
   "metadata": {},
   "source": [
    "<div class=\"alert alert-block alert-warning\">\n",
    "<b>INTERACTIVE!</b> Try running the below block of code which should assign the value `2` to the variable \n",
    "`new_x` and then add `new_x` to itself and see what happens. If it doesn't work, try to fix it.\n",
    "</div>"
   ]
  },
  {
   "cell_type": "code",
   "execution_count": 12,
   "metadata": {},
   "outputs": [
    {
     "ename": "UndefVarError",
     "evalue": "UndefVarError: new_x not defined",
     "output_type": "error",
     "traceback": [
      "UndefVarError: new_x not defined",
      "",
      "Stacktrace:",
      " [1] top-level scope at In[12]:1"
     ]
    }
   ],
   "source": [
    "new_x + new_x\n",
    "new_x = 2"
   ]
  },
  {
   "cell_type": "markdown",
   "metadata": {},
   "source": [
    "<hr style=\"border:2px solid gray\"> </hr>"
   ]
  },
  {
   "cell_type": "markdown",
   "metadata": {},
   "source": [
    "## *Julia - Functions*\n",
    "\n",
    "A function is a basic programming construct that takes inputs, performs a series of operations, and then potentially returns an output. \n",
    "\n",
    "- They can be re-used and adapted readily. \n",
    "- It's much easier to check to see if small segments of code function properly than long programs. \n",
    "\n",
    "The below example we give two definitions for the function `f` which takes two arguments `x` and `y` and subtracts them. The first is an inline definition that can be used for simple functions. The later is commonly used for multi-line functions and returns the value that the last line evaluates to (unless a `return` statement is present)."
   ]
  },
  {
   "cell_type": "code",
   "execution_count": 22,
   "metadata": {},
   "outputs": [
    {
     "data": {
      "text/plain": [
       "f (generic function with 2 methods)"
      ]
     },
     "execution_count": 22,
     "metadata": {},
     "output_type": "execute_result"
    }
   ],
   "source": [
    "f(x, y) = x - y\n",
    "\n",
    "function f(x, y)\n",
    "    x - y\n",
    "end"
   ]
  },
  {
   "cell_type": "markdown",
   "metadata": {},
   "source": [
    "<div class=\"alert alert-block alert-warning\">\n",
    "<b>INTERACTIVE!</b> Try defining `x` and `y` as two element vectors and evaluating the functions as shown in the block below.\n",
    "</div>"
   ]
  },
  {
   "cell_type": "code",
   "execution_count": 23,
   "metadata": {},
   "outputs": [
    {
     "data": {
      "text/plain": [
       "2-element Array{Int64,1}:\n",
       " -1\n",
       " -3"
      ]
     },
     "execution_count": 23,
     "metadata": {},
     "output_type": "execute_result"
    }
   ],
   "source": [
    "x = # ADD A TWO ELEMENT VECTOR HERE\n",
    "y = # ADD ANOTHER TWO ELEMENT VECTOR HERE\n",
    "f(y, x)"
   ]
  },
  {
   "cell_type": "markdown",
   "metadata": {},
   "source": [
    "<div class=\"alert alert-block alert-info\">\n",
    "Notice that, we've passed `x` and `y` in the opposite order as the `x` and `y` used to define the function and as a consequence we have a result corresponding to `y - x`. This is because the arguments of `f` that correspond to `x` and `y` are determined by their position (1st or 2nd) not by their name (`x` or `y`).\n",
    "</div>\n",
    "\n",
    "<hr style=\"border:2px solid gray\"> </hr>"
   ]
  },
  {
   "cell_type": "markdown",
   "metadata": {},
   "source": [
    "## *Julia - Control Flow*\n",
    "\n",
    "While programs typical execute from top-to-bottom and left-to-right in scripts and functions a number of statements can be used to modify this. Control flow statements control the follow of the program execution. These include the **for**, **while**, **if-else**, **break**, **return**, and **continue** statements.\n",
    "\n",
    "### return statement\n",
    "A return statement stops the execution of a function, evaluates the expression in the return statement, and immediately returns the value of this expression.\n",
    "\n",
    "### if else: \n",
    "Checks a logical condition. If true, the first block of code after if is performed. If false, the second block of code is performed. \n",
    "\n",
    "An example of both an **if-else** statement and a **return** statement are included in the function below which computes the absolute value of a number."
   ]
  },
  {
   "cell_type": "code",
   "execution_count": null,
   "metadata": {},
   "outputs": [],
   "source": [
    "function absolute_value(x)\n",
    "    if x >= 0\n",
    "        return x\n",
    "    else\n",
    "        return -x\n",
    "    end\n",
    "end"
   ]
  },
  {
   "cell_type": "markdown",
   "metadata": {},
   "source": [
    "### for loop:\n",
    "\n",
    "Like Python Julia uses iterator-based for loops. The for-loop starts with the element in an iterable collection (array, range, set, etc.) and evaluates the body of the loop and advances to the next index until all elements in the collection are evaluated. In general, the for-loop takes the form:\n",
    "  \n",
    " ```julia\n",
    "for item in some_iterable_collection\n",
    "    do_something()\n",
    "    do_the_next_thing()\n",
    "    # AND SO ON\n",
    "    do_the_last_thing()\n",
    "end\n",
    "```\n"
   ]
  },
  {
   "cell_type": "markdown",
   "metadata": {},
   "source": [
    "Let's get look at an example of a `for` loop in Julia given in the below block which computes the sum of squares of all numbers between `1` and `4`. "
   ]
  },
  {
   "cell_type": "markdown",
   "metadata": {},
   "source": [
    "<div class=\"alert alert-block alert-warning\">\n",
    "<b>INTERACTIVE!</b> Add a `@show i,t` immediately below line 5 to see the behavior at each iteration.\n",
    "</div>"
   ]
  },
  {
   "cell_type": "code",
   "execution_count": 11,
   "metadata": {},
   "outputs": [],
   "source": [
    "t = 0\n",
    "\n",
    "# The iterable collection is 1:1:4 and means start a 1,advance by 1, stop after 4 it evaluates to 1,2,3,4\n",
    "for i in 1:1:4 \n",
    "    t = t + i^2   # Loop body\n",
    "end"
   ]
  },
  {
   "cell_type": "markdown",
   "metadata": {},
   "source": [
    "### while loop:"
   ]
  },
  {
   "cell_type": "markdown",
   "metadata": {},
   "source": [
    "The **while** loop evaluates the condition expression keeps evaluating the body of the **while** loop as long as \n",
    "\n",
    "```julia\n",
    "while condition\n",
    "    do_something()         # BODY OF THE LOOP\n",
    "    do_the_next_thing()\n",
    "    # AND SO ON\n",
    "    do_the_last_thing()\n",
    "end\n",
    "```"
   ]
  },
  {
   "cell_type": "markdown",
   "metadata": {},
   "source": [
    "<div class=\"alert alert-block alert-info\"> <b>Make sure your while loop will terminate. </b> If the condition never becomes false, this loop may proceed forever </div>"
   ]
  },
  {
   "cell_type": "markdown",
   "metadata": {},
   "source": [
    "### continue & break:"
   ]
  },
  {
   "cell_type": "markdown",
   "metadata": {},
   "source": [
    "- A **break** statement in a loop. Immediately terminates the loop.\n",
    "- A **continue** statement in a loop skips the remaining statements in the body of the loop and restart the loop at the next iteration."
   ]
  },
  {
   "cell_type": "markdown",
   "metadata": {},
   "source": [
    "<hr style=\"border:2px solid gray\"> </hr>"
   ]
  },
  {
   "cell_type": "markdown",
   "metadata": {},
   "source": [
    "## *Julia - Scope:*\n",
    "\n",
    "The scope of a variable is the part of a program where the variable is known and accessible. Two kinds of scope are possibe: the **global** scope or a **local** scope.\n",
    "\n",
    "- A variable in the **global** scope is accessible everywhere in the program and can be modified by any part of the code. A variable defined in the REPL, in a cell, or outside of a function is a **global** variable.\n",
    "- A variable in a **local** scope is only accessible in that scope and in other scopes defined inside it.\n",
    "\n",
    "Functions as well as the control flow elements **for**, **try-catch-finally**, **let** all introduce a local scope."
   ]
  },
  {
   "cell_type": "markdown",
   "metadata": {},
   "source": [
    "<div class=\"alert alert-block alert-info\">\n",
    "while loops have access to variables in the scope where the while loop is defined.\n",
    "</div>"
   ]
  },
  {
   "cell_type": "code",
   "execution_count": 9,
   "metadata": {},
   "outputs": [
    {
     "data": {
      "text/plain": [
       "3"
      ]
     },
     "execution_count": 9,
     "metadata": {},
     "output_type": "execute_result"
    }
   ],
   "source": [
    "z = 1\n",
    "f(x) = x + z\n",
    "f(2)"
   ]
  },
  {
   "cell_type": "code",
   "execution_count": 10,
   "metadata": {},
   "outputs": [
    {
     "data": {
      "text/plain": [
       "3"
      ]
     },
     "execution_count": 10,
     "metadata": {},
     "output_type": "execute_result"
    }
   ],
   "source": [
    "z = 1\n",
    "f(x,z) = x + z\n",
    "f(2,1)"
   ]
  },
  {
   "cell_type": "markdown",
   "metadata": {},
   "source": [
    "<div class=\"alert alert-block alert-warning\">\n",
    "<b>INTERACTIVE!</b>\n",
    "Which variables of the above blocks keeps `z` in a global scope and which uses a global scope?\n",
    "</div>"
   ]
  },
  {
   "cell_type": "markdown",
   "metadata": {},
   "source": [
    "<div class=\"alert alert-block alert-info\">\n",
    "<b>Undefined variable errors `UndefVarError` are often caused by scope issues.</b> Also make sure you are using square brackets and not parentheses. Otherwise, you may have made something that isn't a vector but might be a perfectly valid snippet of Julia code.\n",
    "</div>"
   ]
  },
  {
   "cell_type": "markdown",
   "metadata": {},
   "source": [
    "<hr style=\"border:2px solid gray\"> </hr>"
   ]
  },
  {
   "cell_type": "markdown",
   "metadata": {},
   "source": [
    "## *Julia - Getting Help*\n",
    "\n",
    "### Looking up documentation:\n",
    "\n",
    "When distributing a package of code, it's fairly typical for the developer to include documentation on each function and data type. In Julia, we can access this documentation by typing ? in a cell (or the console) and then running it. This searches the documentation for help relating to a function or keyword. Moreover, Julia will provide you with a list of potentially similar functions to check in case the searched function wasn't what you were looking for. \n",
    " \n",
    " \n",
    " <div class=\"alert alert-block alert-warning\">\n",
    "<b>INTERACTIVE!</b>\n",
    " Let's try looking up the entry pertaining to `for`.\n",
    "</div>"
   ]
  },
  {
   "cell_type": "code",
   "execution_count": 1,
   "metadata": {},
   "outputs": [
    {
     "name": "stdout",
     "output_type": "stream",
     "text": [
      "search: \u001b[0m\u001b[1mf\u001b[22m\u001b[0m\u001b[1mo\u001b[22m\u001b[0m\u001b[1mr\u001b[22m \u001b[0m\u001b[1mf\u001b[22m\u001b[0m\u001b[1mo\u001b[22m\u001b[0m\u001b[1mr\u001b[22meach \u001b[0m\u001b[1mf\u001b[22m\u001b[0m\u001b[1mo\u001b[22mld\u001b[0m\u001b[1mr\u001b[22m \u001b[0m\u001b[1mf\u001b[22ml\u001b[0m\u001b[1mo\u001b[22mo\u001b[0m\u001b[1mr\u001b[22m map\u001b[0m\u001b[1mf\u001b[22m\u001b[0m\u001b[1mo\u001b[22mld\u001b[0m\u001b[1mr\u001b[22m \u001b[0m\u001b[1mf\u001b[22mact\u001b[0m\u001b[1mo\u001b[22m\u001b[0m\u001b[1mr\u001b[22mial EO\u001b[0m\u001b[1mF\u001b[22mErr\u001b[0m\u001b[1mo\u001b[22m\u001b[0m\u001b[1mr\u001b[22m Over\u001b[0m\u001b[1mf\u001b[22ml\u001b[0m\u001b[1mo\u001b[22mwE\u001b[0m\u001b[1mr\u001b[22mror\n",
      "\n"
     ]
    },
    {
     "data": {
      "text/latex": [
       "\\begin{verbatim}\n",
       "for\n",
       "\\end{verbatim}\n",
       "\\texttt{for} loops repeatedly evaluate a block of statements while iterating over a sequence of values.\n",
       "\n",
       "\\section{Examples}\n",
       "\\begin{verbatim}\n",
       "julia> for i in [1, 4, 0]\n",
       "           println(i)\n",
       "       end\n",
       "1\n",
       "4\n",
       "0\n",
       "\\end{verbatim}\n"
      ],
      "text/markdown": [
       "```\n",
       "for\n",
       "```\n",
       "\n",
       "`for` loops repeatedly evaluate a block of statements while iterating over a sequence of values.\n",
       "\n",
       "# Examples\n",
       "\n",
       "```jldoctest\n",
       "julia> for i in [1, 4, 0]\n",
       "           println(i)\n",
       "       end\n",
       "1\n",
       "4\n",
       "0\n",
       "```\n"
      ],
      "text/plain": [
       "\u001b[36m  for\u001b[39m\n",
       "\n",
       "  \u001b[36mfor\u001b[39m loops repeatedly evaluate a block of statements while iterating over a\n",
       "  sequence of values.\n",
       "\n",
       "\u001b[1m  Examples\u001b[22m\n",
       "\u001b[1m  ≡≡≡≡≡≡≡≡≡≡\u001b[22m\n",
       "\n",
       "\u001b[36m  julia> for i in [1, 4, 0]\u001b[39m\n",
       "\u001b[36m             println(i)\u001b[39m\n",
       "\u001b[36m         end\u001b[39m\n",
       "\u001b[36m  1\u001b[39m\n",
       "\u001b[36m  4\u001b[39m\n",
       "\u001b[36m  0\u001b[39m"
      ]
     },
     "execution_count": 1,
     "metadata": {},
     "output_type": "execute_result"
    }
   ],
   "source": [
    "?for"
   ]
  },
  {
   "cell_type": "markdown",
   "metadata": {},
   "source": [
    "If the above description isn't, try visiting the Julia documentation website which is organized by topic and is searchable: https://docs.julialang.org/en/v1/. Alternatively, if you just want to work through some additional tutorials then check out all the resources at https://julialang.org/learning/."
   ]
  },
  {
   "cell_type": "markdown",
   "metadata": {},
   "source": [
    "### Finding and using a package documentation website:\n",
    "Julia packages are typically hosted on a Github repository. Visiting this site will show you all the source code as well as a readme document. Smaller packages may entirely document the functionality in the initial page but larger and more mature will provide a link Take a look at https://github.com/JuliaPlots/Plots.jl. \n",
    "- Click on the documentation badge (pictured below) to visit the full documentation website.\n",
    "\n",
    "![image.png](doc_page_pic.png)\n",
    "\n",
    "- As users have concerns, need clarifications, or identify bugs they will post issues to the git repository. These are searchable and can be a good source of information when you run into a problem. Try navigate to the issues page using the tab shown below:\n",
    "\n",
    "![image.png](issues_pic.png)\n",
    "\n",
    "### Getting help from the community: \n",
    "Generally, each programming language will have one or more forums were community member will provide advice. A popular \n",
    "- **Python**: Stackoverflow (https://stackoverflow.com/questions/tagged/python) is quite popular\n",
    "- **Julia**: Julia's Discourse channel (https://discourse.julialang.org/) is heavily trafficked and quite affable.\n",
    "- **Matlab**: Matlab Answers (https://www.mathworks.com/matlabcentral/answers/index) is a forum maintained by MathWorks."
   ]
  },
  {
   "cell_type": "markdown",
   "metadata": {},
   "source": [
    "<hr style=\"border:2px solid gray\"> </hr>"
   ]
  },
  {
   "cell_type": "markdown",
   "metadata": {},
   "source": [
    "## *Julia - Debugging Code*"
   ]
  },
  {
   "cell_type": "code",
   "execution_count": 16,
   "metadata": {},
   "outputs": [
    {
     "ename": "TypeError",
     "evalue": "TypeError: non-boolean (Int64) used in boolean context",
     "output_type": "error",
     "traceback": [
      "TypeError: non-boolean (Int64) used in boolean context",
      "",
      "Stacktrace:",
      " [1] h at .\\In[16]:9 [inlined]",
      " [2] g() at .\\In[16]:23",
      " [3] top-level scope at In[16]:27"
     ]
    }
   ],
   "source": [
    "temp = 0\n",
    "\n",
    "\"\"\"\n",
    "if `x` is greater than `y` then add `x`, `y`, and `z`. Otherwise, return `0`.\n",
    "\"\"\"\n",
    "function h(x,y,z)\n",
    "    temp = 0\n",
    "\n",
    "    if x >> y\n",
    "       temp = x + y + z\n",
    "    end\n",
    "    return temp\n",
    "end\n",
    "\n",
    "\"\"\"\n",
    "Computes a sum of `2 + i + 3` for each `i` in `1:10`.\n",
    "\"\"\"\n",
    "function g()\n",
    "    temp2 = 0\n",
    "    x = 2\n",
    "    for i = 1:10\n",
    "        y = i\n",
    "        temp2 += h(x,y,3)\n",
    "    end\n",
    "    return temp2\n",
    "end\n",
    "\n",
    "g()"
   ]
  },
  {
   "cell_type": "markdown",
   "metadata": {},
   "source": [
    "In general, there are two types of programming errors you need to concern yourself with. Either:\n",
    "- Your code runs and gives the wrong result.\n",
    "- Your code doesn't run.\n",
    "\n",
    "The latter occurs when you've input some invalid syntax. When this happens Julia will typically throw an error indicating something is wrong. These error messages are fairly informative once you get used to reading them. The first part contains a description of **what** error occured: \n",
    "\n",
    "```julia\n",
    "\"TypeError: non-boolean (Int64) used in boolean context\"\n",
    "```\n",
    "\n",
    "Below this, we have the stacktrace which provides information on **where** this error occured:\n",
    "\n",
    "```julia\n",
    "Stacktrace:\n",
    " [1] h at .\\In[3]:5 [inlined]\n",
    " [2] g() at .\\In[3]:16\n",
    " [3] top-level scope at In[3]:19\n",
    "```\n",
    "\n",
    "Not sure what an error message means? Try search it in the help."
   ]
  },
  {
   "cell_type": "code",
   "execution_count": 2,
   "metadata": {},
   "outputs": [
    {
     "name": "stdout",
     "output_type": "stream",
     "text": [
      "search: \u001b[0m\u001b[1mT\u001b[22m\u001b[0m\u001b[1my\u001b[22m\u001b[0m\u001b[1mp\u001b[22m\u001b[0m\u001b[1me\u001b[22m\u001b[0m\u001b[1mE\u001b[22m\u001b[0m\u001b[1mr\u001b[22m\u001b[0m\u001b[1mr\u001b[22m\u001b[0m\u001b[1mo\u001b[22m\u001b[0m\u001b[1mr\u001b[22m\n",
      "\n"
     ]
    },
    {
     "data": {
      "text/latex": [
       "\\begin{verbatim}\n",
       "TypeError(func::Symbol, context::AbstractString, expected::Type, got)\n",
       "\\end{verbatim}\n",
       "A type assertion failure, or calling an intrinsic function with an incorrect argument type.\n",
       "\n"
      ],
      "text/markdown": [
       "```\n",
       "TypeError(func::Symbol, context::AbstractString, expected::Type, got)\n",
       "```\n",
       "\n",
       "A type assertion failure, or calling an intrinsic function with an incorrect argument type.\n"
      ],
      "text/plain": [
       "\u001b[36m  TypeError(func::Symbol, context::AbstractString, expected::Type, got)\u001b[39m\n",
       "\n",
       "  A type assertion failure, or calling an intrinsic function with an incorrect\n",
       "  argument type."
      ]
     },
     "execution_count": 2,
     "metadata": {},
     "output_type": "execute_result"
    }
   ],
   "source": [
    "?TypeError"
   ]
  },
  {
   "cell_type": "markdown",
   "metadata": {},
   "source": [
    "<div class=\"alert alert-block alert-warning\">\n",
    "<b>INTERACTIVE!</b>\n",
    "Let's display the value that results from `x >> y`, so we can get an idea of what's happening. Add the following statement in line 5 `@show x >> y` and re-run the block.\n",
    "</div>"
   ]
  },
  {
   "cell_type": "markdown",
   "metadata": {},
   "source": [
    "<div class=\"alert alert-block alert-warning\">\n",
    "<b>INTERACTIVE!</b>\n",
    "Next, let's see what >> is supposed to do using the below block using the help documentation.\n",
    "</div>"
   ]
  },
  {
   "cell_type": "code",
   "execution_count": null,
   "metadata": {},
   "outputs": [],
   "source": []
  },
  {
   "cell_type": "markdown",
   "metadata": {},
   "source": [
    "<div class=\"alert alert-block alert-warning\">\n",
    "<b>INTERACTIVE!</b>\n",
    "Now continuing trying to fix the our original snippet of code.\n",
    "</div>"
   ]
  },
  {
   "cell_type": "markdown",
   "metadata": {},
   "source": [
    "**Huzzah! We've just worked through basic process used to fix an error that prevents your code from running.**"
   ]
  },
  {
   "cell_type": "markdown",
   "metadata": {},
   "source": [
    "<div class=\"alert alert-block alert-info\">\n",
    "The best way to avoid code that runs but gives a spurious result is by separating your program into small blocks, then checking that these small blocks or functions are performing correctly as you go.\n",
    "</div>"
   ]
  },
  {
   "cell_type": "markdown",
   "metadata": {},
   "source": [
    "<hr style=\"border:2px solid gray\"> </hr>"
   ]
  },
  {
   "cell_type": "markdown",
   "metadata": {},
   "source": [
    "## *Julia - Writing large programs*\n",
    "\n",
    "- **Plan out how you will write your code:** Take a little time to think about how to organize a program before starting. Draw a block diagram or scribble out some pseudo-code initially. Most professional programmers spend will the majority of their working time on this task.\n",
    "- **Think about how to divide your code into blocks**: Once you've decided what your code should do and identified the overall structure, think about how you can break the functionality up into small blocks. It's easier to check that small blocks of code are working correctly but potentially become a nightmare for large programs. You'll likely spend more time debugging your code than initially writing it, so anything that can simplify debugging will be well worth the investment.\n",
    "\n",
    "- **Avoid global variables**: These are fine for inputs or for testing out snippets of code but can quickly become unmanageable in larger programs. Instead of using global variables just pass any parameters by argument. Functions should be able to operate only with the supplied input arguments.\n",
    "\n",
    "- **Don't be afraid to look something up**: In general, there is alot of functionality that you'll need to pick up to effectively use a programming language. For these tutorials, we'll provide templates and some discussion when a new feature is encountered. That said, experienced programmers are constantly referring to help documentation in their everyday practice, so don't be afraid to use the documentation or ask a question on Discourse."
   ]
  },
  {
   "cell_type": "markdown",
   "metadata": {},
   "source": [
    "<hr style=\"border:6px solid black\"> </hr>"
   ]
  }
 ],
 "metadata": {
  "kernelspec": {
   "display_name": "Julia 1.3.1",
   "language": "julia",
   "name": "julia-1.3"
  },
  "language_info": {
   "file_extension": ".jl",
   "mimetype": "application/julia",
   "name": "julia",
   "version": "1.3.1"
  }
 },
 "nbformat": 4,
 "nbformat_minor": 4
}
