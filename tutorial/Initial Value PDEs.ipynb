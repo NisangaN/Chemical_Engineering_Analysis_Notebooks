{
 "cells": [
  {
   "cell_type": "markdown",
   "metadata": {},
   "source": [
    "#  <span style=\"color:darkblue\"> Initial Boundary Value PDEs </span>\n",
    "\n",
    "*Supplemental material (Julia) for Chapters 1 of \"Numerical Methods and Chemical Engineering Applications\" by Dorfman and Daoutidis*\n",
    "\n",
    "\n",
    "<hr style=\"border:6px solid black\"> </hr>\n",
    "\n",
    "# Learning Objectives\n",
    "\n",
    "- Be able to recognize Laplace & Poisson equations\n",
    "- Describe the basic steps involved in the Method of Lines (MOL)\n",
    "- How to discretize interior nodes\n",
    "- How to discretize exterior nodes for each boundary condition (Neumann, Robin, Dirichlet)\n",
    "- Solve a 1D system of PDEs using MOL with both explicit and implicit Euler's method.\n",
    "- Formulate the system of ODEs created with MOL by interlacing variables on a rectangular grid.\n",
    "- Solve a 2D system of PDEs using MOL, with interface varaibles using either explicit or implicit Euler's method.\n",
    "\n",
    "<hr style=\"border:6px solid black\"> </hr>"
   ]
  },
  {
   "cell_type": "markdown",
   "metadata": {},
   "source": [
    "One common manner of chemical reactor is that of the catalytic packed bed reactor. In this configuration, a tubular reactor is employed. This reactor is backed with a catalystic particles and the reactant flows over the catalyst bed. Depending on the nature of the reaction (endothermic vs. exothermic) several different regions of cooling jackets or heating elements may be used to maintian a desired temperature profile. Moreover, the reaction rate may also be modulated by changing the dis.\n",
    "\n",
    "One important industrial chemical is that ortho-xylene which is used to produce phthalic anhydride a common plastizer.\n",
    "\n",
    "\n",
    "In this example, we'll look at \n",
    "\n",
    "In this configuration, \n",
    "https://pubs.acs.org/doi/abs/10.1021/ie4005699\n",
    "\n",
    "Simulate a cylindrical packed bed exothermic reactor a discussion of its relevance to chemical looping combustion for both commodity chemical processing namely o-xylene (Nie 2013) and carbon capture (Hamers 2013)."
   ]
  },
  {
   "cell_type": "markdown",
   "metadata": {},
   "source": [
    "<hr style=\"border:6px solid black\"> </hr>\n",
    "\n",
    "We'll now make use \n",
    "\n",
    "Unlike typically combustion processes in which a gaseous oxygen source is used the\n",
    "\n",
    "Chemical looping combustion: https://www.sciencedirect.com/science/article/abs/pii/S1750583613001151"
   ]
  },
  {
   "cell_type": "code",
   "execution_count": null,
   "metadata": {},
   "outputs": [],
   "source": []
  },
  {
   "cell_type": "markdown",
   "metadata": {},
   "source": [
    "<hr style=\"border:6px solid black\"> </hr>\n",
    "\n",
    "# Questions for reflection\n",
    "- For a simple, what factors influence whether a system is numerically stable?\n",
    "- For IVP-PDEs, the problem size can grow quite rapidly. For a 3D systems, using 20 discretization points in each dimension leads to an 8000-by-8000 system while 256 points leads to a ~16 million by ~16 million system. As illustrated by [Jaroudi, et al.](https://www.tandfonline.com/doi/full/10.1080/00207160.2019.1613526?af=R), a large number of such systems can be solved in a few hours on standard desktop. In light of this fact, how do you think the resulting linear systems formulated and solved?\n",
    "- What are some other questions that you'd expect to be important when design a chemical looping combustion system? Can you provide some ideas of how numerical methods could be used to help answer these?\n",
    "\n",
    "<hr style=\"border:6px solid black\"> </hr>"
   ]
  },
  {
   "cell_type": "code",
   "execution_count": null,
   "metadata": {},
   "outputs": [],
   "source": []
  }
 ],
 "metadata": {
  "kernelspec": {
   "display_name": "Julia 1.3.1",
   "language": "julia",
   "name": "julia-1.3"
  },
  "language_info": {
   "file_extension": ".jl",
   "mimetype": "application/julia",
   "name": "julia",
   "version": "1.3.1"
  }
 },
 "nbformat": 4,
 "nbformat_minor": 4
}
