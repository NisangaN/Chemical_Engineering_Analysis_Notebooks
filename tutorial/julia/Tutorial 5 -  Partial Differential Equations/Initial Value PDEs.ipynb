{
 "cells": [
  {
   "cell_type": "markdown",
   "metadata": {},
   "source": [
    "#  <span style=\"color:darkblue\"> Initial Boundary Value PDEs </span>\n",
    "\n",
    "<hr style=\"border:6px solid black\"> </hr>\n",
    "\n",
    "# Learning Objectives\n",
    "\n",
    "- Be able to recognize Laplace & Poisson equations\n",
    "- Describe the basic steps involved in the Method of Lines (MOL)\n",
    "- Apply knowledge of how discretize interior nodes\n",
    "- Apply knowledge of how to discretize exterior nodes for each boundary condition (Neumann, Robin, Dirichlet)\n",
    "- Formulate the system of ODEs created with MOL by interlacing variables on a rectangular grid.\n",
    "\n",
    "<hr style=\"border:6px solid black\"> </hr>"
   ]
  },
  {
   "cell_type": "markdown",
   "metadata": {},
   "source": [
    "# Simulating a graded catalyst bed\n",
    "\n",
    "A suction pyrometer is a commonly used instrument for measuring gas phase temperatures in extemely hot environments (one example given [here](https://pubmed.ncbi.nlm.nih.gov/24248279/)). In these environments, it's quite typical to observe a large amount of radiative heat flux. This will typically dominate the heat transfer between the gas phase and an object. As a consequence, directly immersing a measurement device, such as a thermocouple or resistance temperature detector (RTD) into the process gas, will yield meaningless results. Moreover, an object left in this environment for a long period of time will increase in temperature until it too emits a significant amount of thermal radiation. So simply shielding a sensor isn't a viable solution either. This issue is circumvented by using a suction pyrometer. This device consistes of a small jacketing tube attached to a sensor (thermocouple or RTD) and a vacuum pump. By drawing gas through the tube, the jacket is cooled preventing emission, and allowing for a valid reading from the internal sensor. A picture is included below:\n",
    "\n",
    "<img src=\"pyrometer_pde_pic.png\" width=900>\n",
    "\n",
    "The key design considerations behind the suction pyrometer are the superficial velocity and Biot number needed to ensure that the temperature rise of the process gas in the jacket is minimal. We'll construct a basic model of heat transfer in this tube and use it to determine adequate settings for reading our temperature range of interest. \n",
    "\n",
    "We'll consider a constant heat capacity gas which we're measuring using a 1ft (0.3048 m) by 0.25 inch (0.00635 m) diameter tube. Heat transfer at the wall surface is proportional to the temperature difference and characterized by the Biot number.\n",
    "\n",
    "## A basic descriptive model\n",
    "\n",
    "A two-dimensional steady-state energy balance is given by:\n",
    "\n",
    "\\\\[u_s C_{p} \\frac{\\partial T}{\\partial z} = \\frac{\\Lambda}{R}\\frac{\\partial}{\\partial R}\\left(R\\frac{\\partial T}{\\partial R}\\right), \\\\]\n",
    "\n",
    "**Limiting cases:** Consider briefly under what conditions we might assume that this equation reduces to the Poisson or Laplace equations below.\n",
    "\n",
    "1. **Poisson Equation:** \\\\[\\nabla^2 x = f(x) \\\\]\n",
    "2. **Laplace Equation:** \\\\[\\nabla^2 x = 0 \\\\] \n",
    "\n",
    "Next, we assume a sufficient cooling flow exists to hold the reactor wall temperature constant at a fixed value of . Then, we can write a symmetry and cooling boundary condition:\n",
    "\n",
    "\\\\[\\left.\\frac{\\partial T}{\\partial R}\\right\\vert_{R=0} = 0 \\qquad \\qquad \\left.\\frac{\\partial T}{\\partial R}\\right\\vert_{R=R_t} = -Bi(T - T^c) \\\\]\n",
    "\n",
    "Note that the symmetry condition (at $R = 0$) is of the Neumann type and the wall boundary condition (at $R = R_t$) is of the Robin type. "
   ]
  },
  {
   "cell_type": "markdown",
   "metadata": {},
   "source": [
    "## Further model development\n",
    "\n",
    "Assume the inlet stream is well-mixed and at known temperature:\n",
    "\n",
    "\\\\[\\mathbf T(z=0)=\\mathbf T_{in}. \\\\]\n",
    "\n",
    "This is because boundary conditions are known in the radial dimension and the system is fully specified at the reactor entrance for all variables (initial temperature).\n",
    "     \n",
    "<div class=\"alert alert-block alert-info\">\n",
    "<b>Note:</b> This problem is treated as an IBVP and not a 2D BVP.\n",
    "</div>"
   ]
  },
  {
   "cell_type": "markdown",
   "metadata": {},
   "source": [
    "## Method of Lines Derivation\n",
    "\n",
    "We now make use of second-order approximations for the derivatives in the radial direction\n",
    "\n",
    "\\\\[\\left.\\frac{\\partial u}{\\partial R}\\right\\vert_{r=R_j} = \\frac{u_{j+1} - u_{j-1}}{2\\Delta R} \\\\]\n",
    "\\\\[\\left.\\frac{\\partial^2 u}{\\partial R^2}\\right\\vert_{r=R_j} = \\frac{u_{j+1} - 2u_{j} + u_{j-1}}{\\Delta R^2} \\\\]\n",
    "\n",
    "where \\\\[\\Delta R_{j} = R_{j+1} - R_{j}\\\\]"
   ]
  },
  {
   "cell_type": "markdown",
   "metadata": {},
   "source": [
    "### Method of Lines Derivation - Interior\n",
    "Applying these rules to the energy balance for the interior nodes, where  is the number of spatial nodes for discretizing the  dimension, we have\n",
    "\n",
    "\\\\[\\frac{\\partial T}{\\partial z} = \\left(u_s C_P\\right)^{-1}\\left(\\frac{\\Lambda}{R}\\frac{\\partial}{\\partial R}\\left(R\\frac{\\partial T}{\\partial R}\\right)\\right) \\\\]\n",
    "\n",
    "\n",
    "\\\\[\\left.\\frac{d T}{d z}\\right\\vert_{R=R_j} = \\left(u_s C_{p}\\right)^{-1}\\left(\\frac{D}{R}\\frac{T_{j+1} - T_{j-1}}{2\\Delta R} + D\\frac{T_{j+1} - 2T_{j} + T_{j-1}}{\\Delta R^2}\\right)  \\qquad j = 2, \\ldots, N_{r-1} \\\\]"
   ]
  },
  {
   "cell_type": "markdown",
   "metadata": {},
   "source": [
    "### Method of Lines Derivation - Center\n",
    "The discretization at the center node ($R=0, j=1$) yields: \n",
    "\n",
    "\\\\[\\frac{d T_1}{d z} = \\left(u_s C_P\\right)^{-1}\\left(\\frac{\\Lambda}{R}\\frac{T_{2} - T_{0}}{2\\Delta R} + \\Lambda \\frac{T_{2} - 2T_{1} + T_{0}}{\\Delta R^2}\\right).\\\\]\n",
    "\n",
    "From the boundary condition we have \n",
    "\n",
    "\\\\[\\left.\\frac{\\partial T}{\\partial R}\\right|_{R=0} = 0 \\Rightarrow \\frac{T_{2} - T_{0}}{2\\Delta R} = 0 \\Rightarrow  T_{0} = T_{2} \\\\]\n",
    "\n",
    "Substituting this into the previous expression yields:\n",
    "\n",
    "\\\\[\\frac{d T_1}{d z} = \\left(u_s C_P\\right)^{-1}\\left(\\frac{2\\Lambda}{\\Delta R^2}(T_{2} - T_{1})\\right). \\\\]\n",
    "\n",
    "<div class=\"alert alert-block alert-warning\">\n",
    "<b>Activity!</b> This derivation proceeded by solving obtaining algebraic equations from the boundary condition, solving them analytically for the fictive node value, and then substituting this expression in. We could have instead solved a system of coupled differential and algebraic equations (referred to as a differential-algebraic system of equations or DAEs). In many cases, the algebraic equations formed may not have an analytic (closed form) solution and we must resort to solving DAEs. What type of boundary condition(s) may lead algebraic equations with no analytic solution?\n",
    "</div>"
   ]
  },
  {
   "cell_type": "markdown",
   "metadata": {},
   "source": [
    "### Method of Lines Derivation - Wall\n",
    "The discretization at the wall node yeilds:\n",
    "\n",
    "\\\\[\\frac{d T_{N_r}}{d z} = \\left(u_s C_p\\right)^{-1}\\left(\\frac{\\Lambda}{R}\\frac{T_{N_{r+1}} - T_{N_{r-1}}}{2\\Delta R} + \\Lambda \\frac{T_{N_{r+1}} - 2T_{N_r} + T_{N_{r-1}}}{\\Delta R^2}\\right) \\\\]\n",
    "\n",
    "From the boundary condition we have\n",
    "\n",
    "\\\\[\\left.\\frac{\\partial T}{\\partial R}\\right|_{R=R_t} = 0 \\Rightarrow \\frac{T_{N_{r+1}} - T_{N_{r-1}}}{2\\Delta R} = -Bi(T_{N_r} - T^c) \\Rightarrow  T_{N_{r+1}} = T_{N_{r-1}} -2Bi\\Delta R (T_{N_r} - T^c). \\\\]\n",
    "\n",
    "Substituting this in yields:\n",
    "\n",
    "\\\\[\\frac{d T_{N_r}}{d z} = \\left(u_s C_p\\right)^{-1}\\left(\\frac{Bi\\Lambda}{R}(T^c - T_{N_r}) + \\frac{2\\Lambda}{\\Delta R^2}(T_{N_{r-1}} - T_{N_r} + Bi\\Delta R (T^c - T_{N_r}))\\right). \\\\]\n",
    "\n",
    "We'll now use a ODE solver readily available in DifferentialEquations.jl to integrate the above system of differential equations.\n",
    "\n",
    "<div class=\"alert alert-block alert-warning\">\n",
    "<b>Activity!</b> Manipulate the code below, to determine the superficial velocity at which a temperature rise of 2K is observed in the tube for gas temperatures ranging from 900 to 1000.\n",
    "</div>"
   ]
  },
  {
   "cell_type": "markdown",
   "metadata": {},
   "source": [
    "## Solution\n",
    "\n",
    "For simplicity's sake, we'll assume the following physical constants are valid over the range of interest (constant heat capacities, and thermal heat dispersion coefficients)."
   ]
  },
  {
   "cell_type": "code",
   "execution_count": 1,
   "metadata": {},
   "outputs": [],
   "source": [
    "# Input model parameters\n",
    "tube_length = 0.3048          # tube length [m]\n",
    "tube_radius = 0.00635/2       # radius [m]\n",
    "\n",
    "heat_coeff = 7.3871/3.6       # heat dispersion coefficient [J/(m s K)]\n",
    "\n",
    "Tc = 1400                     # Tube temperature [K]\n",
    "T0 = 900                      # Gas design temperature [K]  MANIPULATE THIS \n",
    "biot_number = 0.001           # Biot number, Bi \n",
    "\n",
    "us = 0.1                      # superficial flow rate (m/h) MANIPULATE THIS                        \n",
    "Cp = 0.74                     # pseudo heat capacity\n",
    "\n",
    "nr = 20                       # number of discretization points in radial direction\n",
    "delR = tube_radius/(nr - 1);   "
   ]
  },
  {
   "cell_type": "markdown",
   "metadata": {},
   "source": [
    "We'll use the adaptive step-size implicit Euler method built into DifferentialEquations.jl to solve the problem. You can read more about the built-in solvers and functionality for DifferentialEquations.jl [here](https://diffeq.sciml.ai/v2.0/). We first define the right-hand side function for the differential equation below. "
   ]
  },
  {
   "cell_type": "code",
   "execution_count": 7,
   "metadata": {},
   "outputs": [
    {
     "data": {
      "text/plain": [
       "f (generic function with 1 method)"
      ]
     },
     "execution_count": 7,
     "metadata": {},
     "output_type": "execute_result"
    }
   ],
   "source": [
    "function f(out, y, p, t)\n",
    "    # Set up center boundary condition rhs equations\n",
    "    out[1] = (Cp*us)^(-1)*((2*heat_coeff/delR^2)*(y[3] - y[1]))\n",
    "\n",
    "    # Define interior node right-hand-side equations\n",
    "    for i = 2:(nr-1)\n",
    "        r = i*delR; # get node radial position\n",
    "        # energy balance discretized equation \n",
    "        out[i] = (heat_coeff*(Cp*us)^-1)*((y[i+1] - y[i])/(2*delR*r) + (y[i+1] - 2*y[i] + y[i-1])/delR^2)\n",
    "    end\n",
    "\n",
    "    # Set up wall boundary condition rhs equations\n",
    "    r = (nr-1)*delR\n",
    "    out[nr] = (2*heat_coeff*(Cp*us)^(-1))*(y[nr - 1]/delR^2 - y[nr]*(biot_number*(1/r + 1/delR) + 1/delR^2) + \n",
    "               biot_number*(1/(2*r) + 1/delR)*Tc)\n",
    "    return \n",
    "end"
   ]
  },
  {
   "cell_type": "markdown",
   "metadata": {},
   "source": [
    "Now we build and solve the corresponding ODEs problem. \n",
    "\n",
    "<div class=\"alert alert-block alert-info\">\n",
    "<b>Note:</b> If this is your first time using DifferentialEquations.jl or Plots.jl some time may be spent precompiling. So taking a coffee break after clicking run on the below cell wouldn't be ill-advised.\n",
    "</div>"
   ]
  },
  {
   "cell_type": "code",
   "execution_count": 14,
   "metadata": {},
   "outputs": [
    {
     "name": "stderr",
     "output_type": "stream",
     "text": [
      "\u001b[32m\u001b[1m  Resolving\u001b[22m\u001b[39m package versions...\n",
      "\u001b[32m\u001b[1mNo Changes\u001b[22m\u001b[39m to `C:\\Users\\wilhe\\Project.toml`\n",
      "\u001b[32m\u001b[1mNo Changes\u001b[22m\u001b[39m to `C:\\Users\\wilhe\\Manifest.toml`\n",
      "\u001b[32m\u001b[1m  Resolving\u001b[22m\u001b[39m package versions..."
     ]
    },
    {
     "name": "stdout",
     "output_type": "stream",
     "text": [
      "ODE Integrated"
     ]
    },
    {
     "name": "stderr",
     "output_type": "stream",
     "text": [
      "\n",
      "\u001b[32m\u001b[1mNo Changes\u001b[22m\u001b[39m to `C:\\Users\\wilhe\\Project.toml`\n",
      "\u001b[32m\u001b[1mNo Changes\u001b[22m\u001b[39m to `C:\\Users\\wilhe\\Manifest.toml`\n"
     ]
    },
    {
     "name": "stdout",
     "output_type": "stream",
     "text": [
      "\n"
     ]
    }
   ],
   "source": [
    "import Pkg; Pkg.add(\"DifferentialEquations\"); Pkg.add(\"Plots\")\n",
    "using DifferentialEquations\n",
    "\n",
    "y0 = [T0 for i = 1:nr]                          # set initial condition to inlet temperature\n",
    "prob = ODEProblem(f, y0, (0, tube_length))      # create an ODE problem and solve it\n",
    "sol = solve(prob)\n",
    "println(\"ODE Integrated\")                       # Displays when complete"
   ]
  },
  {
   "cell_type": "markdown",
   "metadata": {},
   "source": [
    "We now generate a plot of the centerline temperature versus position. If Plots.jl hasn't been used before yet this may also take some time."
   ]
  },
  {
   "cell_type": "code",
   "execution_count": 15,
   "metadata": {},
   "outputs": [
    {
     "data": {
      "image/svg+xml": [
       "<?xml version=\"1.0\" encoding=\"utf-8\"?>\n",
       "<svg xmlns=\"http://www.w3.org/2000/svg\" xmlns:xlink=\"http://www.w3.org/1999/xlink\" width=\"600\" height=\"400\" viewBox=\"0 0 2400 1600\">\n",
       "<defs>\n",
       "  <clipPath id=\"clip110\">\n",
       "    <rect x=\"0\" y=\"0\" width=\"2400\" height=\"1600\"/>\n",
       "  </clipPath>\n",
       "</defs>\n",
       "<path clip-path=\"url(#clip110)\" d=\"\n",
       "M0 1600 L2400 1600 L2400 0 L0 0  Z\n",
       "  \" fill=\"#ffffff\" fill-rule=\"evenodd\" fill-opacity=\"1\"/>\n",
       "<defs>\n",
       "  <clipPath id=\"clip111\">\n",
       "    <rect x=\"480\" y=\"0\" width=\"1681\" height=\"1600\"/>\n",
       "  </clipPath>\n",
       "</defs>\n",
       "<path clip-path=\"url(#clip110)\" d=\"\n",
       "M188.612 1423.18 L2352.76 1423.18 L2352.76 47.2441 L188.612 47.2441  Z\n",
       "  \" fill=\"#ffffff\" fill-rule=\"evenodd\" fill-opacity=\"1\"/>\n",
       "<defs>\n",
       "  <clipPath id=\"clip112\">\n",
       "    <rect x=\"188\" y=\"47\" width=\"2165\" height=\"1377\"/>\n",
       "  </clipPath>\n",
       "</defs>\n",
       "<polyline clip-path=\"url(#clip112)\" style=\"stroke:#000000; stroke-width:2; stroke-opacity:0.1; fill:none\" points=\"\n",
       "  188.612,1423.18 188.612,47.2441 \n",
       "  \"/>\n",
       "<polyline clip-path=\"url(#clip112)\" style=\"stroke:#000000; stroke-width:2; stroke-opacity:0.1; fill:none\" points=\"\n",
       "  898.633,1423.18 898.633,47.2441 \n",
       "  \"/>\n",
       "<polyline clip-path=\"url(#clip112)\" style=\"stroke:#000000; stroke-width:2; stroke-opacity:0.1; fill:none\" points=\"\n",
       "  1608.65,1423.18 1608.65,47.2441 \n",
       "  \"/>\n",
       "<polyline clip-path=\"url(#clip112)\" style=\"stroke:#000000; stroke-width:2; stroke-opacity:0.1; fill:none\" points=\"\n",
       "  2318.67,1423.18 2318.67,47.2441 \n",
       "  \"/>\n",
       "<polyline clip-path=\"url(#clip110)\" style=\"stroke:#000000; stroke-width:4; stroke-opacity:1; fill:none\" points=\"\n",
       "  188.612,1423.18 2352.76,1423.18 \n",
       "  \"/>\n",
       "<polyline clip-path=\"url(#clip110)\" style=\"stroke:#000000; stroke-width:4; stroke-opacity:1; fill:none\" points=\"\n",
       "  188.612,1423.18 188.612,1406.67 \n",
       "  \"/>\n",
       "<polyline clip-path=\"url(#clip110)\" style=\"stroke:#000000; stroke-width:4; stroke-opacity:1; fill:none\" points=\"\n",
       "  898.633,1423.18 898.633,1406.67 \n",
       "  \"/>\n",
       "<polyline clip-path=\"url(#clip110)\" style=\"stroke:#000000; stroke-width:4; stroke-opacity:1; fill:none\" points=\"\n",
       "  1608.65,1423.18 1608.65,1406.67 \n",
       "  \"/>\n",
       "<polyline clip-path=\"url(#clip110)\" style=\"stroke:#000000; stroke-width:4; stroke-opacity:1; fill:none\" points=\"\n",
       "  2318.67,1423.18 2318.67,1406.67 \n",
       "  \"/>\n",
       "<path clip-path=\"url(#clip110)\" d=\"M 0 0 M170.128 1452.37 Q166.517 1452.37 164.688 1455.94 Q162.883 1459.48 162.883 1466.61 Q162.883 1473.71 164.688 1477.28 Q166.517 1480.82 170.128 1480.82 Q173.762 1480.82 175.568 1477.28 Q177.397 1473.71 177.397 1466.61 Q177.397 1459.48 175.568 1455.94 Q173.762 1452.37 170.128 1452.37 M170.128 1448.67 Q175.938 1448.67 178.994 1453.27 Q182.073 1457.86 182.073 1466.61 Q182.073 1475.33 178.994 1479.94 Q175.938 1484.52 170.128 1484.52 Q164.318 1484.52 161.239 1479.94 Q158.184 1475.33 158.184 1466.61 Q158.184 1457.86 161.239 1453.27 Q164.318 1448.67 170.128 1448.67 Z\" fill=\"#000000\" fill-rule=\"evenodd\" fill-opacity=\"1\" /><path clip-path=\"url(#clip110)\" d=\"M 0 0 M187.142 1477.97 L192.026 1477.97 L192.026 1483.85 L187.142 1483.85 L187.142 1477.97 Z\" fill=\"#000000\" fill-rule=\"evenodd\" fill-opacity=\"1\" /><path clip-path=\"url(#clip110)\" d=\"M 0 0 M207.096 1452.37 Q203.485 1452.37 201.656 1455.94 Q199.85 1459.48 199.85 1466.61 Q199.85 1473.71 201.656 1477.28 Q203.485 1480.82 207.096 1480.82 Q210.73 1480.82 212.535 1477.28 Q214.364 1473.71 214.364 1466.61 Q214.364 1459.48 212.535 1455.94 Q210.73 1452.37 207.096 1452.37 M207.096 1448.67 Q212.906 1448.67 215.961 1453.27 Q219.04 1457.86 219.04 1466.61 Q219.04 1475.33 215.961 1479.94 Q212.906 1484.52 207.096 1484.52 Q201.285 1484.52 198.207 1479.94 Q195.151 1475.33 195.151 1466.61 Q195.151 1457.86 198.207 1453.27 Q201.285 1448.67 207.096 1448.67 Z\" fill=\"#000000\" fill-rule=\"evenodd\" fill-opacity=\"1\" /><path clip-path=\"url(#clip110)\" d=\"M 0 0 M880.763 1452.37 Q877.152 1452.37 875.323 1455.94 Q873.517 1459.48 873.517 1466.61 Q873.517 1473.71 875.323 1477.28 Q877.152 1480.82 880.763 1480.82 Q884.397 1480.82 886.202 1477.28 Q888.031 1473.71 888.031 1466.61 Q888.031 1459.48 886.202 1455.94 Q884.397 1452.37 880.763 1452.37 M880.763 1448.67 Q886.573 1448.67 889.628 1453.27 Q892.707 1457.86 892.707 1466.61 Q892.707 1475.33 889.628 1479.94 Q886.573 1484.52 880.763 1484.52 Q874.953 1484.52 871.874 1479.94 Q868.818 1475.33 868.818 1466.61 Q868.818 1457.86 871.874 1453.27 Q874.953 1448.67 880.763 1448.67 Z\" fill=\"#000000\" fill-rule=\"evenodd\" fill-opacity=\"1\" /><path clip-path=\"url(#clip110)\" d=\"M 0 0 M897.776 1477.97 L902.661 1477.97 L902.661 1483.85 L897.776 1483.85 L897.776 1477.97 Z\" fill=\"#000000\" fill-rule=\"evenodd\" fill-opacity=\"1\" /><path clip-path=\"url(#clip110)\" d=\"M 0 0 M908.54 1479.92 L916.179 1479.92 L916.179 1453.55 L907.869 1455.22 L907.869 1450.96 L916.133 1449.29 L920.809 1449.29 L920.809 1479.92 L928.448 1479.92 L928.448 1483.85 L908.54 1483.85 L908.54 1479.92 Z\" fill=\"#000000\" fill-rule=\"evenodd\" fill-opacity=\"1\" /><path clip-path=\"url(#clip110)\" d=\"M 0 0 M1590.97 1452.37 Q1587.36 1452.37 1585.53 1455.94 Q1583.72 1459.48 1583.72 1466.61 Q1583.72 1473.71 1585.53 1477.28 Q1587.36 1480.82 1590.97 1480.82 Q1594.6 1480.82 1596.41 1477.28 Q1598.24 1473.71 1598.24 1466.61 Q1598.24 1459.48 1596.41 1455.94 Q1594.6 1452.37 1590.97 1452.37 M1590.97 1448.67 Q1596.78 1448.67 1599.83 1453.27 Q1602.91 1457.86 1602.91 1466.61 Q1602.91 1475.33 1599.83 1479.94 Q1596.78 1484.52 1590.97 1484.52 Q1585.16 1484.52 1582.08 1479.94 Q1579.02 1475.33 1579.02 1466.61 Q1579.02 1457.86 1582.08 1453.27 Q1585.16 1448.67 1590.97 1448.67 Z\" fill=\"#000000\" fill-rule=\"evenodd\" fill-opacity=\"1\" /><path clip-path=\"url(#clip110)\" d=\"M 0 0 M1607.98 1477.97 L1612.87 1477.97 L1612.87 1483.85 L1607.98 1483.85 L1607.98 1477.97 Z\" fill=\"#000000\" fill-rule=\"evenodd\" fill-opacity=\"1\" /><path clip-path=\"url(#clip110)\" d=\"M 0 0 M1621.96 1479.92 L1638.28 1479.92 L1638.28 1483.85 L1616.34 1483.85 L1616.34 1479.92 Q1619 1477.16 1623.58 1472.53 Q1628.19 1467.88 1629.37 1466.54 Q1631.62 1464.01 1632.5 1462.28 Q1633.4 1460.52 1633.4 1458.83 Q1633.4 1456.07 1631.45 1454.34 Q1629.53 1452.6 1626.43 1452.6 Q1624.23 1452.6 1621.78 1453.37 Q1619.35 1454.13 1616.57 1455.68 L1616.57 1450.96 Q1619.39 1449.82 1621.85 1449.25 Q1624.3 1448.67 1626.34 1448.67 Q1631.71 1448.67 1634.9 1451.35 Q1638.1 1454.04 1638.1 1458.53 Q1638.1 1460.66 1637.29 1462.58 Q1636.5 1464.48 1634.39 1467.07 Q1633.82 1467.74 1630.71 1470.96 Q1627.61 1474.15 1621.96 1479.92 Z\" fill=\"#000000\" fill-rule=\"evenodd\" fill-opacity=\"1\" /><path clip-path=\"url(#clip110)\" d=\"M 0 0 M2300.52 1452.37 Q2296.9 1452.37 2295.08 1455.94 Q2293.27 1459.48 2293.27 1466.61 Q2293.27 1473.71 2295.08 1477.28 Q2296.9 1480.82 2300.52 1480.82 Q2304.15 1480.82 2305.96 1477.28 Q2307.78 1473.71 2307.78 1466.61 Q2307.78 1459.48 2305.96 1455.94 Q2304.15 1452.37 2300.52 1452.37 M2300.52 1448.67 Q2306.33 1448.67 2309.38 1453.27 Q2312.46 1457.86 2312.46 1466.61 Q2312.46 1475.33 2309.38 1479.94 Q2306.33 1484.52 2300.52 1484.52 Q2294.71 1484.52 2291.63 1479.94 Q2288.57 1475.33 2288.57 1466.61 Q2288.57 1457.86 2291.63 1453.27 Q2294.71 1448.67 2300.52 1448.67 Z\" fill=\"#000000\" fill-rule=\"evenodd\" fill-opacity=\"1\" /><path clip-path=\"url(#clip110)\" d=\"M 0 0 M2317.53 1477.97 L2322.41 1477.97 L2322.41 1483.85 L2317.53 1483.85 L2317.53 1477.97 Z\" fill=\"#000000\" fill-rule=\"evenodd\" fill-opacity=\"1\" /><path clip-path=\"url(#clip110)\" d=\"M 0 0 M2341.65 1465.22 Q2345.01 1465.94 2346.88 1468.2 Q2348.78 1470.47 2348.78 1473.81 Q2348.78 1478.92 2345.26 1481.72 Q2341.74 1484.52 2335.26 1484.52 Q2333.08 1484.52 2330.77 1484.08 Q2328.48 1483.67 2326.02 1482.81 L2326.02 1478.3 Q2327.97 1479.43 2330.28 1480.01 Q2332.6 1480.59 2335.12 1480.59 Q2339.52 1480.59 2341.81 1478.85 Q2344.13 1477.12 2344.13 1473.81 Q2344.13 1470.75 2341.97 1469.04 Q2339.84 1467.3 2336.02 1467.3 L2332 1467.3 L2332 1463.46 L2336.21 1463.46 Q2339.66 1463.46 2341.49 1462.09 Q2343.32 1460.7 2343.32 1458.11 Q2343.32 1455.45 2341.42 1454.04 Q2339.54 1452.6 2336.02 1452.6 Q2334.1 1452.6 2331.9 1453.02 Q2329.7 1453.44 2327.07 1454.31 L2327.07 1450.15 Q2329.73 1449.41 2332.04 1449.04 Q2334.38 1448.67 2336.44 1448.67 Q2341.77 1448.67 2344.87 1451.1 Q2347.97 1453.5 2347.97 1457.63 Q2347.97 1460.5 2346.33 1462.49 Q2344.68 1464.45 2341.65 1465.22 Z\" fill=\"#000000\" fill-rule=\"evenodd\" fill-opacity=\"1\" /><path clip-path=\"url(#clip110)\" d=\"M 0 0 M1269.74 1510.27 L1269.74 1520.4 L1281.81 1520.4 L1281.81 1524.95 L1269.74 1524.95 L1269.74 1544.3 Q1269.74 1548.66 1270.92 1549.9 Q1272.13 1551.14 1275.79 1551.14 L1281.81 1551.14 L1281.81 1556.04 L1275.79 1556.04 Q1269.01 1556.04 1266.43 1553.53 Q1263.86 1550.98 1263.86 1544.3 L1263.86 1524.95 L1259.56 1524.95 L1259.56 1520.4 L1263.86 1520.4 L1263.86 1510.27 L1269.74 1510.27 Z\" fill=\"#000000\" fill-rule=\"evenodd\" fill-opacity=\"1\" /><polyline clip-path=\"url(#clip112)\" style=\"stroke:#000000; stroke-width:2; stroke-opacity:0.1; fill:none\" points=\"\n",
       "  188.612,1384.24 2352.76,1384.24 \n",
       "  \"/>\n",
       "<polyline clip-path=\"url(#clip112)\" style=\"stroke:#000000; stroke-width:2; stroke-opacity:0.1; fill:none\" points=\"\n",
       "  188.612,1100.55 2352.76,1100.55 \n",
       "  \"/>\n",
       "<polyline clip-path=\"url(#clip112)\" style=\"stroke:#000000; stroke-width:2; stroke-opacity:0.1; fill:none\" points=\"\n",
       "  188.612,816.866 2352.76,816.866 \n",
       "  \"/>\n",
       "<polyline clip-path=\"url(#clip112)\" style=\"stroke:#000000; stroke-width:2; stroke-opacity:0.1; fill:none\" points=\"\n",
       "  188.612,533.179 2352.76,533.179 \n",
       "  \"/>\n",
       "<polyline clip-path=\"url(#clip112)\" style=\"stroke:#000000; stroke-width:2; stroke-opacity:0.1; fill:none\" points=\"\n",
       "  188.612,249.493 2352.76,249.493 \n",
       "  \"/>\n",
       "<polyline clip-path=\"url(#clip110)\" style=\"stroke:#000000; stroke-width:4; stroke-opacity:1; fill:none\" points=\"\n",
       "  188.612,1423.18 188.612,47.2441 \n",
       "  \"/>\n",
       "<polyline clip-path=\"url(#clip110)\" style=\"stroke:#000000; stroke-width:4; stroke-opacity:1; fill:none\" points=\"\n",
       "  188.612,1384.24 214.582,1384.24 \n",
       "  \"/>\n",
       "<polyline clip-path=\"url(#clip110)\" style=\"stroke:#000000; stroke-width:4; stroke-opacity:1; fill:none\" points=\"\n",
       "  188.612,1100.55 214.582,1100.55 \n",
       "  \"/>\n",
       "<polyline clip-path=\"url(#clip110)\" style=\"stroke:#000000; stroke-width:4; stroke-opacity:1; fill:none\" points=\"\n",
       "  188.612,816.866 214.582,816.866 \n",
       "  \"/>\n",
       "<polyline clip-path=\"url(#clip110)\" style=\"stroke:#000000; stroke-width:4; stroke-opacity:1; fill:none\" points=\"\n",
       "  188.612,533.179 214.582,533.179 \n",
       "  \"/>\n",
       "<polyline clip-path=\"url(#clip110)\" style=\"stroke:#000000; stroke-width:4; stroke-opacity:1; fill:none\" points=\"\n",
       "  188.612,249.493 214.582,249.493 \n",
       "  \"/>\n",
       "<path clip-path=\"url(#clip110)\" d=\"M 0 0 M76.9642 1400.8 L76.9642 1396.54 Q78.7235 1397.37 80.529 1397.81 Q82.3346 1398.25 84.0707 1398.25 Q88.7003 1398.25 91.1308 1395.15 Q93.5845 1392.03 93.9317 1385.69 Q92.5891 1387.68 90.529 1388.74 Q88.4688 1389.81 85.9688 1389.81 Q80.7836 1389.81 77.7512 1386.68 Q74.742 1383.53 74.742 1378.09 Q74.742 1372.77 77.8901 1369.55 Q81.0383 1366.33 86.2697 1366.33 Q92.2651 1366.33 95.4132 1370.94 Q98.5845 1375.52 98.5845 1384.27 Q98.5845 1392.44 94.6956 1397.33 Q90.8299 1402.19 84.279 1402.19 Q82.5197 1402.19 80.7142 1401.84 Q78.9086 1401.5 76.9642 1400.8 M86.2697 1386.15 Q89.4178 1386.15 91.2465 1384 Q93.0984 1381.84 93.0984 1378.09 Q93.0984 1374.37 91.2465 1372.21 Q89.4178 1370.04 86.2697 1370.04 Q83.1216 1370.04 81.2697 1372.21 Q79.441 1374.37 79.441 1378.09 Q79.441 1381.84 81.2697 1384 Q83.1216 1386.15 86.2697 1386.15 Z\" fill=\"#000000\" fill-rule=\"evenodd\" fill-opacity=\"1\" /><path clip-path=\"url(#clip110)\" d=\"M 0 0 M113.654 1370.04 Q110.043 1370.04 108.214 1373.6 Q106.408 1377.14 106.408 1384.27 Q106.408 1391.38 108.214 1394.94 Q110.043 1398.49 113.654 1398.49 Q117.288 1398.49 119.094 1394.94 Q120.922 1391.38 120.922 1384.27 Q120.922 1377.14 119.094 1373.6 Q117.288 1370.04 113.654 1370.04 M113.654 1366.33 Q119.464 1366.33 122.52 1370.94 Q125.598 1375.52 125.598 1384.27 Q125.598 1393 122.52 1397.61 Q119.464 1402.19 113.654 1402.19 Q107.844 1402.19 104.765 1397.61 Q101.709 1393 101.709 1384.27 Q101.709 1375.52 104.765 1370.94 Q107.844 1366.33 113.654 1366.33 Z\" fill=\"#000000\" fill-rule=\"evenodd\" fill-opacity=\"1\" /><path clip-path=\"url(#clip110)\" d=\"M 0 0 M140.668 1370.04 Q137.056 1370.04 135.228 1373.6 Q133.422 1377.14 133.422 1384.27 Q133.422 1391.38 135.228 1394.94 Q137.056 1398.49 140.668 1398.49 Q144.302 1398.49 146.107 1394.94 Q147.936 1391.38 147.936 1384.27 Q147.936 1377.14 146.107 1373.6 Q144.302 1370.04 140.668 1370.04 M140.668 1366.33 Q146.478 1366.33 149.533 1370.94 Q152.612 1375.52 152.612 1384.27 Q152.612 1393 149.533 1397.61 Q146.478 1402.19 140.668 1402.19 Q134.857 1402.19 131.779 1397.61 Q128.723 1393 128.723 1384.27 Q128.723 1375.52 131.779 1370.94 Q134.857 1366.33 140.668 1366.33 Z\" fill=\"#000000\" fill-rule=\"evenodd\" fill-opacity=\"1\" /><path clip-path=\"url(#clip110)\" d=\"M 0 0 M51.6634 1113.9 L59.3023 1113.9 L59.3023 1087.53 L50.9921 1089.2 L50.9921 1084.94 L59.256 1083.27 L63.9319 1083.27 L63.9319 1113.9 L71.5707 1113.9 L71.5707 1117.83 L51.6634 1117.83 L51.6634 1113.9 Z\" fill=\"#000000\" fill-rule=\"evenodd\" fill-opacity=\"1\" /><path clip-path=\"url(#clip110)\" d=\"M 0 0 M86.6401 1086.35 Q83.029 1086.35 81.2003 1089.92 Q79.3948 1093.46 79.3948 1100.59 Q79.3948 1107.69 81.2003 1111.26 Q83.029 1114.8 86.6401 1114.8 Q90.2743 1114.8 92.0799 1111.26 Q93.9086 1107.69 93.9086 1100.59 Q93.9086 1093.46 92.0799 1089.92 Q90.2743 1086.35 86.6401 1086.35 M86.6401 1082.65 Q92.4502 1082.65 95.5058 1087.25 Q98.5845 1091.84 98.5845 1100.59 Q98.5845 1109.31 95.5058 1113.92 Q92.4502 1118.5 86.6401 1118.5 Q80.8299 1118.5 77.7512 1113.92 Q74.6957 1109.31 74.6957 1100.59 Q74.6957 1091.84 77.7512 1087.25 Q80.8299 1082.65 86.6401 1082.65 Z\" fill=\"#000000\" fill-rule=\"evenodd\" fill-opacity=\"1\" /><path clip-path=\"url(#clip110)\" d=\"M 0 0 M113.654 1086.35 Q110.043 1086.35 108.214 1089.92 Q106.408 1093.46 106.408 1100.59 Q106.408 1107.69 108.214 1111.26 Q110.043 1114.8 113.654 1114.8 Q117.288 1114.8 119.094 1111.26 Q120.922 1107.69 120.922 1100.59 Q120.922 1093.46 119.094 1089.92 Q117.288 1086.35 113.654 1086.35 M113.654 1082.65 Q119.464 1082.65 122.52 1087.25 Q125.598 1091.84 125.598 1100.59 Q125.598 1109.31 122.52 1113.92 Q119.464 1118.5 113.654 1118.5 Q107.844 1118.5 104.765 1113.92 Q101.709 1109.31 101.709 1100.59 Q101.709 1091.84 104.765 1087.25 Q107.844 1082.65 113.654 1082.65 Z\" fill=\"#000000\" fill-rule=\"evenodd\" fill-opacity=\"1\" /><path clip-path=\"url(#clip110)\" d=\"M 0 0 M140.668 1086.35 Q137.056 1086.35 135.228 1089.92 Q133.422 1093.46 133.422 1100.59 Q133.422 1107.69 135.228 1111.26 Q137.056 1114.8 140.668 1114.8 Q144.302 1114.8 146.107 1111.26 Q147.936 1107.69 147.936 1100.59 Q147.936 1093.46 146.107 1089.92 Q144.302 1086.35 140.668 1086.35 M140.668 1082.65 Q146.478 1082.65 149.533 1087.25 Q152.612 1091.84 152.612 1100.59 Q152.612 1109.31 149.533 1113.92 Q146.478 1118.5 140.668 1118.5 Q134.857 1118.5 131.779 1113.92 Q128.723 1109.31 128.723 1100.59 Q128.723 1091.84 131.779 1087.25 Q134.857 1082.65 140.668 1082.65 Z\" fill=\"#000000\" fill-rule=\"evenodd\" fill-opacity=\"1\" /><path clip-path=\"url(#clip110)\" d=\"M 0 0 M52.8903 830.21 L60.5291 830.21 L60.5291 803.845 L52.219 805.511 L52.219 801.252 L60.4828 799.586 L65.1587 799.586 L65.1587 830.21 L72.7976 830.21 L72.7976 834.146 L52.8903 834.146 L52.8903 830.21 Z\" fill=\"#000000\" fill-rule=\"evenodd\" fill-opacity=\"1\" /><path clip-path=\"url(#clip110)\" d=\"M 0 0 M78.6772 830.21 L86.316 830.21 L86.316 803.845 L78.0059 805.511 L78.0059 801.252 L86.2697 799.586 L90.9456 799.586 L90.9456 830.21 L98.5845 830.21 L98.5845 834.146 L78.6772 834.146 L78.6772 830.21 Z\" fill=\"#000000\" fill-rule=\"evenodd\" fill-opacity=\"1\" /><path clip-path=\"url(#clip110)\" d=\"M 0 0 M113.654 802.664 Q110.043 802.664 108.214 806.229 Q106.408 809.771 106.408 816.9 Q106.408 824.007 108.214 827.571 Q110.043 831.113 113.654 831.113 Q117.288 831.113 119.094 827.571 Q120.922 824.007 120.922 816.9 Q120.922 809.771 119.094 806.229 Q117.288 802.664 113.654 802.664 M113.654 798.961 Q119.464 798.961 122.52 803.567 Q125.598 808.15 125.598 816.9 Q125.598 825.627 122.52 830.233 Q119.464 834.817 113.654 834.817 Q107.844 834.817 104.765 830.233 Q101.709 825.627 101.709 816.9 Q101.709 808.15 104.765 803.567 Q107.844 798.961 113.654 798.961 Z\" fill=\"#000000\" fill-rule=\"evenodd\" fill-opacity=\"1\" /><path clip-path=\"url(#clip110)\" d=\"M 0 0 M140.668 802.664 Q137.056 802.664 135.228 806.229 Q133.422 809.771 133.422 816.9 Q133.422 824.007 135.228 827.571 Q137.056 831.113 140.668 831.113 Q144.302 831.113 146.107 827.571 Q147.936 824.007 147.936 816.9 Q147.936 809.771 146.107 806.229 Q144.302 802.664 140.668 802.664 M140.668 798.961 Q146.478 798.961 149.533 803.567 Q152.612 808.15 152.612 816.9 Q152.612 825.627 149.533 830.233 Q146.478 834.817 140.668 834.817 Q134.857 834.817 131.779 830.233 Q128.723 825.627 128.723 816.9 Q128.723 808.15 131.779 803.567 Q134.857 798.961 140.668 798.961 Z\" fill=\"#000000\" fill-rule=\"evenodd\" fill-opacity=\"1\" /><path clip-path=\"url(#clip110)\" d=\"M 0 0 M53.2606 546.524 L60.8995 546.524 L60.8995 520.158 L52.5893 521.825 L52.5893 517.566 L60.8532 515.899 L65.5291 515.899 L65.5291 546.524 L73.1679 546.524 L73.1679 550.459 L53.2606 550.459 L53.2606 546.524 Z\" fill=\"#000000\" fill-rule=\"evenodd\" fill-opacity=\"1\" /><path clip-path=\"url(#clip110)\" d=\"M 0 0 M82.2651 546.524 L98.5845 546.524 L98.5845 550.459 L76.6401 550.459 L76.6401 546.524 Q79.3022 543.769 83.8855 539.14 Q88.4919 534.487 89.6725 533.144 Q91.9178 530.621 92.7975 528.885 Q93.7002 527.126 93.7002 525.436 Q93.7002 522.681 91.7558 520.945 Q89.8345 519.209 86.7327 519.209 Q84.5336 519.209 82.0799 519.973 Q79.6494 520.737 76.8716 522.288 L76.8716 517.566 Q79.6957 516.432 82.1494 515.853 Q84.6031 515.274 86.6401 515.274 Q92.0104 515.274 95.2049 517.959 Q98.3993 520.644 98.3993 525.135 Q98.3993 527.265 97.5891 529.186 Q96.8021 531.084 94.6956 533.677 Q94.1169 534.348 91.0151 537.566 Q87.9132 540.76 82.2651 546.524 Z\" fill=\"#000000\" fill-rule=\"evenodd\" fill-opacity=\"1\" /><path clip-path=\"url(#clip110)\" d=\"M 0 0 M113.654 518.978 Q110.043 518.978 108.214 522.543 Q106.408 526.084 106.408 533.214 Q106.408 540.32 108.214 543.885 Q110.043 547.427 113.654 547.427 Q117.288 547.427 119.094 543.885 Q120.922 540.32 120.922 533.214 Q120.922 526.084 119.094 522.543 Q117.288 518.978 113.654 518.978 M113.654 515.274 Q119.464 515.274 122.52 519.881 Q125.598 524.464 125.598 533.214 Q125.598 541.941 122.52 546.547 Q119.464 551.13 113.654 551.13 Q107.844 551.13 104.765 546.547 Q101.709 541.941 101.709 533.214 Q101.709 524.464 104.765 519.881 Q107.844 515.274 113.654 515.274 Z\" fill=\"#000000\" fill-rule=\"evenodd\" fill-opacity=\"1\" /><path clip-path=\"url(#clip110)\" d=\"M 0 0 M140.668 518.978 Q137.056 518.978 135.228 522.543 Q133.422 526.084 133.422 533.214 Q133.422 540.32 135.228 543.885 Q137.056 547.427 140.668 547.427 Q144.302 547.427 146.107 543.885 Q147.936 540.32 147.936 533.214 Q147.936 526.084 146.107 522.543 Q144.302 518.978 140.668 518.978 M140.668 515.274 Q146.478 515.274 149.533 519.881 Q152.612 524.464 152.612 533.214 Q152.612 541.941 149.533 546.547 Q146.478 551.13 140.668 551.13 Q134.857 551.13 131.779 546.547 Q128.723 541.941 128.723 533.214 Q128.723 524.464 131.779 519.881 Q134.857 515.274 140.668 515.274 Z\" fill=\"#000000\" fill-rule=\"evenodd\" fill-opacity=\"1\" /><path clip-path=\"url(#clip110)\" d=\"M 0 0 M52.3116 262.838 L59.9504 262.838 L59.9504 236.472 L51.6403 238.139 L51.6403 233.879 L59.9041 232.213 L64.58 232.213 L64.58 262.838 L72.2189 262.838 L72.2189 266.773 L52.3116 266.773 L52.3116 262.838 Z\" fill=\"#000000\" fill-rule=\"evenodd\" fill-opacity=\"1\" /><path clip-path=\"url(#clip110)\" d=\"M 0 0 M91.4549 248.139 Q94.8113 248.856 96.6863 251.125 Q98.5845 253.393 98.5845 256.726 Q98.5845 261.842 95.066 264.643 Q91.5475 267.444 85.066 267.444 Q82.8901 267.444 80.5753 267.004 Q78.2836 266.588 75.83 265.731 L75.83 261.217 Q77.7744 262.351 80.0892 262.93 Q82.404 263.509 84.9271 263.509 Q89.3253 263.509 91.6169 261.773 Q93.9317 260.037 93.9317 256.726 Q93.9317 253.671 91.7789 251.958 Q89.6493 250.222 85.8299 250.222 L81.8021 250.222 L81.8021 246.379 L86.0151 246.379 Q89.4641 246.379 91.2928 245.014 Q93.1215 243.625 93.1215 241.032 Q93.1215 238.37 91.2234 236.958 Q89.3484 235.523 85.8299 235.523 Q83.9086 235.523 81.7096 235.94 Q79.5105 236.356 76.8716 237.236 L76.8716 233.069 Q79.5336 232.328 81.8484 231.958 Q84.1864 231.588 86.2466 231.588 Q91.5706 231.588 94.6724 234.018 Q97.7743 236.426 97.7743 240.546 Q97.7743 243.416 96.1308 245.407 Q94.4873 247.375 91.4549 248.139 Z\" fill=\"#000000\" fill-rule=\"evenodd\" fill-opacity=\"1\" /><path clip-path=\"url(#clip110)\" d=\"M 0 0 M113.654 235.291 Q110.043 235.291 108.214 238.856 Q106.408 242.398 106.408 249.527 Q106.408 256.634 108.214 260.199 Q110.043 263.74 113.654 263.74 Q117.288 263.74 119.094 260.199 Q120.922 256.634 120.922 249.527 Q120.922 242.398 119.094 238.856 Q117.288 235.291 113.654 235.291 M113.654 231.588 Q119.464 231.588 122.52 236.194 Q125.598 240.778 125.598 249.527 Q125.598 258.254 122.52 262.861 Q119.464 267.444 113.654 267.444 Q107.844 267.444 104.765 262.861 Q101.709 258.254 101.709 249.527 Q101.709 240.778 104.765 236.194 Q107.844 231.588 113.654 231.588 Z\" fill=\"#000000\" fill-rule=\"evenodd\" fill-opacity=\"1\" /><path clip-path=\"url(#clip110)\" d=\"M 0 0 M140.668 235.291 Q137.056 235.291 135.228 238.856 Q133.422 242.398 133.422 249.527 Q133.422 256.634 135.228 260.199 Q137.056 263.74 140.668 263.74 Q144.302 263.74 146.107 260.199 Q147.936 256.634 147.936 249.527 Q147.936 242.398 146.107 238.856 Q144.302 235.291 140.668 235.291 M140.668 231.588 Q146.478 231.588 149.533 236.194 Q152.612 240.778 152.612 249.527 Q152.612 258.254 149.533 262.861 Q146.478 267.444 140.668 267.444 Q134.857 267.444 131.779 262.861 Q128.723 258.254 128.723 249.527 Q128.723 240.778 131.779 236.194 Q134.857 231.588 140.668 231.588 Z\" fill=\"#000000\" fill-rule=\"evenodd\" fill-opacity=\"1\" /><polyline clip-path=\"url(#clip112)\" style=\"stroke:#009af9; stroke-width:4; stroke-opacity:1; fill:none\" points=\"\n",
       "  188.612,1384.24 190.778,1378.81 192.945,1373.4 195.111,1368.01 197.277,1362.65 199.444,1357.31 201.61,1351.99 203.776,1346.69 205.942,1341.41 208.109,1336.15 \n",
       "  210.275,1330.92 212.441,1325.71 214.608,1320.52 216.774,1315.35 218.94,1310.2 221.107,1305.07 223.273,1299.97 225.439,1294.88 227.606,1289.82 229.772,1284.78 \n",
       "  231.938,1279.75 234.104,1274.75 236.271,1269.77 238.437,1264.81 240.603,1259.87 242.77,1254.95 244.936,1250.05 247.102,1245.17 249.269,1240.32 251.435,1235.48 \n",
       "  253.601,1230.66 255.768,1225.86 257.934,1221.08 260.1,1216.32 262.267,1211.58 264.433,1206.86 266.599,1202.16 268.765,1197.48 270.932,1192.81 273.098,1188.17 \n",
       "  275.264,1183.55 277.431,1178.94 279.597,1174.36 281.763,1169.8 283.93,1165.25 286.096,1160.72 288.262,1156.21 290.429,1151.72 292.595,1147.25 294.761,1142.79 \n",
       "  296.927,1138.35 299.094,1133.93 301.26,1129.53 303.426,1125.14 305.593,1120.77 307.759,1116.42 309.925,1112.09 312.092,1107.78 314.258,1103.5 316.424,1099.23 \n",
       "  318.591,1094.98 320.757,1090.74 322.923,1086.52 325.089,1082.32 327.256,1078.13 329.422,1073.96 331.588,1069.81 333.755,1065.67 335.921,1061.54 338.087,1057.44 \n",
       "  340.254,1053.35 342.42,1049.27 344.586,1045.21 346.753,1041.17 348.919,1037.14 351.085,1033.13 353.252,1029.13 355.418,1025.15 357.584,1021.18 359.75,1017.24 \n",
       "  361.917,1013.3 364.083,1009.39 366.249,1005.49 368.416,1001.61 370.582,997.752 372.748,993.907 374.915,990.079 377.081,986.268 379.247,982.475 381.414,978.698 \n",
       "  383.58,974.939 385.746,971.197 387.912,967.472 390.079,963.765 392.245,960.074 394.411,956.401 396.578,952.745 398.744,949.106 400.91,945.485 403.077,941.878 \n",
       "  405.243,938.284 407.409,934.703 409.576,931.134 411.742,927.578 413.908,924.035 416.075,920.505 418.241,916.988 420.407,913.483 422.573,909.991 424.74,906.512 \n",
       "  426.906,903.046 429.072,899.593 431.239,896.152 433.405,892.724 435.571,889.309 437.738,885.907 439.904,882.517 442.07,879.141 444.237,875.777 446.403,872.426 \n",
       "  448.569,869.088 450.735,865.762 452.902,862.45 455.068,859.15 457.234,855.89 459.401,852.645 461.567,849.412 463.733,846.19 465.9,842.981 468.066,839.784 \n",
       "  470.232,836.599 472.399,833.425 474.565,830.264 476.731,827.115 478.898,823.977 481.064,820.852 483.23,817.739 485.396,814.637 487.563,811.548 489.729,808.47 \n",
       "  491.895,805.405 494.062,802.351 496.228,799.31 498.394,796.28 500.561,793.263 502.727,790.257 504.893,787.264 507.06,784.282 509.226,781.313 511.392,778.355 \n",
       "  513.558,775.409 515.725,772.476 517.891,769.554 520.057,766.655 522.224,763.77 524.39,760.897 526.556,758.035 528.723,755.184 530.889,752.344 533.055,749.514 \n",
       "  535.222,746.696 537.388,743.889 539.554,741.093 541.721,738.308 543.887,735.533 546.053,732.77 548.219,730.018 550.386,727.277 552.552,724.547 554.718,721.828 \n",
       "  556.885,719.12 559.051,716.423 561.217,713.737 563.384,711.061 565.55,708.397 567.716,705.744 569.883,703.102 572.049,700.471 574.215,697.851 576.381,695.242 \n",
       "  578.548,692.644 580.714,690.057 582.88,687.481 585.047,684.916 587.213,682.362 589.379,679.819 591.546,677.287 593.712,674.766 595.878,672.254 598.045,669.753 \n",
       "  600.211,667.261 602.377,664.779 604.544,662.306 606.71,659.844 608.876,657.391 611.042,654.949 613.209,652.516 615.375,650.093 617.541,647.68 619.708,645.276 \n",
       "  621.874,642.883 624.04,640.499 626.207,638.125 628.373,635.762 630.539,633.407 632.706,631.063 634.872,628.729 637.038,626.404 639.204,624.089 641.371,621.785 \n",
       "  643.537,619.49 645.703,617.204 647.87,614.929 650.036,612.663 652.202,610.408 654.369,608.162 656.535,605.926 658.701,603.7 660.868,601.484 663.034,599.277 \n",
       "  665.2,597.081 667.367,594.894 669.533,592.717 671.699,590.542 673.865,588.373 676.032,586.212 678.198,584.059 680.364,581.915 682.531,579.78 684.697,577.654 \n",
       "  686.863,575.536 689.03,573.427 691.196,571.327 693.362,569.236 695.529,567.153 697.695,565.078 699.861,563.013 702.027,560.956 704.194,558.908 706.36,556.868 \n",
       "  708.526,554.837 710.693,552.815 712.859,550.802 715.025,548.797 717.192,546.801 719.358,544.813 721.524,542.834 723.691,540.864 725.857,538.903 728.023,536.95 \n",
       "  730.19,535.006 732.356,533.071 734.522,531.144 736.688,529.226 738.855,527.317 741.021,525.416 743.187,523.524 745.354,521.641 747.52,519.767 749.686,517.901 \n",
       "  751.853,516.044 754.019,514.195 756.185,512.355 758.352,510.524 760.518,508.7 762.684,506.878 764.85,505.064 767.017,503.257 769.183,501.456 771.349,499.662 \n",
       "  773.516,497.874 775.682,496.094 777.848,494.32 780.015,492.553 782.181,490.793 784.347,489.039 786.514,487.292 788.68,485.552 790.846,483.819 793.013,482.092 \n",
       "  795.179,480.372 797.345,478.659 799.511,476.953 801.678,475.253 803.844,473.56 806.01,471.874 808.177,470.195 810.343,468.522 812.509,466.856 814.676,465.197 \n",
       "  816.842,463.544 819.008,461.899 821.175,460.26 823.341,458.627 825.507,457.002 827.673,455.383 829.84,453.771 832.006,452.166 834.172,450.568 836.339,448.976 \n",
       "  838.505,447.391 840.671,445.813 842.838,444.241 845.004,442.676 847.17,441.118 849.337,439.567 851.503,438.023 853.669,436.485 855.836,434.954 858.002,433.429 \n",
       "  860.168,431.913 862.334,430.404 864.501,428.9 866.667,427.402 868.833,425.909 871,424.423 873.166,422.942 875.332,421.467 877.499,419.997 879.665,418.533 \n",
       "  881.831,417.075 883.998,415.623 886.164,414.176 888.33,412.735 890.496,411.3 892.663,409.87 894.829,408.447 896.995,407.029 899.162,405.616 901.328,404.209 \n",
       "  903.494,402.808 905.661,401.413 907.827,400.024 909.993,398.64 912.16,397.262 914.326,395.889 916.492,394.522 918.659,393.161 920.825,391.806 922.991,390.456 \n",
       "  925.157,389.113 927.324,387.774 929.49,386.442 931.656,385.115 933.823,383.794 935.989,382.479 938.155,381.169 940.322,379.865 942.488,378.567 944.654,377.274 \n",
       "  946.821,375.988 948.987,374.706 951.153,373.431 953.319,372.161 955.486,370.897 957.652,369.639 959.818,368.387 961.985,367.14 964.151,365.899 966.317,364.663 \n",
       "  968.484,363.435 970.65,362.216 972.816,361.001 974.983,359.791 977.149,358.585 979.315,357.383 981.482,356.186 983.648,354.993 985.814,353.804 987.98,352.619 \n",
       "  990.147,351.439 992.313,350.262 994.479,349.091 996.646,347.923 998.812,346.76 1000.98,345.601 1003.14,344.446 1005.31,343.296 1007.48,342.149 1009.64,341.007 \n",
       "  1011.81,339.87 1013.98,338.736 1016.14,337.607 1018.31,336.482 1020.48,335.362 1022.64,334.245 1024.81,333.133 1026.97,332.026 1029.14,330.922 1031.31,329.823 \n",
       "  1033.47,328.728 1035.64,327.637 1037.81,326.551 1039.97,325.468 1042.14,324.391 1044.3,323.317 1046.47,322.248 1048.64,321.182 1050.8,320.122 1052.97,319.065 \n",
       "  1055.14,318.013 1057.3,316.965 1059.47,315.921 1061.63,314.882 1063.8,313.846 1065.97,312.815 1068.13,311.789 1070.3,310.766 1072.47,309.748 1074.63,308.734 \n",
       "  1076.8,307.725 1078.97,306.72 1081.13,305.719 1083.3,304.722 1085.46,303.729 1087.63,302.741 1089.8,301.763 1091.96,300.795 1094.13,299.829 1096.3,298.868 \n",
       "  1098.46,297.909 1100.63,296.954 1102.79,296.003 1104.96,295.055 1107.13,294.11 1109.29,293.169 1111.46,292.232 1113.63,291.297 1115.79,290.366 1117.96,289.439 \n",
       "  1120.13,288.515 1122.29,287.595 1124.46,286.678 1126.62,285.764 1128.79,284.854 1130.96,283.947 1133.12,283.044 1135.29,282.144 1137.46,281.248 1139.62,280.355 \n",
       "  1141.79,279.465 1143.95,278.579 1146.12,277.697 1148.29,276.818 1150.45,275.942 1152.62,275.07 1154.79,274.201 1156.95,273.336 1159.12,272.474 1161.29,271.615 \n",
       "  1163.45,270.76 1165.62,269.909 1167.78,269.06 1169.95,268.216 1172.12,267.374 1174.28,266.537 1176.45,265.702 1178.62,264.871 1180.78,264.044 1182.95,263.22 \n",
       "  1185.11,262.399 1187.28,261.582 1189.45,260.768 1191.61,259.958 1193.78,259.151 1195.95,258.348 1198.11,257.548 1200.28,256.751 1202.45,255.958 1204.61,255.169 \n",
       "  1206.78,254.382 1208.94,253.6 1211.11,252.82 1213.28,252.045 1215.44,251.272 1217.61,250.503 1219.78,249.738 1221.94,248.978 1224.11,248.225 1226.27,247.475 \n",
       "  1228.44,246.727 1230.61,245.982 1232.77,245.239 1234.94,244.5 1237.11,243.762 1239.27,243.028 1241.44,242.296 1243.61,241.567 1245.77,240.841 1247.94,240.117 \n",
       "  1250.1,239.396 1252.27,238.678 1254.44,237.962 1256.6,237.249 1258.77,236.539 1260.94,235.832 1263.1,235.127 1265.27,234.425 1267.43,233.725 1269.6,233.028 \n",
       "  1271.77,232.334 1273.93,231.642 1276.1,230.954 1278.27,230.267 1280.43,229.584 1282.6,228.903 1284.76,228.225 1286.93,227.55 1289.1,226.877 1291.26,226.207 \n",
       "  1293.43,225.539 1295.6,224.875 1297.76,224.213 1299.93,223.553 1302.1,222.897 1304.26,222.243 1306.43,221.591 1308.59,220.943 1310.76,220.297 1312.93,219.654 \n",
       "  1315.09,219.013 1317.26,218.375 1319.43,217.74 1321.59,217.107 1323.76,216.478 1325.92,215.85 1328.09,215.226 1330.26,214.604 1332.42,213.985 1334.59,213.368 \n",
       "  1336.76,212.755 1338.92,212.144 1341.09,211.535 1343.26,210.929 1345.42,210.326 1347.59,209.726 1349.75,209.128 1351.92,208.533 1354.09,207.941 1356.25,207.351 \n",
       "  1358.42,206.764 1360.59,206.18 1362.75,205.598 1364.92,205.019 1367.08,204.444 1369.25,203.872 1371.42,203.303 1373.58,202.736 1375.75,202.17 1377.92,201.607 \n",
       "  1380.08,201.046 1382.25,200.487 1384.42,199.93 1386.58,199.375 1388.75,198.822 1390.91,198.271 1393.08,197.722 1395.25,197.175 1397.41,196.63 1399.58,196.087 \n",
       "  1401.75,195.546 1403.91,195.008 1406.08,194.471 1408.24,193.936 1410.41,193.403 1412.58,192.873 1414.74,192.344 1416.91,191.818 1419.08,191.293 1421.24,190.771 \n",
       "  1423.41,190.25 1425.58,189.732 1427.74,189.215 1429.91,188.701 1432.07,188.189 1434.24,187.678 1436.41,187.17 1438.57,186.664 1440.74,186.16 1442.91,185.658 \n",
       "  1445.07,185.158 1447.24,184.659 1449.4,184.163 1451.57,183.669 1453.74,183.177 1455.9,182.688 1458.07,182.2 1460.24,181.714 1462.4,181.23 1464.57,180.748 \n",
       "  1466.74,180.268 1468.9,179.791 1471.07,179.315 1473.23,178.841 1475.4,178.37 1477.57,177.9 1479.73,177.433 1481.9,176.967 1484.07,176.504 1486.23,176.042 \n",
       "  1488.4,175.583 1490.56,175.126 1492.73,174.67 1494.9,174.217 1497.06,173.766 1499.23,173.317 1501.4,172.869 1503.56,172.424 1505.73,171.981 1507.89,171.54 \n",
       "  1510.06,171.101 1512.23,170.664 1514.39,170.229 1516.56,169.796 1518.73,169.365 1520.89,168.936 1523.06,168.51 1525.23,168.085 1527.39,167.662 1529.56,167.241 \n",
       "  1531.72,166.822 1533.89,166.404 1536.06,165.987 1538.22,165.573 1540.39,165.159 1542.56,164.747 1544.72,164.337 1546.89,163.928 1549.05,163.52 1551.22,163.115 \n",
       "  1553.39,162.71 1555.55,162.307 1557.72,161.906 1559.89,161.506 1562.05,161.107 1564.22,160.71 1566.39,160.315 1568.55,159.921 1570.72,159.528 1572.88,159.137 \n",
       "  1575.05,158.748 1577.22,158.36 1579.38,157.973 1581.55,157.588 1583.72,157.205 1585.88,156.823 1588.05,156.442 1590.21,156.063 1592.38,155.686 1594.55,155.31 \n",
       "  1596.71,154.935 1598.88,154.562 1601.05,154.19 1603.21,153.82 1605.38,153.452 1607.55,153.085 1609.71,152.719 1611.88,152.355 1614.04,151.992 1616.21,151.631 \n",
       "  1618.38,151.271 1620.54,150.913 1622.71,150.557 1624.88,150.202 1627.04,149.848 1629.21,149.496 1631.37,149.145 1633.54,148.796 1635.71,148.448 1637.87,148.102 \n",
       "  1640.04,147.757 1642.21,147.414 1644.37,147.072 1646.54,146.732 1648.71,146.394 1650.87,146.056 1653.04,145.721 1655.2,145.386 1657.37,145.054 1659.54,144.722 \n",
       "  1661.7,144.393 1663.87,144.064 1666.04,143.738 1668.2,143.412 1670.37,143.089 1672.53,142.766 1674.7,142.446 1676.87,142.126 1679.03,141.808 1681.2,141.492 \n",
       "  1683.37,141.177 1685.53,140.864 1687.7,140.552 1689.86,140.242 1692.03,139.933 1694.2,139.626 1696.36,139.32 1698.53,139.015 1700.7,138.713 1702.86,138.411 \n",
       "  1705.03,138.111 1707.2,137.815 1709.36,137.52 1711.53,137.226 1713.69,136.933 1715.86,136.641 1718.03,136.35 1720.19,136.06 1722.36,135.771 1724.53,135.483 \n",
       "  1726.69,135.196 1728.86,134.91 1731.02,134.625 1733.19,134.34 1735.36,134.057 1737.52,133.775 1739.69,133.493 1741.86,133.213 1744.02,132.934 1746.19,132.655 \n",
       "  1748.36,132.378 1750.52,132.101 1752.69,131.825 1754.85,131.551 1757.02,131.277 1759.19,131.004 1761.35,130.733 1763.52,130.462 1765.69,130.192 1767.85,129.923 \n",
       "  1770.02,129.655 1772.18,129.388 1774.35,129.123 1776.52,128.858 1778.68,128.593 1780.85,128.33 1783.02,128.068 1785.18,127.807 1787.35,127.547 1789.52,127.288 \n",
       "  1791.68,127.03 1793.85,126.772 1796.01,126.516 1798.18,126.261 1800.35,126.006 1802.51,125.753 1804.68,125.5 1806.85,125.249 1809.01,124.998 1811.18,124.749 \n",
       "  1813.34,124.5 1815.51,124.252 1817.68,124.006 1819.84,123.76 1822.01,123.515 1824.18,123.271 1826.34,123.028 1828.51,122.787 1830.68,122.546 1832.84,122.306 \n",
       "  1835.01,122.067 1837.17,121.829 1839.34,121.592 1841.51,121.355 1843.67,121.12 1845.84,120.886 1848.01,120.653 1850.17,120.421 1852.34,120.189 1854.5,119.959 \n",
       "  1856.67,119.73 1858.84,119.501 1861,119.274 1863.17,119.047 1865.34,118.822 1867.5,118.597 1869.67,118.374 1871.84,118.151 1874,117.929 1876.17,117.709 \n",
       "  1878.33,117.489 1880.5,117.27 1882.67,117.052 1884.83,116.836 1887,116.62 1889.17,116.405 1891.33,116.191 1893.5,115.978 1895.66,115.766 1897.83,115.555 \n",
       "  1900,115.345 1902.16,115.136 1904.33,114.929 1906.5,114.724 1908.66,114.52 1910.83,114.317 1912.99,114.115 1915.16,113.913 1917.33,113.712 1919.49,113.511 \n",
       "  1921.66,113.311 1923.83,113.112 1925.99,112.914 1928.16,112.717 1930.33,112.52 1932.49,112.324 1934.66,112.128 1936.82,111.933 1938.99,111.739 1941.16,111.546 \n",
       "  1943.32,111.353 1945.49,111.162 1947.66,110.97 1949.82,110.78 1951.99,110.59 1954.15,110.401 1956.32,110.213 1958.49,110.025 1960.65,109.838 1962.82,109.652 \n",
       "  1964.99,109.467 1967.15,109.282 1969.32,109.098 1971.49,108.915 1973.65,108.732 1975.82,108.55 1977.98,108.369 1980.15,108.189 1982.32,108.009 1984.48,107.83 \n",
       "  1986.65,107.652 1988.82,107.474 1990.98,107.297 1993.15,107.121 1995.31,106.945 1997.48,106.771 1999.65,106.597 2001.81,106.423 2003.98,106.251 2006.15,106.079 \n",
       "  2008.31,105.908 2010.48,105.737 2012.65,105.567 2014.81,105.398 2016.98,105.23 2019.14,105.062 2021.31,104.895 2023.48,104.729 2025.64,104.564 2027.81,104.399 \n",
       "  2029.98,104.235 2032.14,104.072 2034.31,103.909 2036.47,103.747 2038.64,103.586 2040.81,103.425 2042.97,103.265 2045.14,103.106 2047.31,102.948 2049.47,102.79 \n",
       "  2051.64,102.634 2053.81,102.477 2055.97,102.322 2058.14,102.167 2060.3,102.013 2062.47,101.86 2064.64,101.707 2066.8,101.555 2068.97,101.404 2071.14,101.253 \n",
       "  2073.3,101.103 2075.47,100.954 2077.63,100.806 2079.8,100.658 2081.97,100.511 2084.13,100.365 2086.3,100.22 2088.47,100.075 2090.63,99.9308 2092.8,99.7874 \n",
       "  2094.96,99.6448 2097.13,99.5028 2099.3,99.3616 2101.46,99.221 2103.63,99.0812 2105.8,98.9421 2107.96,98.8038 2110.13,98.6661 2112.3,98.5291 2114.46,98.3929 \n",
       "  2116.63,98.2574 2118.79,98.1225 2120.96,97.9884 2123.13,97.855 2125.29,97.7204 2127.46,97.5861 2129.63,97.4523 2131.79,97.319 2133.96,97.1861 2136.12,97.0537 \n",
       "  2138.29,96.9218 2140.46,96.7903 2142.62,96.6594 2144.79,96.5289 2146.96,96.3988 2149.12,96.2692 2151.29,96.1401 2153.46,96.0115 2155.62,95.8833 2157.79,95.7556 \n",
       "  2159.95,95.6284 2162.12,95.5017 2164.29,95.3754 2166.45,95.2496 2168.62,95.1242 2170.79,94.9993 2172.95,94.8749 2175.12,94.751 2177.28,94.6275 2179.45,94.5045 \n",
       "  2181.62,94.382 2183.78,94.2599 2185.95,94.1383 2188.12,94.0172 2190.28,93.8966 2192.45,93.7764 2194.62,93.6567 2196.78,93.5374 2198.95,93.4186 2201.11,93.3003 \n",
       "  2203.28,93.1825 2205.45,93.0651 2207.61,92.9482 2209.78,92.8318 2211.95,92.7159 2214.11,92.6004 2216.28,92.4854 2218.44,92.3708 2220.61,92.2567 2222.78,92.1431 \n",
       "  2224.94,92.03 2227.11,91.9173 2229.28,91.8051 2231.44,91.6934 2233.61,91.5821 2235.78,91.4713 2237.94,91.361 2240.11,91.2511 2242.27,91.1417 2244.44,91.0328 \n",
       "  2246.61,90.9244 2248.77,90.8164 2250.94,90.7089 2253.11,90.6019 2255.27,90.4953 2257.44,90.3892 2259.6,90.2836 2261.77,90.1784 2263.94,90.0737 2266.1,89.9695 \n",
       "  2268.27,89.8658 2270.44,89.7625 2272.6,89.6597 2274.77,89.5573 2276.94,89.4554 2279.1,89.354 2281.27,89.2531 2283.43,89.1526 2285.6,89.0526 2287.77,88.9531 \n",
       "  2289.93,88.8541 2292.1,88.7555 2294.27,88.6574 2296.43,88.5597 2298.6,88.4625 2300.76,88.3658 2302.93,88.2696 2305.1,88.1738 2307.26,88.0785 2309.43,87.9837 \n",
       "  2311.6,87.8893 2313.76,87.7954 2315.93,87.702 2318.09,87.6091 2320.26,87.5166 2322.43,87.4246 2324.59,87.333 2326.76,87.2419 2328.93,87.1513 2331.09,87.0612 \n",
       "  2333.26,86.9715 2335.43,86.8823 2337.59,86.7936 2339.76,86.7054 2341.92,86.6176 2344.09,86.5303 2346.26,86.4434 2348.42,86.357 2350.59,86.2711 2352.76,86.1857 \n",
       "  \n",
       "  \"/>\n",
       "<path clip-path=\"url(#clip110)\" d=\"\n",
       "M1534.35 1377.32 L2280.62 1377.32 L2280.62 1256.36 L1534.35 1256.36  Z\n",
       "  \" fill=\"#ffffff\" fill-rule=\"evenodd\" fill-opacity=\"1\"/>\n",
       "<polyline clip-path=\"url(#clip110)\" style=\"stroke:#000000; stroke-width:4; stroke-opacity:1; fill:none\" points=\"\n",
       "  1534.35,1377.32 2280.62,1377.32 2280.62,1256.36 1534.35,1256.36 1534.35,1377.32 \n",
       "  \"/>\n",
       "<polyline clip-path=\"url(#clip110)\" style=\"stroke:#009af9; stroke-width:4; stroke-opacity:1; fill:none\" points=\"\n",
       "  1558.4,1316.84 1702.67,1316.84 \n",
       "  \"/>\n",
       "<path clip-path=\"url(#clip110)\" d=\"M 0 0 M1754.59 1302.22 L1754.59 1307.15 Q1752.23 1304.95 1749.54 1303.86 Q1746.88 1302.77 1743.87 1302.77 Q1737.95 1302.77 1734.8 1306.41 Q1731.65 1310.02 1731.65 1316.87 Q1731.65 1323.7 1734.8 1327.33 Q1737.95 1330.94 1743.87 1330.94 Q1746.88 1330.94 1749.54 1329.86 Q1752.23 1328.77 1754.59 1326.57 L1754.59 1331.45 Q1752.13 1333.12 1749.38 1333.95 Q1746.65 1334.79 1743.59 1334.79 Q1735.75 1334.79 1731.23 1329.99 Q1726.72 1325.18 1726.72 1316.87 Q1726.72 1308.54 1731.23 1303.75 Q1735.75 1298.93 1743.59 1298.93 Q1746.69 1298.93 1749.43 1299.76 Q1752.18 1300.57 1754.59 1302.22 Z\" fill=\"#000000\" fill-rule=\"evenodd\" fill-opacity=\"1\" /><path clip-path=\"url(#clip110)\" d=\"M 0 0 M1781.23 1320.09 L1781.23 1322.17 L1761.65 1322.17 Q1761.93 1326.57 1764.29 1328.88 Q1766.67 1331.18 1770.91 1331.18 Q1773.36 1331.18 1775.65 1330.57 Q1777.97 1329.97 1780.24 1328.77 L1780.24 1332.8 Q1777.94 1333.77 1775.54 1334.28 Q1773.13 1334.79 1770.65 1334.79 Q1764.45 1334.79 1760.82 1331.18 Q1757.2 1327.56 1757.2 1321.41 Q1757.2 1315.04 1760.63 1311.31 Q1764.08 1307.56 1769.91 1307.56 Q1775.14 1307.56 1778.18 1310.94 Q1781.23 1314.3 1781.23 1320.09 M1776.97 1318.84 Q1776.93 1315.34 1775 1313.26 Q1773.11 1311.18 1769.96 1311.18 Q1766.39 1311.18 1764.24 1313.19 Q1762.11 1315.2 1761.79 1318.86 L1776.97 1318.84 Z\" fill=\"#000000\" fill-rule=\"evenodd\" fill-opacity=\"1\" /><path clip-path=\"url(#clip110)\" d=\"M 0 0 M1807.25 1318.47 L1807.25 1334.12 L1802.99 1334.12 L1802.99 1318.61 Q1802.99 1314.93 1801.56 1313.1 Q1800.12 1311.27 1797.25 1311.27 Q1793.8 1311.27 1791.81 1313.47 Q1789.82 1315.67 1789.82 1319.46 L1789.82 1334.12 L1785.54 1334.12 L1785.54 1308.19 L1789.82 1308.19 L1789.82 1312.22 Q1791.35 1309.88 1793.41 1308.72 Q1795.49 1307.56 1798.2 1307.56 Q1802.67 1307.56 1804.96 1310.34 Q1807.25 1313.1 1807.25 1318.47 Z\" fill=\"#000000\" fill-rule=\"evenodd\" fill-opacity=\"1\" /><path clip-path=\"url(#clip110)\" d=\"M 0 0 M1815.93 1300.83 L1815.93 1308.19 L1824.7 1308.19 L1824.7 1311.5 L1815.93 1311.5 L1815.93 1325.57 Q1815.93 1328.74 1816.79 1329.65 Q1817.67 1330.55 1820.33 1330.55 L1824.7 1330.55 L1824.7 1334.12 L1820.33 1334.12 Q1815.4 1334.12 1813.52 1332.29 Q1811.65 1330.43 1811.65 1325.57 L1811.65 1311.5 L1808.52 1311.5 L1808.52 1308.19 L1811.65 1308.19 L1811.65 1300.83 L1815.93 1300.83 Z\" fill=\"#000000\" fill-rule=\"evenodd\" fill-opacity=\"1\" /><path clip-path=\"url(#clip110)\" d=\"M 0 0 M1851.35 1320.09 L1851.35 1322.17 L1831.76 1322.17 Q1832.04 1326.57 1834.4 1328.88 Q1836.79 1331.18 1841.02 1331.18 Q1843.48 1331.18 1845.77 1330.57 Q1848.08 1329.97 1850.35 1328.77 L1850.35 1332.8 Q1848.06 1333.77 1845.65 1334.28 Q1843.25 1334.79 1840.77 1334.79 Q1834.56 1334.79 1830.93 1331.18 Q1827.32 1327.56 1827.32 1321.41 Q1827.32 1315.04 1830.75 1311.31 Q1834.19 1307.56 1840.03 1307.56 Q1845.26 1307.56 1848.29 1310.94 Q1851.35 1314.3 1851.35 1320.09 M1847.09 1318.84 Q1847.04 1315.34 1845.12 1313.26 Q1843.22 1311.18 1840.07 1311.18 Q1836.51 1311.18 1834.36 1313.19 Q1832.23 1315.2 1831.9 1318.86 L1847.09 1318.84 Z\" fill=\"#000000\" fill-rule=\"evenodd\" fill-opacity=\"1\" /><path clip-path=\"url(#clip110)\" d=\"M 0 0 M1870.84 1312.17 Q1870.12 1311.75 1869.26 1311.57 Q1868.43 1311.36 1867.41 1311.36 Q1863.8 1311.36 1861.86 1313.72 Q1859.94 1316.06 1859.94 1320.46 L1859.94 1334.12 L1855.65 1334.12 L1855.65 1308.19 L1859.94 1308.19 L1859.94 1312.22 Q1861.28 1309.86 1863.43 1308.72 Q1865.58 1307.56 1868.66 1307.56 Q1869.1 1307.56 1869.63 1307.63 Q1870.17 1307.68 1870.81 1307.8 L1870.84 1312.17 Z\" fill=\"#000000\" fill-rule=\"evenodd\" fill-opacity=\"1\" /><path clip-path=\"url(#clip110)\" d=\"M 0 0 M1875.31 1298.1 L1879.56 1298.1 L1879.56 1334.12 L1875.31 1334.12 L1875.31 1298.1 Z\" fill=\"#000000\" fill-rule=\"evenodd\" fill-opacity=\"1\" /><path clip-path=\"url(#clip110)\" d=\"M 0 0 M1884.03 1308.19 L1888.29 1308.19 L1888.29 1334.12 L1884.03 1334.12 L1884.03 1308.19 M1884.03 1298.1 L1888.29 1298.1 L1888.29 1303.49 L1884.03 1303.49 L1884.03 1298.1 Z\" fill=\"#000000\" fill-rule=\"evenodd\" fill-opacity=\"1\" /><path clip-path=\"url(#clip110)\" d=\"M 0 0 M1914.31 1318.47 L1914.31 1334.12 L1910.05 1334.12 L1910.05 1318.61 Q1910.05 1314.93 1908.62 1313.1 Q1907.18 1311.27 1904.31 1311.27 Q1900.86 1311.27 1898.87 1313.47 Q1896.88 1315.67 1896.88 1319.46 L1896.88 1334.12 L1892.6 1334.12 L1892.6 1308.19 L1896.88 1308.19 L1896.88 1312.22 Q1898.41 1309.88 1900.47 1308.72 Q1902.55 1307.56 1905.26 1307.56 Q1909.73 1307.56 1912.02 1310.34 Q1914.31 1313.1 1914.31 1318.47 Z\" fill=\"#000000\" fill-rule=\"evenodd\" fill-opacity=\"1\" /><path clip-path=\"url(#clip110)\" d=\"M 0 0 M1940.95 1320.09 L1940.95 1322.17 L1921.37 1322.17 Q1921.65 1326.57 1924.01 1328.88 Q1926.39 1331.18 1930.63 1331.18 Q1933.08 1331.18 1935.37 1330.57 Q1937.69 1329.97 1939.96 1328.77 L1939.96 1332.8 Q1937.67 1333.77 1935.26 1334.28 Q1932.85 1334.79 1930.37 1334.79 Q1924.17 1334.79 1920.54 1331.18 Q1916.93 1327.56 1916.93 1321.41 Q1916.93 1315.04 1920.35 1311.31 Q1923.8 1307.56 1929.63 1307.56 Q1934.87 1307.56 1937.9 1310.94 Q1940.95 1314.3 1940.95 1320.09 M1936.69 1318.84 Q1936.65 1315.34 1934.73 1313.26 Q1932.83 1311.18 1929.68 1311.18 Q1926.12 1311.18 1923.96 1313.19 Q1921.83 1315.2 1921.51 1318.86 L1936.69 1318.84 Z\" fill=\"#000000\" fill-rule=\"evenodd\" fill-opacity=\"1\" /><path clip-path=\"url(#clip110)\" d=\"M 0 0 M1955.88 1299.56 L1985.12 1299.56 L1985.12 1303.49 L1972.85 1303.49 L1972.85 1334.12 L1968.15 1334.12 L1968.15 1303.49 L1955.88 1303.49 L1955.88 1299.56 Z\" fill=\"#000000\" fill-rule=\"evenodd\" fill-opacity=\"1\" /><path clip-path=\"url(#clip110)\" d=\"M 0 0 M2003.71 1320.09 L2003.71 1322.17 L1984.12 1322.17 Q1984.4 1326.57 1986.76 1328.88 Q1989.15 1331.18 1993.38 1331.18 Q1995.84 1331.18 1998.13 1330.57 Q2000.44 1329.97 2002.71 1328.77 L2002.71 1332.8 Q2000.42 1333.77 1998.01 1334.28 Q1995.61 1334.79 1993.13 1334.79 Q1986.93 1334.79 1983.29 1331.18 Q1979.68 1327.56 1979.68 1321.41 Q1979.68 1315.04 1983.11 1311.31 Q1986.55 1307.56 1992.39 1307.56 Q1997.62 1307.56 2000.65 1310.94 Q2003.71 1314.3 2003.71 1320.09 M1999.45 1318.84 Q1999.4 1315.34 1997.48 1313.26 Q1995.58 1311.18 1992.43 1311.18 Q1988.87 1311.18 1986.72 1313.19 Q1984.59 1315.2 1984.26 1318.86 L1999.45 1318.84 Z\" fill=\"#000000\" fill-rule=\"evenodd\" fill-opacity=\"1\" /><path clip-path=\"url(#clip110)\" d=\"M 0 0 M2028.36 1313.17 Q2029.96 1310.3 2032.18 1308.93 Q2034.4 1307.56 2037.41 1307.56 Q2041.46 1307.56 2043.66 1310.41 Q2045.86 1313.24 2045.86 1318.47 L2045.86 1334.12 L2041.58 1334.12 L2041.58 1318.61 Q2041.58 1314.88 2040.26 1313.07 Q2038.94 1311.27 2036.23 1311.27 Q2032.92 1311.27 2031 1313.47 Q2029.08 1315.67 2029.08 1319.46 L2029.08 1334.12 L2024.8 1334.12 L2024.8 1318.61 Q2024.8 1314.86 2023.48 1313.07 Q2022.16 1311.27 2019.4 1311.27 Q2016.14 1311.27 2014.22 1313.49 Q2012.3 1315.69 2012.3 1319.46 L2012.3 1334.12 L2008.01 1334.12 L2008.01 1308.19 L2012.3 1308.19 L2012.3 1312.22 Q2013.75 1309.83 2015.79 1308.7 Q2017.83 1307.56 2020.63 1307.56 Q2023.45 1307.56 2025.42 1309 Q2027.41 1310.43 2028.36 1313.17 Z\" fill=\"#000000\" fill-rule=\"evenodd\" fill-opacity=\"1\" /><path clip-path=\"url(#clip110)\" d=\"M 0 0 M2054.45 1330.23 L2054.45 1343.98 L2050.17 1343.98 L2050.17 1308.19 L2054.45 1308.19 L2054.45 1312.12 Q2055.79 1309.81 2057.83 1308.7 Q2059.89 1307.56 2062.73 1307.56 Q2067.46 1307.56 2070.4 1311.31 Q2073.36 1315.06 2073.36 1321.18 Q2073.36 1327.29 2070.4 1331.04 Q2067.46 1334.79 2062.73 1334.79 Q2059.89 1334.79 2057.83 1333.68 Q2055.79 1332.54 2054.45 1330.23 M2068.94 1321.18 Q2068.94 1316.48 2066.99 1313.81 Q2065.07 1311.13 2061.69 1311.13 Q2058.31 1311.13 2056.37 1313.81 Q2054.45 1316.48 2054.45 1321.18 Q2054.45 1325.87 2056.37 1328.56 Q2058.31 1331.22 2061.69 1331.22 Q2065.07 1331.22 2066.99 1328.56 Q2068.94 1325.87 2068.94 1321.18 Z\" fill=\"#000000\" fill-rule=\"evenodd\" fill-opacity=\"1\" /><path clip-path=\"url(#clip110)\" d=\"M 0 0 M2100 1320.09 L2100 1322.17 L2080.42 1322.17 Q2080.7 1326.57 2083.06 1328.88 Q2085.44 1331.18 2089.68 1331.18 Q2092.13 1331.18 2094.42 1330.57 Q2096.74 1329.97 2099.01 1328.77 L2099.01 1332.8 Q2096.72 1333.77 2094.31 1334.28 Q2091.9 1334.79 2089.42 1334.79 Q2083.22 1334.79 2079.59 1331.18 Q2075.98 1327.56 2075.98 1321.41 Q2075.98 1315.04 2079.4 1311.31 Q2082.85 1307.56 2088.68 1307.56 Q2093.92 1307.56 2096.95 1310.94 Q2100 1314.3 2100 1320.09 M2095.74 1318.84 Q2095.7 1315.34 2093.78 1313.26 Q2091.88 1311.18 2088.73 1311.18 Q2085.17 1311.18 2083.01 1313.19 Q2080.88 1315.2 2080.56 1318.86 L2095.74 1318.84 Z\" fill=\"#000000\" fill-rule=\"evenodd\" fill-opacity=\"1\" /><path clip-path=\"url(#clip110)\" d=\"M 0 0 M2119.49 1312.17 Q2118.78 1311.75 2117.92 1311.57 Q2117.09 1311.36 2116.07 1311.36 Q2112.46 1311.36 2110.51 1313.72 Q2108.59 1316.06 2108.59 1320.46 L2108.59 1334.12 L2104.31 1334.12 L2104.31 1308.19 L2108.59 1308.19 L2108.59 1312.22 Q2109.93 1309.86 2112.09 1308.72 Q2114.24 1307.56 2117.32 1307.56 Q2117.76 1307.56 2118.29 1307.63 Q2118.82 1307.68 2119.47 1307.8 L2119.49 1312.17 Z\" fill=\"#000000\" fill-rule=\"evenodd\" fill-opacity=\"1\" /><path clip-path=\"url(#clip110)\" d=\"M 0 0 M2135.74 1321.08 Q2130.58 1321.08 2128.59 1322.26 Q2126.6 1323.44 2126.6 1326.29 Q2126.6 1328.56 2128.08 1329.9 Q2129.59 1331.22 2132.16 1331.22 Q2135.7 1331.22 2137.83 1328.72 Q2139.98 1326.2 2139.98 1322.03 L2139.98 1321.08 L2135.74 1321.08 M2144.24 1319.32 L2144.24 1334.12 L2139.98 1334.12 L2139.98 1330.18 Q2138.52 1332.54 2136.35 1333.68 Q2134.17 1334.79 2131.02 1334.79 Q2127.04 1334.79 2124.68 1332.56 Q2122.34 1330.32 2122.34 1326.57 Q2122.34 1322.19 2125.26 1319.97 Q2128.2 1317.75 2134.01 1317.75 L2139.98 1317.75 L2139.98 1317.33 Q2139.98 1314.39 2138.04 1312.8 Q2136.11 1311.18 2132.62 1311.18 Q2130.4 1311.18 2128.29 1311.71 Q2126.18 1312.24 2124.24 1313.31 L2124.24 1309.37 Q2126.58 1308.47 2128.78 1308.03 Q2130.98 1307.56 2133.06 1307.56 Q2138.68 1307.56 2141.46 1310.48 Q2144.24 1313.4 2144.24 1319.32 Z\" fill=\"#000000\" fill-rule=\"evenodd\" fill-opacity=\"1\" /><path clip-path=\"url(#clip110)\" d=\"M 0 0 M2152.92 1300.83 L2152.92 1308.19 L2161.69 1308.19 L2161.69 1311.5 L2152.92 1311.5 L2152.92 1325.57 Q2152.92 1328.74 2153.78 1329.65 Q2154.66 1330.55 2157.32 1330.55 L2161.69 1330.55 L2161.69 1334.12 L2157.32 1334.12 Q2152.39 1334.12 2150.51 1332.29 Q2148.64 1330.43 2148.64 1325.57 L2148.64 1311.5 L2145.51 1311.5 L2145.51 1308.19 L2148.64 1308.19 L2148.64 1300.83 L2152.92 1300.83 Z\" fill=\"#000000\" fill-rule=\"evenodd\" fill-opacity=\"1\" /><path clip-path=\"url(#clip110)\" d=\"M 0 0 M2165.72 1323.88 L2165.72 1308.19 L2169.98 1308.19 L2169.98 1323.72 Q2169.98 1327.4 2171.41 1329.25 Q2172.85 1331.08 2175.72 1331.08 Q2179.17 1331.08 2181.16 1328.88 Q2183.17 1326.68 2183.17 1322.89 L2183.17 1308.19 L2187.43 1308.19 L2187.43 1334.12 L2183.17 1334.12 L2183.17 1330.13 Q2181.62 1332.49 2179.56 1333.65 Q2177.53 1334.79 2174.82 1334.79 Q2170.35 1334.79 2168.04 1332.01 Q2165.72 1329.23 2165.72 1323.88 M2176.44 1307.56 L2176.44 1307.56 Z\" fill=\"#000000\" fill-rule=\"evenodd\" fill-opacity=\"1\" /><path clip-path=\"url(#clip110)\" d=\"M 0 0 M2206.92 1312.17 Q2206.21 1311.75 2205.35 1311.57 Q2204.52 1311.36 2203.5 1311.36 Q2199.89 1311.36 2197.94 1313.72 Q2196.02 1316.06 2196.02 1320.46 L2196.02 1334.12 L2191.74 1334.12 L2191.74 1308.19 L2196.02 1308.19 L2196.02 1312.22 Q2197.36 1309.86 2199.52 1308.72 Q2201.67 1307.56 2204.75 1307.56 Q2205.19 1307.56 2205.72 1307.63 Q2206.25 1307.68 2206.9 1307.8 L2206.92 1312.17 Z\" fill=\"#000000\" fill-rule=\"evenodd\" fill-opacity=\"1\" /><path clip-path=\"url(#clip110)\" d=\"M 0 0 M2232.53 1320.09 L2232.53 1322.17 L2212.94 1322.17 Q2213.22 1326.57 2215.58 1328.88 Q2217.97 1331.18 2222.2 1331.18 Q2224.66 1331.18 2226.95 1330.57 Q2229.26 1329.97 2231.53 1328.77 L2231.53 1332.8 Q2229.24 1333.77 2226.83 1334.28 Q2224.42 1334.79 2221.95 1334.79 Q2215.74 1334.79 2212.11 1331.18 Q2208.5 1327.56 2208.5 1321.41 Q2208.5 1315.04 2211.92 1311.31 Q2215.37 1307.56 2221.21 1307.56 Q2226.44 1307.56 2229.47 1310.94 Q2232.53 1314.3 2232.53 1320.09 M2228.27 1318.84 Q2228.22 1315.34 2226.3 1313.26 Q2224.4 1311.18 2221.25 1311.18 Q2217.69 1311.18 2215.54 1313.19 Q2213.41 1315.2 2213.08 1318.86 L2228.27 1318.84 Z\" fill=\"#000000\" fill-rule=\"evenodd\" fill-opacity=\"1\" /></svg>\n"
      ]
     },
     "execution_count": 15,
     "metadata": {},
     "output_type": "execute_result"
    }
   ],
   "source": [
    "using Plots\n",
    "plot(sol, label=\"Centerline Temperature\", legend=:bottomright, vars = 1)"
   ]
  },
  {
   "cell_type": "markdown",
   "metadata": {},
   "source": [
    "<hr style=\"border:6px solid black\"> </hr>\n",
    "\n",
    "# Questions for reflection\n",
    "- For a simple, what factors influence whether a system is numerically stable?\n",
    "- For IVP-PDEs, the problem size can grow quite rapidly. For a 3D systems, using 20 discretization points in each dimension leads to an 8000-by-8000 system while 256 points leads to a ~16 million by ~16 million system. As illustrated by [Jaroudi, et al.](https://www.tandfonline.com/doi/full/10.1080/00207160.2019.1613526?af=R), a large number of such systems can be solved in a few hours on standard desktop. In light of this fact, how do you think the resulting linear systems formulated and solved?\n",
    "- What are some other questions that you'd expect to be important when design a chemical looping combustion system? Can you provide some ideas of how numerical methods could be used to help answer these?\n",
    "\n",
    "<hr style=\"border:6px solid black\"> </hr>"
   ]
  }
 ],
 "metadata": {
  "kernelspec": {
   "display_name": "Julia 1.5.1",
   "language": "julia",
   "name": "julia-1.5"
  },
  "language_info": {
   "file_extension": ".jl",
   "mimetype": "application/julia",
   "name": "julia",
   "version": "1.5.1"
  }
 },
 "nbformat": 4,
 "nbformat_minor": 4
}
