{
 "cells": [
  {
   "cell_type": "markdown",
   "metadata": {},
   "source": [
    "#  <span style=\"color:darkblue\"> Optimization </span>\n",
    "\n",
    "<hr style=\"border:6px solid black\"> </hr>"
   ]
  },
  {
   "cell_type": "markdown",
   "metadata": {},
   "source": [
    "## <span style=\"color:darkblue\"> Learning Objectives </span>\n",
    "\n",
    "- Classify optimization problems as linear, quadratic, nonlinear, and mixed-integer problems.\n",
    "- Learn how to interpret the solutions of optimization problems.\n",
    "- Learn how to input optimization problems in Julia/JuMP).\n",
    "- Assess the sensitivity of a solution with respect to constraints.\n",
    "- Learn how to formulate and solve optimization problems for multiple examples.\n",
    "\n",
    "<hr style=\"border:6px solid black\"> </hr>\n",
    "\n",
    "## <span style=\"color:darkblue\"> Organization </span>\n",
    "\n",
    "- First, we'll review some of the types of optimization problems.\n",
    "- Next, we'll solve a Sudoku puzzle.\n",
    "- You'll formulate and solve a simple blending and pooling problem.\n",
    "- Lastly, we'll analyze the blending and pooling problem from a sensitivity perspective.\n",
    "    \n",
    "<hr style=\"border:6px solid black\"> </hr>\n",
    "\n",
    "## <span style=\"color:darkblue\"> Problem Forms </span>\n",
    "\n",
    "Optimizers generally exploit a specific mathematical structure in the problem formulation as a means to solve a problem. In fact, some underlying assumptions are always required to ensure a problem is optimized. One common example arrise from combining KKT conditions with constraint qualifications or alternatively regularity conditions for nonlinear programs.\n",
    "\n",
    "These problem types range from linear programs for which problems with 100k variables and constraints may routinely be solved [in less than a minute](http://plato.asu.edu/ftp/lpsimp.html) to continuous convex problems to nonconvex nonlinear mixed-integer problems (were some problems with fewer than 5 variables have yet to be solved). As such, using an appropriate optimizer for a particular problem type can transform an unsolveable problem into a trival one. The most heavily studied and widely used descriptors for each program are linear, quadratic, nonlinear, and mixed-integer.\n",
    "\n",
    "**Types of based on objectives/constraints:**\n",
    "\n",
    "- **Linear:** All the constraints and the objective are linear.\n",
    "- **Quadratic** all the constraints and the objective are quadratic or linear.\n",
    "- **Nonlinear** at least one constraint or the objective is not linear.\n",
    "\n",
    "**Types based on manner of variable used:**\n",
    "\n",
    "- **Continuous:** All variables can vary between values in some possibly open interval.\n",
    "- **Integer:** All variables are integer valued.\n",
    "- **Mixed-integer:** The problem contains both integer and continuous variables.\n",
    "\n",
    "One of the central focuses of optimization research has focused on developing specialized routines for solving programs with other special forms. A number of other important forms include [specially-ordered sets](https://link.springer.com/article/10.1007/BF01589393), [second-order cones](https://ieeexplore.ieee.org/abstract/document/6983691), [equilibrium constraints](https://faculty.wcas.northwestern.edu/~lchrist/Ferris_mathematical_programs2.pdf), as well as a myriad of special nonlinear forms. When attempting to solve a difficult model it's worth checking a few references (such as [Mosek's Modeling Cookbook](https://docs.mosek.com/MOSEKModelingCookbook-letter.pdf)) to see if the problem can be re-written as simplier form or a simplier problem type.\n",
    "\n",
    "This trend has lead to the development of a number of specialized languages and software packages used to describe optimization problems interface with a myriad of different optimizers. In Python, the main tools for this are [Pyomo]() and [CVXOPT](https://cvxopt.org/). In Julia, we have [JuMP](https://jump.dev/JuMP.jl/stable/), and [Convex.jl](https://jump.dev/Convex.jl/stable/). A number of other commercial offerings available include [GAMS](https://www.gams.com/), [AIMMS](https://en.wikipedia.org/wiki/AIMMS), and [AMPL](https://ampl.com/) along with a number of offerings associated with commercially available solvers such as [CPLEX Optimization Studio by IBM](https://www.ibm.com/analytics/cplex-optimizer) or [Xpress Mosel for FICO Express](https://www.fico.com/en/products/fico-xpress-optimization). We'll work through formulating and solving a couple of optimization problems using JuMP in this workbook.\n",
    "\n",
    "<hr style=\"border:2px solid gray\"> </hr>"
   ]
  },
  {
   "cell_type": "code",
   "execution_count": 1,
   "metadata": {},
   "outputs": [
    {
     "name": "stderr",
     "output_type": "stream",
     "text": [
      "\u001b[32m\u001b[1m   Updating\u001b[22m\u001b[39m registry at `C:\\Users\\wilhe\\.julia\\registries\\General`\n",
      "\u001b[32m\u001b[1m  Resolving\u001b[22m\u001b[39m package versions...\n",
      "\u001b[32m\u001b[1mNo Changes\u001b[22m\u001b[39m to `C:\\Users\\wilhe\\Project.toml`\n",
      "\u001b[32m\u001b[1mNo Changes\u001b[22m\u001b[39m to `C:\\Users\\wilhe\\Manifest.toml`\n",
      "\u001b[32m\u001b[1m  Resolving\u001b[22m\u001b[39m package versions...\n",
      "\u001b[32m\u001b[1mNo Changes\u001b[22m\u001b[39m to `C:\\Users\\wilhe\\Project.toml`\n",
      "\u001b[32m\u001b[1mNo Changes\u001b[22m\u001b[39m to `C:\\Users\\wilhe\\Manifest.toml`\n",
      "\u001b[32m\u001b[1m  Resolving\u001b[22m\u001b[39m package versions...\n",
      "\u001b[32m\u001b[1mNo Changes\u001b[22m\u001b[39m to `C:\\Users\\wilhe\\Project.toml`\n",
      "\u001b[32m\u001b[1mNo Changes\u001b[22m\u001b[39m to `C:\\Users\\wilhe\\Manifest.toml`\n"
     ]
    }
   ],
   "source": [
    "# Run this block once. Adds Julia packages to your Julia local installation from the package manager\n",
    "\n",
    "using Pkg               # Import functions from the package manager into this session.\n",
    "Pkg.add(\"JuMP\")         # A modeling language for Mathematical optimization in Julia.\n",
    "Pkg.add(\"Ipopt\")        # A highly performant nonlinear optimizer.\n",
    "Pkg.add(\"GLPK\")         # An open-source linear and mixed-integer linear optimizer"
   ]
  },
  {
   "cell_type": "markdown",
   "metadata": {},
   "source": [
    "Let's start with a very basic problem so we can develop some familarity with the JuMP modeling language. We'll begin by solving a Sudoku puzzle using optimization software."
   ]
  },
  {
   "cell_type": "markdown",
   "metadata": {},
   "source": [
    "<hr style=\"border:2px solid gray\"> </hr>\n",
    "\n",
    "## <span style=\"color:darkblue\">  Solving Sudoku with Mixed-Integer Programming* </span>"
   ]
  },
  {
   "cell_type": "markdown",
   "metadata": {},
   "source": [
    "* Adapted from a now defunct example by Ian Dunning at https://www.juliaopt.org/notebooks/JuMP-Sudoku.html.\n",
    "\n",
    "Sudoku is a popular number puzzle. The goal is to place the digits 1,...,9 on a nine-by-nine grid, with some of the digits already filled in. Your solution must satisfy the following rules:\n",
    "\n",
    "    The numbers 1 to 9 must appear in each 3x3 square\n",
    "    The numbers 1 to 9 must appear in each row\n",
    "    The numbers 1 to 9 must appear in each column\n",
    "\n",
    "Any combination satisfying the above rules is a valid solution. Thus, we're simply seeking any feasible solution. While this isn't strictly an optimization problem (it's a constraint satisfaction problem), but we can make it into equivalent optimization problem. Namely, we can just specify that the objective is some constant value of our choosing. \n",
    "\n",
    "We can model this problem using 0-1 integer programming: a problem where all the decision variables are binary. We'll use JuMP to create the model, and then we can solve it with any integer optimizer."
   ]
  },
  {
   "cell_type": "code",
   "execution_count": 2,
   "metadata": {},
   "outputs": [
    {
     "data": {
      "text/plain": [
       "9×9×9 Array{VariableRef,3}:\n",
       "[:, :, 1] =\n",
       " x[1,1,1]  x[1,2,1]  x[1,3,1]  x[1,4,1]  …  x[1,7,1]  x[1,8,1]  x[1,9,1]\n",
       " x[2,1,1]  x[2,2,1]  x[2,3,1]  x[2,4,1]     x[2,7,1]  x[2,8,1]  x[2,9,1]\n",
       " x[3,1,1]  x[3,2,1]  x[3,3,1]  x[3,4,1]     x[3,7,1]  x[3,8,1]  x[3,9,1]\n",
       " x[4,1,1]  x[4,2,1]  x[4,3,1]  x[4,4,1]     x[4,7,1]  x[4,8,1]  x[4,9,1]\n",
       " x[5,1,1]  x[5,2,1]  x[5,3,1]  x[5,4,1]     x[5,7,1]  x[5,8,1]  x[5,9,1]\n",
       " x[6,1,1]  x[6,2,1]  x[6,3,1]  x[6,4,1]  …  x[6,7,1]  x[6,8,1]  x[6,9,1]\n",
       " x[7,1,1]  x[7,2,1]  x[7,3,1]  x[7,4,1]     x[7,7,1]  x[7,8,1]  x[7,9,1]\n",
       " x[8,1,1]  x[8,2,1]  x[8,3,1]  x[8,4,1]     x[8,7,1]  x[8,8,1]  x[8,9,1]\n",
       " x[9,1,1]  x[9,2,1]  x[9,3,1]  x[9,4,1]     x[9,7,1]  x[9,8,1]  x[9,9,1]\n",
       "\n",
       "[:, :, 2] =\n",
       " x[1,1,2]  x[1,2,2]  x[1,3,2]  x[1,4,2]  …  x[1,7,2]  x[1,8,2]  x[1,9,2]\n",
       " x[2,1,2]  x[2,2,2]  x[2,3,2]  x[2,4,2]     x[2,7,2]  x[2,8,2]  x[2,9,2]\n",
       " x[3,1,2]  x[3,2,2]  x[3,3,2]  x[3,4,2]     x[3,7,2]  x[3,8,2]  x[3,9,2]\n",
       " x[4,1,2]  x[4,2,2]  x[4,3,2]  x[4,4,2]     x[4,7,2]  x[4,8,2]  x[4,9,2]\n",
       " x[5,1,2]  x[5,2,2]  x[5,3,2]  x[5,4,2]     x[5,7,2]  x[5,8,2]  x[5,9,2]\n",
       " x[6,1,2]  x[6,2,2]  x[6,3,2]  x[6,4,2]  …  x[6,7,2]  x[6,8,2]  x[6,9,2]\n",
       " x[7,1,2]  x[7,2,2]  x[7,3,2]  x[7,4,2]     x[7,7,2]  x[7,8,2]  x[7,9,2]\n",
       " x[8,1,2]  x[8,2,2]  x[8,3,2]  x[8,4,2]     x[8,7,2]  x[8,8,2]  x[8,9,2]\n",
       " x[9,1,2]  x[9,2,2]  x[9,3,2]  x[9,4,2]     x[9,7,2]  x[9,8,2]  x[9,9,2]\n",
       "\n",
       "[:, :, 3] =\n",
       " x[1,1,3]  x[1,2,3]  x[1,3,3]  x[1,4,3]  …  x[1,7,3]  x[1,8,3]  x[1,9,3]\n",
       " x[2,1,3]  x[2,2,3]  x[2,3,3]  x[2,4,3]     x[2,7,3]  x[2,8,3]  x[2,9,3]\n",
       " x[3,1,3]  x[3,2,3]  x[3,3,3]  x[3,4,3]     x[3,7,3]  x[3,8,3]  x[3,9,3]\n",
       " x[4,1,3]  x[4,2,3]  x[4,3,3]  x[4,4,3]     x[4,7,3]  x[4,8,3]  x[4,9,3]\n",
       " x[5,1,3]  x[5,2,3]  x[5,3,3]  x[5,4,3]     x[5,7,3]  x[5,8,3]  x[5,9,3]\n",
       " x[6,1,3]  x[6,2,3]  x[6,3,3]  x[6,4,3]  …  x[6,7,3]  x[6,8,3]  x[6,9,3]\n",
       " x[7,1,3]  x[7,2,3]  x[7,3,3]  x[7,4,3]     x[7,7,3]  x[7,8,3]  x[7,9,3]\n",
       " x[8,1,3]  x[8,2,3]  x[8,3,3]  x[8,4,3]     x[8,7,3]  x[8,8,3]  x[8,9,3]\n",
       " x[9,1,3]  x[9,2,3]  x[9,3,3]  x[9,4,3]     x[9,7,3]  x[9,8,3]  x[9,9,3]\n",
       "\n",
       "[:, :, 4] =\n",
       " x[1,1,4]  x[1,2,4]  x[1,3,4]  x[1,4,4]  …  x[1,7,4]  x[1,8,4]  x[1,9,4]\n",
       " x[2,1,4]  x[2,2,4]  x[2,3,4]  x[2,4,4]     x[2,7,4]  x[2,8,4]  x[2,9,4]\n",
       " x[3,1,4]  x[3,2,4]  x[3,3,4]  x[3,4,4]     x[3,7,4]  x[3,8,4]  x[3,9,4]\n",
       " x[4,1,4]  x[4,2,4]  x[4,3,4]  x[4,4,4]     x[4,7,4]  x[4,8,4]  x[4,9,4]\n",
       " x[5,1,4]  x[5,2,4]  x[5,3,4]  x[5,4,4]     x[5,7,4]  x[5,8,4]  x[5,9,4]\n",
       " x[6,1,4]  x[6,2,4]  x[6,3,4]  x[6,4,4]  …  x[6,7,4]  x[6,8,4]  x[6,9,4]\n",
       " x[7,1,4]  x[7,2,4]  x[7,3,4]  x[7,4,4]     x[7,7,4]  x[7,8,4]  x[7,9,4]\n",
       " x[8,1,4]  x[8,2,4]  x[8,3,4]  x[8,4,4]     x[8,7,4]  x[8,8,4]  x[8,9,4]\n",
       " x[9,1,4]  x[9,2,4]  x[9,3,4]  x[9,4,4]     x[9,7,4]  x[9,8,4]  x[9,9,4]\n",
       "\n",
       "[:, :, 5] =\n",
       " x[1,1,5]  x[1,2,5]  x[1,3,5]  x[1,4,5]  …  x[1,7,5]  x[1,8,5]  x[1,9,5]\n",
       " x[2,1,5]  x[2,2,5]  x[2,3,5]  x[2,4,5]     x[2,7,5]  x[2,8,5]  x[2,9,5]\n",
       " x[3,1,5]  x[3,2,5]  x[3,3,5]  x[3,4,5]     x[3,7,5]  x[3,8,5]  x[3,9,5]\n",
       " x[4,1,5]  x[4,2,5]  x[4,3,5]  x[4,4,5]     x[4,7,5]  x[4,8,5]  x[4,9,5]\n",
       " x[5,1,5]  x[5,2,5]  x[5,3,5]  x[5,4,5]     x[5,7,5]  x[5,8,5]  x[5,9,5]\n",
       " x[6,1,5]  x[6,2,5]  x[6,3,5]  x[6,4,5]  …  x[6,7,5]  x[6,8,5]  x[6,9,5]\n",
       " x[7,1,5]  x[7,2,5]  x[7,3,5]  x[7,4,5]     x[7,7,5]  x[7,8,5]  x[7,9,5]\n",
       " x[8,1,5]  x[8,2,5]  x[8,3,5]  x[8,4,5]     x[8,7,5]  x[8,8,5]  x[8,9,5]\n",
       " x[9,1,5]  x[9,2,5]  x[9,3,5]  x[9,4,5]     x[9,7,5]  x[9,8,5]  x[9,9,5]\n",
       "\n",
       "[:, :, 6] =\n",
       " x[1,1,6]  x[1,2,6]  x[1,3,6]  x[1,4,6]  …  x[1,7,6]  x[1,8,6]  x[1,9,6]\n",
       " x[2,1,6]  x[2,2,6]  x[2,3,6]  x[2,4,6]     x[2,7,6]  x[2,8,6]  x[2,9,6]\n",
       " x[3,1,6]  x[3,2,6]  x[3,3,6]  x[3,4,6]     x[3,7,6]  x[3,8,6]  x[3,9,6]\n",
       " x[4,1,6]  x[4,2,6]  x[4,3,6]  x[4,4,6]     x[4,7,6]  x[4,8,6]  x[4,9,6]\n",
       " x[5,1,6]  x[5,2,6]  x[5,3,6]  x[5,4,6]     x[5,7,6]  x[5,8,6]  x[5,9,6]\n",
       " x[6,1,6]  x[6,2,6]  x[6,3,6]  x[6,4,6]  …  x[6,7,6]  x[6,8,6]  x[6,9,6]\n",
       " x[7,1,6]  x[7,2,6]  x[7,3,6]  x[7,4,6]     x[7,7,6]  x[7,8,6]  x[7,9,6]\n",
       " x[8,1,6]  x[8,2,6]  x[8,3,6]  x[8,4,6]     x[8,7,6]  x[8,8,6]  x[8,9,6]\n",
       " x[9,1,6]  x[9,2,6]  x[9,3,6]  x[9,4,6]     x[9,7,6]  x[9,8,6]  x[9,9,6]\n",
       "\n",
       "[:, :, 7] =\n",
       " x[1,1,7]  x[1,2,7]  x[1,3,7]  x[1,4,7]  …  x[1,7,7]  x[1,8,7]  x[1,9,7]\n",
       " x[2,1,7]  x[2,2,7]  x[2,3,7]  x[2,4,7]     x[2,7,7]  x[2,8,7]  x[2,9,7]\n",
       " x[3,1,7]  x[3,2,7]  x[3,3,7]  x[3,4,7]     x[3,7,7]  x[3,8,7]  x[3,9,7]\n",
       " x[4,1,7]  x[4,2,7]  x[4,3,7]  x[4,4,7]     x[4,7,7]  x[4,8,7]  x[4,9,7]\n",
       " x[5,1,7]  x[5,2,7]  x[5,3,7]  x[5,4,7]     x[5,7,7]  x[5,8,7]  x[5,9,7]\n",
       " x[6,1,7]  x[6,2,7]  x[6,3,7]  x[6,4,7]  …  x[6,7,7]  x[6,8,7]  x[6,9,7]\n",
       " x[7,1,7]  x[7,2,7]  x[7,3,7]  x[7,4,7]     x[7,7,7]  x[7,8,7]  x[7,9,7]\n",
       " x[8,1,7]  x[8,2,7]  x[8,3,7]  x[8,4,7]     x[8,7,7]  x[8,8,7]  x[8,9,7]\n",
       " x[9,1,7]  x[9,2,7]  x[9,3,7]  x[9,4,7]     x[9,7,7]  x[9,8,7]  x[9,9,7]\n",
       "\n",
       "[:, :, 8] =\n",
       " x[1,1,8]  x[1,2,8]  x[1,3,8]  x[1,4,8]  …  x[1,7,8]  x[1,8,8]  x[1,9,8]\n",
       " x[2,1,8]  x[2,2,8]  x[2,3,8]  x[2,4,8]     x[2,7,8]  x[2,8,8]  x[2,9,8]\n",
       " x[3,1,8]  x[3,2,8]  x[3,3,8]  x[3,4,8]     x[3,7,8]  x[3,8,8]  x[3,9,8]\n",
       " x[4,1,8]  x[4,2,8]  x[4,3,8]  x[4,4,8]     x[4,7,8]  x[4,8,8]  x[4,9,8]\n",
       " x[5,1,8]  x[5,2,8]  x[5,3,8]  x[5,4,8]     x[5,7,8]  x[5,8,8]  x[5,9,8]\n",
       " x[6,1,8]  x[6,2,8]  x[6,3,8]  x[6,4,8]  …  x[6,7,8]  x[6,8,8]  x[6,9,8]\n",
       " x[7,1,8]  x[7,2,8]  x[7,3,8]  x[7,4,8]     x[7,7,8]  x[7,8,8]  x[7,9,8]\n",
       " x[8,1,8]  x[8,2,8]  x[8,3,8]  x[8,4,8]     x[8,7,8]  x[8,8,8]  x[8,9,8]\n",
       " x[9,1,8]  x[9,2,8]  x[9,3,8]  x[9,4,8]     x[9,7,8]  x[9,8,8]  x[9,9,8]\n",
       "\n",
       "[:, :, 9] =\n",
       " x[1,1,9]  x[1,2,9]  x[1,3,9]  x[1,4,9]  …  x[1,7,9]  x[1,8,9]  x[1,9,9]\n",
       " x[2,1,9]  x[2,2,9]  x[2,3,9]  x[2,4,9]     x[2,7,9]  x[2,8,9]  x[2,9,9]\n",
       " x[3,1,9]  x[3,2,9]  x[3,3,9]  x[3,4,9]     x[3,7,9]  x[3,8,9]  x[3,9,9]\n",
       " x[4,1,9]  x[4,2,9]  x[4,3,9]  x[4,4,9]     x[4,7,9]  x[4,8,9]  x[4,9,9]\n",
       " x[5,1,9]  x[5,2,9]  x[5,3,9]  x[5,4,9]     x[5,7,9]  x[5,8,9]  x[5,9,9]\n",
       " x[6,1,9]  x[6,2,9]  x[6,3,9]  x[6,4,9]  …  x[6,7,9]  x[6,8,9]  x[6,9,9]\n",
       " x[7,1,9]  x[7,2,9]  x[7,3,9]  x[7,4,9]     x[7,7,9]  x[7,8,9]  x[7,9,9]\n",
       " x[8,1,9]  x[8,2,9]  x[8,3,9]  x[8,4,9]     x[8,7,9]  x[8,8,9]  x[8,9,9]\n",
       " x[9,1,9]  x[9,2,9]  x[9,3,9]  x[9,4,9]     x[9,7,9]  x[9,8,9]  x[9,9,9]"
      ]
     },
     "execution_count": 2,
     "metadata": {},
     "output_type": "execute_result"
    }
   ],
   "source": [
    "using JuMP, GLPK                    # import functions from the JuMP & GLPK package into your current environment\n",
    "\n",
    "# create a model called \"sudoku\" which holds all variables, constraints, \n",
    "# functions, and options needed to solve the sudoku problem\n",
    "sudoku = Model(GLPK.Optimizer)\n",
    "\n",
    "# add binary variables\n",
    "@variable(sudoku, x[i=1:9, j=1:9, k=1:9], Bin)   # Bin indicates the variable is binary (has a value of 0 or 1)"
   ]
  },
  {
   "cell_type": "markdown",
   "metadata": {},
   "source": [
    "Only one digit can be in each square. So for each square represented by a pair of i,j variables the sum over k should be equal to one."
   ]
  },
  {
   "cell_type": "code",
   "execution_count": 3,
   "metadata": {},
   "outputs": [],
   "source": [
    "for i = 1:9, j = 1:9  \n",
    "    @constraint(sudoku, sum(x[i,j,k] for k=1:9) == 1)\n",
    "end"
   ]
  },
  {
   "cell_type": "markdown",
   "metadata": {},
   "source": [
    "Each variable can only appear once in each column."
   ]
  },
  {
   "cell_type": "code",
   "execution_count": 4,
   "metadata": {},
   "outputs": [
    {
     "ename": "LoadError",
     "evalue": "syntax: unexpected \"}\"",
     "output_type": "error",
     "traceback": [
      "syntax: unexpected \"}\"",
      "",
      "Stacktrace:",
      " [1] top-level scope at In[4]:2",
      " [2] include_string(::Function, ::Module, ::String, ::String) at .\\loading.jl:1091",
      " [3] execute_code(::String, ::String) at C:\\Users\\wilhe\\.julia\\packages\\IJulia\\a1SNk\\src\\execute_request.jl:27",
      " [4] execute_request(::ZMQ.Socket, ::IJulia.Msg) at C:\\Users\\wilhe\\.julia\\packages\\IJulia\\a1SNk\\src\\execute_request.jl:86",
      " [5] #invokelatest#1 at .\\essentials.jl:710 [inlined]",
      " [6] invokelatest at .\\essentials.jl:709 [inlined]",
      " [7] eventloop(::ZMQ.Socket) at C:\\Users\\wilhe\\.julia\\packages\\IJulia\\a1SNk\\src\\eventloop.jl:8",
      " [8] (::IJulia.var\"#15#18\")() at .\\task.jl:356"
     ]
    }
   ],
   "source": [
    "for j = 1:9, k = 1:9\n",
    "    @constraint(sudoku, sum(x[i,j,k] for i=1:9} == 1)\n",
    "end"
   ]
  },
  {
   "cell_type": "markdown",
   "metadata": {},
   "source": [
    "<div class=\"alert alert-block alert-warning\">\n",
    "<b>INTERACTIVE!</b> Each variable can only appear once in each row. Fill in the appropriate expression.\n",
    "</div>"
   ]
  },
  {
   "cell_type": "code",
   "execution_count": 5,
   "metadata": {},
   "outputs": [],
   "source": [
    "for ind = 1:9, k = 1:9\n",
    "    # FILL IN THE CODE HERE\n",
    "end"
   ]
  },
  {
   "cell_type": "markdown",
   "metadata": {},
   "source": [
    "Each variable can only appear once in each 3-by-3 subgrid."
   ]
  },
  {
   "cell_type": "code",
   "execution_count": 6,
   "metadata": {},
   "outputs": [
    {
     "ename": "LoadError",
     "evalue": "syntax: unexpected \"]\"",
     "output_type": "error",
     "traceback": [
      "syntax: unexpected \"]\"",
      "",
      "Stacktrace:",
      " [1] top-level scope at In[6]:4",
      " [2] include_string(::Function, ::Module, ::String, ::String) at .\\loading.jl:1091",
      " [3] execute_code(::String, ::String) at C:\\Users\\wilhe\\.julia\\packages\\IJulia\\a1SNk\\src\\execute_request.jl:27",
      " [4] execute_request(::ZMQ.Socket, ::IJulia.Msg) at C:\\Users\\wilhe\\.julia\\packages\\IJulia\\a1SNk\\src\\execute_request.jl:86",
      " [5] #invokelatest#1 at .\\essentials.jl:710 [inlined]",
      " [6] invokelatest at .\\essentials.jl:709 [inlined]",
      " [7] eventloop(::ZMQ.Socket) at C:\\Users\\wilhe\\.julia\\packages\\IJulia\\a1SNk\\src\\eventloop.jl:8",
      " [8] (::IJulia.var\"#15#18\")() at .\\task.jl:356"
     ]
    }
   ],
   "source": [
    "# i is the top left row, j is the top left column\n",
    "# We'll sum from i to i+2, e.g. i=4, r=4, 5, 6\n",
    "for i = 1:3:7, j = 1:3:7, k = 1:9\n",
    "    @constraint(sudoku, sum(x[i,ind,k] for r=i:i+2, c=j:j+2) == 1)\n",
    "end"
   ]
  },
  {
   "cell_type": "markdown",
   "metadata": {},
   "source": [
    "Fills in the provided values using zero to represent an empty cell"
   ]
  },
  {
   "cell_type": "code",
   "execution_count": 7,
   "metadata": {},
   "outputs": [
    {
     "ename": "LoadError",
     "evalue": "UndefVarError: init_sol not defined",
     "output_type": "error",
     "traceback": [
      "UndefVarError: init_sol not defined",
      "",
      "Stacktrace:",
      " [1] macro expansion at C:\\Users\\wilhe\\.julia\\packages\\MutableArithmetics\\0tlz5\\src\\rewrite.jl:227 [inlined]",
      " [2] macro expansion at C:\\Users\\wilhe\\.julia\\packages\\JuMP\\qhoVb\\src\\macros.jl:440 [inlined]",
      " [3] top-level scope at .\\In[7]:15",
      " [4] include_string(::Function, ::Module, ::String, ::String) at .\\loading.jl:1091",
      " [5] execute_code(::String, ::String) at C:\\Users\\wilhe\\.julia\\packages\\IJulia\\a1SNk\\src\\execute_request.jl:27",
      " [6] execute_request(::ZMQ.Socket, ::IJulia.Msg) at C:\\Users\\wilhe\\.julia\\packages\\IJulia\\a1SNk\\src\\execute_request.jl:86",
      " [7] #invokelatest#1 at .\\essentials.jl:710 [inlined]",
      " [8] invokelatest at .\\essentials.jl:709 [inlined]",
      " [9] eventloop(::ZMQ.Socket) at C:\\Users\\wilhe\\.julia\\packages\\IJulia\\a1SNk\\src\\eventloop.jl:8",
      " [10] (::IJulia.var\"#15#18\")() at .\\task.jl:356"
     ]
    }
   ],
   "source": [
    "# enter the initial values\n",
    "init_val = [ 5 3 0 0 7 0 0 0 0;\n",
    "             6 0 0 1 9 5 0 0 0;\n",
    "             0 9 8 0 0 0 0 6 0;\n",
    "             8 0 0 0 6 0 0 0 3;\n",
    "             4 0 0 8 0 3 0 0 1;\n",
    "             7 0 0 0 2 0 0 0 6;\n",
    "             0 6 0 0 0 0 2 8 0;\n",
    "             0 0 0 4 1 9 0 0 5;\n",
    "             0 0 0 0 8 0 0 7 9]\n",
    "\n",
    "# if the value is specified initially add a constraint fixing the variables to that value.\n",
    "for i = 1:9, j = 1:9\n",
    "    if init_val[i,j] != 0\n",
    "        @constraint(sudoku, x[i,j,init_val[i,j]] == 1)\n",
    "    end\n",
    "end"
   ]
  },
  {
   "cell_type": "markdown",
   "metadata": {},
   "source": [
    "<div class=\"alert alert-block alert-info\">\n",
    "<b>What type of optimization problem was the sudoku? Is GLPK an appropriate optimizer for this type of problem?</b> You'll want to search for GLPK's documentation and check there.\n",
    "</div>\n",
    "\n",
    "<hr style=\"border:2px solid gray\"> </hr>"
   ]
  },
  {
   "cell_type": "code",
   "execution_count": 8,
   "metadata": {},
   "outputs": [
    {
     "ename": "LoadError",
     "evalue": "UndefVarError: m not defined",
     "output_type": "error",
     "traceback": [
      "UndefVarError: m not defined",
      "",
      "Stacktrace:",
      " [1] top-level scope at In[8]:1",
      " [2] include_string(::Function, ::Module, ::String, ::String) at .\\loading.jl:1091",
      " [3] execute_code(::String, ::String) at C:\\Users\\wilhe\\.julia\\packages\\IJulia\\a1SNk\\src\\execute_request.jl:27",
      " [4] execute_request(::ZMQ.Socket, ::IJulia.Msg) at C:\\Users\\wilhe\\.julia\\packages\\IJulia\\a1SNk\\src\\execute_request.jl:86",
      " [5] #invokelatest#1 at .\\essentials.jl:710 [inlined]",
      " [6] invokelatest at .\\essentials.jl:709 [inlined]",
      " [7] eventloop(::ZMQ.Socket) at C:\\Users\\wilhe\\.julia\\packages\\IJulia\\a1SNk\\src\\eventloop.jl:8",
      " [8] (::IJulia.var\"#15#18\")() at .\\task.jl:356"
     ]
    }
   ],
   "source": [
    "optimize!(m)\n",
    "\n",
    "x_val = value(x) # Extract the values of x"
   ]
  },
  {
   "cell_type": "markdown",
   "metadata": {},
   "source": [
    "To display the solution, we need to look for the values of **x**[i, j, k] that are equal to 1."
   ]
  },
  {
   "cell_type": "markdown",
   "metadata": {},
   "source": [
    "<div class=\"alert alert-block alert-warning\">\n",
    "<b>INTERACTIVE! Unpack the solution to a 9-by-9 matrix and confirm this is a valid Sudoku solution.</b> Note that the \n",
    "solution returned may not be an integer. So you'll need to round this to the nearest integer using <b>iround(y)</b>. \n",
    "</div>"
   ]
  },
  {
   "cell_type": "code",
   "execution_count": 9,
   "metadata": {},
   "outputs": [],
   "source": [
    "# FILL IN THE CODE HERE"
   ]
  },
  {
   "cell_type": "markdown",
   "metadata": {},
   "source": [
    "<hr style=\"border:2px solid gray\"> </hr>\n",
    "\n",
    "## <span style=\"color:darkblue\"> Integrating water system treatment in the process industry </span>\n",
    "\n",
    "* Adapted from [R. Karuppiah & I. Grossmann. Global optimization for the synthesis of integrated water systems in chemical processes. Computers and Chemical Engineering 30 (2006) 650–673](https://www.sciencedirect.com/science/article/abs/pii/S0098135405002991)\n",
    "\n",
    "The efficient utilitization of water will be an integral part to solving the numerous water management issues of today and the near future. The increasing usage of water, anticipated water scarities, and changing regulations are expected to be central challenge in the next decades. These challenges extend to the adaptation of numerous industrial processes.\n",
    "as fresh water is a key resource used a number of industrial processes. These include the washing operations in the food processing, the thermal processing (cooling, quenching, and scrubbing) in iron and steel manufacturing, and in the desalination of crude oil. In each of this processes, some level of contamination is introduced into the freshwater by the process. This process water is then treated in a central facility to remove contaminants and satisfy local regulatory specifications for the disposal of wastewater. In design or improving this central facility, two central questions must be considered. 1) What unit operations need to be included? 2) How should these process units be connected?\n",
    "\n",
    "A typical design objective for a wastewater treatment plant may consist of minimize it's overall cost in a given year of operation. That is we minimize the sum of the cost fo freshwater intake, the investment cost associated with each treatment unit, and the operating cost of each unit. This can be achieved by minimizing the follow objective:\n",
    "\n",
    "$\\Phi = A_R\\sum_{j} C_j^{Inv} F_j^{\\alpha} + H\\sum_{j} F_j C_j^{Op} + H F_{fw} C_{fw}$ \n",
    "\n",
    "where H is the number of hours of operation per annum ($h$); the cost of freshwater is given by $C_{fw}$ (`$/ton`); the fresh water intake mass if given by $F_{fw}$ (`ton/h`); The annualized factor for investment on treatment units is given by $A_R$; the $C_j^{Inv} F_j^{\\alpha}$ is the investment cost (`$`) of the $j$-th treatment unit which treats a flowrate stream of contaminated water $F_j$ (`ton/h`); $C_j^{Op} F_j^{\\alpha}$ is the operating cost (`$/h`) of the $j$-th treatment unit which treats a flowrate of contaminated water $F_j$ (`ton/h`); the parameter $\\alpha$ is a constant cost function exponent $0 \\leq \\alpha \\leq 1$.\n",
    "\n",
    "The **mixers** units can be described as follows:\n",
    "- The outlet flowrate is the sum of the inlet stream flow rate: $F^{outlet} = \\sum_{i = 1}^{n} F^{inlet}_i $ where $F^{outlet}$, $F^{inlet}_1$, $\\ldots$, $F^{inlet}_n$ are given in (tons/hr) and $n$ is the number of inlets streams.\n",
    "- The mass of each contaminant in the outlet equals the mass of each contaminant in the inlet streams: $F^{outlet}C_j^{outlet} = \\sum_{i = 1}^{n} F^{inlet}_i C_j^{inlet}$ \n",
    "\n",
    "The **splitter** units:\n",
    "- The outlet flowrates are the sum of the inlet flowrate: $F^{inlet} = \\sum_{i = 1}^{m} F^{outlet}_i $ where $F^{inlet}$, $F^{outlet}_1$, $\\ldots$, $F^{outlet}_m$ are given in (tons/hr) and $m$ is the number of outlet streams.\n",
    "- The each outlet streams contaminant concentration is equal to the inlet stream contaminant concentration: $F^{outlet}_m$. \n",
    "\n",
    "A fixed mass of contaminant is added to a stream by each **process unit**:\n",
    "- A process unit has a single inlet stream and a single outlet stream: $F^{inlet} = F^{outlet}$\n",
    "- The process unit reduces the l $F^{inlet}C_j^{inlet} + L^{p}_j = F^{outlet}C_j^{outlet}$\n",
    "\n",
    "The **treatment units**:\n",
    "- A process unit has a single inlet stream and a single outlet stream with the same flowrate: $F^{inlet} = F^{outlet}$\n",
    "- The concentration of contaminant in the outlet $C_j^{outlet} = \\beta^{t}_j C_j^{inlet}$ where $\\beta^{t}_j$ is the removal ratio of $j$.\n",
    "\n",
    "Two contaminants A & B are introduced into the system and the concentration of each contaminant must be reduced to 10ppm prior to discharging it into the enviroment. The cost of freshwater is assumed to be $1/ton, the annualized factor for investment on the treatment unit is taken to be 0.1, and the total time of operation of the plant is 8000h/year. \n",
    "\n",
    "<img src=\"wastewater.png\" width=\"800\">\n",
    "\n",
    "The flowrate of water required by each process unit, along with containment inlet concentration limits, and amount of contaminant discharged are given in Table 1. We'll assume an $\\alpha$ value of 0.7, an investment \n",
    "\n",
    "|                   | Flowrate (ton/h) |     Discharge A (kg/h)       |     Discharge B  (kg/h)       |     Max inlet concentration A (ppm)       |    Max inlet concentration  B  (ppm)      |\n",
    "| -----------       |     -----------  | ----------- | ----------- | ----------- | ----------- |\n",
    "| Process Unit #1   | 40               | 1           | 1.5         | 0           |  0          |\n",
    "| Process Unit #2   | 50               | 1           | 1           | 50          | 50          |\n",
    "\n",
    "The efficiency of the treatment units are given by the removal ratio in Table 2 along with cost model constants:\n",
    "\n",
    "|                        | Removal Ratio of A | Removal Ratio of B | $C_j^{Inv}$        | $C_j^{Op}$         |\n",
    "| -----------            |     -----------    | -----------        | -----------        | -----------        |\n",
    "| Treatment Unit #1      | 95\\%               |   0\\%              |   16800            | 1                  |\n",
    "| Treatment Unit #2      | 0\\%                | 95\\%               |   12600            | 0.0067             |\n"
   ]
  },
  {
   "cell_type": "markdown",
   "metadata": {},
   "source": [
    "<div class=\"alert alert-block alert-warning\">\n",
    "<b>INTERACTIVE!</b> Is this model convex or nonconvex? Continuous or mixed-integer? Why?\n",
    "</div>\n",
    "\n",
    "<hr style=\"border:2px solid gray\"> </hr>"
   ]
  },
  {
   "cell_type": "code",
   "execution_count": 1,
   "metadata": {},
   "outputs": [
    {
     "name": "stderr",
     "output_type": "stream",
     "text": [
      "┌ Info: Precompiling JuMP [4076af6c-e467-56ae-b986-b466b2749572]\n",
      "└ @ Base loading.jl:1278\n",
      "┌ Info: Precompiling Ipopt [b6b21f68-93f8-5de0-b562-5493be1d77c9]\n",
      "└ @ Base loading.jl:1278\n"
     ]
    },
    {
     "data": {
      "text/latex": [
       "$$ \\begin{alignat*}{1}\\text{feasibility}\\\\\n",
       "\\text{Subject to} \\quad\\end{alignat*}\n",
       " $$"
      ],
      "text/plain": [
       "A JuMP Model\n",
       "Feasibility problem with:\n",
       "Variables: 0\n",
       "Model mode: AUTOMATIC\n",
       "CachingOptimizer state: EMPTY_OPTIMIZER\n",
       "Solver name: Ipopt"
      ]
     },
     "execution_count": 1,
     "metadata": {},
     "output_type": "execute_result"
    }
   ],
   "source": [
    "using JuMP, Ipopt                    # import functions from the JuMP & Ipopt package into your current environment\n",
    "\n",
    "wastewater = Model(Ipopt.Optimizer)  # create a model which stores an optimization problem\n",
    "                                     # indicate that the optimizer Ipopt should be used to solve the model"
   ]
  },
  {
   "cell_type": "markdown",
   "metadata": {},
   "source": [
    "<div class=\"alert alert-block alert-warning\">\n",
    "<b>INTERACTIVE!</b> Define the variable in the model for the flowrates (<b>Hint:</b> It may be easier to write concentrations and flowrates as vectors rather than a series of variables. Also, assume that the max flowrate in a system is about 5000 tons, at least 1 ton of wastewater was used). Also, assume the flowrate in each treatment unit is atleast 0.1 tons/hour. A flowrate of 0.0 may cause a numerical error in the objective function. Why do you think that would be?\n",
    "</div>\n",
    "\n",
    "<div class=\"alert alert-block alert-info\">\n",
    "<b>Comment:</b> Some optimizers require that all variables have both lower and upper bounds defined. If there aren't any obvious choices in a problem, you may have to exercise your best judgement and choose reasonable bounds.\n",
    "</div>"
   ]
  },
  {
   "cell_type": "code",
   "execution_count": 2,
   "metadata": {},
   "outputs": [
    {
     "data": {
      "text/latex": [
       "$$ c2M $$"
      ],
      "text/plain": [
       "c2M"
      ]
     },
     "execution_count": 2,
     "metadata": {},
     "output_type": "execute_result"
    }
   ],
   "source": [
    "max_flow = 5000.0 # max flowrate used in plant\n",
    "max_conc = 1.00\n",
    "\n",
    "@variable(wastewater, 0 <= fB <= max_flow)\n",
    "@variable(wastewater, 0 <= c1B <= max_conc)\n",
    "@variable(wastewater, 0 <= c2B <= max_conc)\n",
    "\n",
    "max_p2_conc = 50/(1000)^2\n",
    "@variable(wastewater, 0 <= fC <= max_flow)\n",
    "@variable(wastewater, 0 <= c1C <= max_p2_conc)\n",
    "@variable(wastewater, 0 <= c2C <= max_p2_conc)\n",
    "\n",
    "@variable(wastewater, 0 <= fD <= max_flow)\n",
    "@variable(wastewater, 0 <= c1D <= max_conc)\n",
    "@variable(wastewater, 0 <= c2D <= max_conc)\n",
    "\n",
    "@variable(wastewater, 0 <= fK <= max_flow)\n",
    "@variable(wastewater, 0 <= c1K <= max_conc)\n",
    "@variable(wastewater, 0 <= c2K <= max_conc)\n",
    "\n",
    "# input variables\n",
    "@variable(wastewater, 1.0 <= fA <= max_flow)\n",
    "c1A = 0.0\n",
    "c2A = 0.0\n",
    "\n",
    "@variable(wastewater, 0.1 <= fE <= max_flow)\n",
    "@variable(wastewater, 0 <= c1E <= max_conc)\n",
    "@variable(wastewater, 0 <= c2E <= max_conc)\n",
    "\n",
    "@variable(wastewater, 0 <= fF <= max_flow)\n",
    "@variable(wastewater, 0 <= c1F <= max_conc)\n",
    "@variable(wastewater, 0 <= c2F <= max_conc)\n",
    "\n",
    "@variable(wastewater, 0.1 <= fG <= max_flow)\n",
    "@variable(wastewater, 0 <= c1G <= max_conc)\n",
    "@variable(wastewater, 0 <= c2G <= max_conc)\n",
    "\n",
    "@variable(wastewater, 0 <= fH <= max_flow)\n",
    "@variable(wastewater, 0 <= c1H <= max_conc)\n",
    "@variable(wastewater, 0 <= c2H <= max_conc)\n",
    "\n",
    "@variable(wastewater, 0 <= fI <= max_flow)\n",
    "@variable(wastewater, 0 <= c1I <= max_conc)\n",
    "@variable(wastewater, 0 <= c2I <= max_conc)\n",
    "\n",
    "@variable(wastewater, 0 <= fJ <= max_flow)\n",
    "@variable(wastewater, 0 <= c1J <= max_conc)\n",
    "@variable(wastewater, 0 <= c2J <= max_conc)\n",
    "\n",
    "@variable(wastewater, 0 <= fL <= max_flow)\n",
    "@variable(wastewater, 0 <= c1L <= max_conc)\n",
    "@variable(wastewater, 0 <= c2L <= max_conc)\n",
    "\n",
    "outlet_spec = 10.0/(1000)^2   # 10ppm\n",
    "@variable(wastewater, 0 <= fM <= max_flow)\n",
    "@variable(wastewater, 0 <= c1M <= outlet_spec)\n",
    "@variable(wastewater, 0 <= c2M <= outlet_spec)"
   ]
  },
  {
   "cell_type": "markdown",
   "metadata": {},
   "source": [
    "Next we'll add constraints for the first mixer unit and the second process unit below:"
   ]
  },
  {
   "cell_type": "code",
   "execution_count": 3,
   "metadata": {},
   "outputs": [
    {
     "data": {
      "text/latex": [
       "process2_c2 : $ fD\\times c1C - c2D\\times fD = -0.001 $"
      ],
      "text/plain": [
       "process2_c2 : fD*c1C - c2D*fD == -0.001"
      ]
     },
     "execution_count": 3,
     "metadata": {},
     "output_type": "execute_result"
    }
   ],
   "source": [
    "# mixer #1\n",
    "@constraint(wastewater, mixer1_flow, fB + fK - fC == 0)\n",
    "@constraint(wastewater, mixer1_c1, c1B*fB + c1K*fK - c1C*fC == 0)\n",
    "@constraint(wastewater, mixer1_c2, c2B*fB + c2K*fK - c2C*fC == 0)\n",
    "\n",
    "# process unit #2\n",
    "Lp12 = 1/1000\n",
    "Lp22 = 1/1000\n",
    "@constraint(wastewater, process2_flow, fC - fD == 0)\n",
    "@constraint(wastewater, process2_c1, fC*c1C + Lp12 - fD*c1D == 0)\n",
    "@constraint(wastewater, process2_c2, fD*c1C + Lp22 - fD*c2D == 0)"
   ]
  },
  {
   "cell_type": "markdown",
   "metadata": {},
   "source": [
    "<div class=\"alert alert-block alert-warning\">\n",
    "<b>INTERACTIVE!</b> Now we'll need to define constraints for the remaining mixing units, splitters, treatment, and process units.\n",
    "</div>"
   ]
  },
  {
   "cell_type": "code",
   "execution_count": 4,
   "metadata": {},
   "outputs": [
    {
     "data": {
      "text/latex": [
       "process1_c2 : $ -c2B\\times fB = -0.001 $"
      ],
      "text/plain": [
       "process1_c2 : -c2B*fB == -0.001"
      ]
     },
     "execution_count": 4,
     "metadata": {},
     "output_type": "execute_result"
    }
   ],
   "source": [
    "# mixer #2\n",
    "@constraint(wastewater, mixer2_flow, fL + fF - fG == 0)\n",
    "@constraint(wastewater, mixer2_c1, c1L*fL + c1F*fF - c1G*fG == 0)\n",
    "@constraint(wastewater, mixer2_c2, c2L*fL + c2F*fF - c2G*fG == 0)\n",
    "\n",
    "# mixer #3\n",
    "@constraint(wastewater, mixer3_flow, fH + fJ - fM == 0)\n",
    "@constraint(wastewater, mixer3_c1, c1H*fH + c1J*fJ - c1M*fM == 0)\n",
    "@constraint(wastewater, mixer3_c2, c2H*fH + c2J*fJ - c2M*fM == 0)\n",
    "\n",
    "# splitter #1\n",
    "@constraint(wastewater, splitter1_flow, fD - fE - fF == 0)\n",
    "@constraint(wastewater, splitter1_c1a, c1D - c1E == 0)\n",
    "@constraint(wastewater, splitter1_c1b, c1D - c1F == 0)\n",
    "@constraint(wastewater, splitter1_c2a, c2D - c2E == 0)\n",
    "@constraint(wastewater, splitter1_c2b, c2D - c2F == 0)\n",
    "\n",
    "# splitter #2\n",
    "@constraint(wastewater, splitter2_flow, fI - fJ - fK - fL == 0)\n",
    "@constraint(wastewater, splitter2_c1a, c1I - c1J == 0)            # Concentration of component 1 in steam I\n",
    "@constraint(wastewater, splitter2_c1b, c1I - c1K == 0)            # equals concentration in steam J\n",
    "@constraint(wastewater, splitter2_c1c, c1I - c1L == 0)            # same for each input/output steeam\n",
    "@constraint(wastewater, splitter2_c2a, c2I - c2J == 0)\n",
    "@constraint(wastewater, splitter2_c2b, c2I - c2K == 0)\n",
    "@constraint(wastewater, splitter2_c2c, c2I - c2L == 0)\n",
    "\n",
    "# treatment unit #1\n",
    "removal_ratio1 = 1.0 - 0.95\n",
    "@constraint(wastewater, treatment1_flow, fE - fH == 0)\n",
    "@constraint(wastewater, treatment1_c1, removal_ratio1*c1E - c1H == 0)\n",
    "@constraint(wastewater, treatment1_c2, c2E - c2H == 0)\n",
    "\n",
    "# treatment unit #2\n",
    "removal_ratio2 = 1.0 - 0.95\n",
    "@constraint(wastewater, treatment2_flow, fG - fI == 0)\n",
    "@constraint(wastewater, treatment2_c1, c1G - c1I == 0)\n",
    "@constraint(wastewater, treatment2_c2, removal_ratio2*c2G - c2I == 0)\n",
    "\n",
    "# process unit #1\n",
    "Lp11 = 1.5/1000\n",
    "Lp21 = 1/1000\n",
    "@constraint(wastewater, process1_flow, fA - fB == 0)\n",
    "@constraint(wastewater, process1_c1, fA*c1A + Lp11 - fB*c1B == 0)\n",
    "@constraint(wastewater, process1_c2, fA*c2A + Lp21 - fB*c2B == 0)"
   ]
  },
  {
   "cell_type": "markdown",
   "metadata": {},
   "source": [
    "<div class=\"alert alert-block alert-warning\">\n",
    "<b>INTERACTIVE!</b> Add an objective function to the model and check the help for `JuMP.@objective` and `JuMP.@NLobjective` (after running the above blocks) to check for the syntax needed. \n",
    "</div>"
   ]
  },
  {
   "cell_type": "code",
   "execution_count": 5,
   "metadata": {},
   "outputs": [],
   "source": [
    "# financial assumptions\n",
    "AR = 0.1       # annualized factor\n",
    "H = 8000       # total hours plant operates\n",
    "alpha = 0.7    # scaling term for capital cost\n",
    "Cwater = 1.0   # cost of freshwater ($/ton)\n",
    "\n",
    "# investment cost\n",
    "Cinv1 = 16800.0\n",
    "Cinv2 = 12600.0\n",
    "\n",
    "# marginal operating cost\n",
    "Cop1 = 1\n",
    "Cop2 = 0.0067\n",
    "@NLexpression(wastewater, capital_cost, AR*(Cinv1*fE^alpha + Cinv2*fG^alpha))\n",
    "@NLexpression(wastewater, operating_cost, Cop1*fE + Cop2*fG + H*fA*Cwater)\n",
    "@NLobjective(wastewater, Min, capital_cost + operating_cost)"
   ]
  },
  {
   "cell_type": "markdown",
   "metadata": {},
   "source": [
    "Now, we simply optimize the model."
   ]
  },
  {
   "cell_type": "code",
   "execution_count": null,
   "metadata": {},
   "outputs": [],
   "source": [
    "JuMP.optimize!(wastewater)"
   ]
  },
  {
   "cell_type": "markdown",
   "metadata": {},
   "source": [
    "<div class=\"alert alert-block alert-warning\">\n",
    "<b>INTERACTIVE!</b> Next we extract information about the optimization problem. We'll want to check the status of the solve and the objective value initially. Generally, optimizers will return one or more status codes to indicate if the solve was successful and to indicate any potential numerical issues that occur. The raw form of these are specific to each optimizer but JuMP intrepets these into standard status codes. A termination status accessed by the function <b>termination_status</b> indicating the optimizer status and a primal status describing the meaning of the solution accessed by <b>primal_status</b>. Lastly, the objective value is accessed by <b>objective_value</b>. Check the help for descriptions of the <b>TerminationStatusCode</b> and <b>ResultStatusCode</b>. Are these what you'd expect?\n",
    "</div>"
   ]
  },
  {
   "cell_type": "code",
   "execution_count": null,
   "metadata": {},
   "outputs": [],
   "source": [
    "ww_termination_status = termination_status(wastewater)\n",
    "ww_primal_status = primal_status(wastewater)\n",
    "println(\"Termination Status is $(ww_termination_status) while primal status is $(ww_primal_status)\")"
   ]
  },
  {
   "cell_type": "markdown",
   "metadata": {},
   "source": [
    "Let's look into the **sensitivity** of the problems. That is to say, how much will changing a constraint and/or the variable bounds result in changing the solution? If we can perturb a constraint without affect this solution then the constraint is inactive. Otherwise, we can access the sensitivity via the **dual** the constraint $g(x) \\leq a$ which is the change in the optimal value per change in $a$. Use **LowerBoundRef** and **UpperBoundRef** to get constraints corresponding to the box constraints on the variables.\n",
    "\n",
    "<div class=\"alert alert-block alert-warning\">\n",
    "<b>INTERACTIVE!</b> How much effect would changing the 10ppm effluent specification slightly have on the process cost? <b> Hint: </b> Use the function <b> dual </b> to recover the dual value of the constraint defining this specification. Does this match the result you get by modifying the constraint and resolving the problem?   \n",
    "</div>"
   ]
  },
  {
   "cell_type": "code",
   "execution_count": null,
   "metadata": {},
   "outputs": [],
   "source": [
    "variables = [fA; fB; fC; fD; fE; fG; fH; fI; fJ; fK; fL;\n",
    "             c1A; c1B; c1C; c1D; c1E; c1G; c1H; c1I; c1J; c1K; c1L;\n",
    "             c2A; c2B; c2C; c2D; c2E; c2G; c2H; c2I; c2J; c2K; c2L]\n",
    "\n",
    "values = value.(variables)\n",
    "\n",
    "dual_c1Ma = dual(LowerBoundRef(c1M))\n",
    "dual_c1Mb = dual(UpperBoundRef(c1M))\n",
    "dual_c2Ma = dual(LowerBoundRef(c2M))\n",
    "dual_c2Mb = dual(UpperBoundRef(c2M))\n",
    "println(\"The dual numbers for the outlet concentrations are $(dual_c1Ma), $(dual_c1Mb), $(dual_c2Ma), $(dual_c2Mb)\")"
   ]
  },
  {
   "cell_type": "markdown",
   "metadata": {},
   "source": [
    "<div class=\"alert alert-block alert-warning\">\n",
    "<b>INTERACTIVE!</b> Based on the form of the optimization problem, would you expect a local (convex) optimizer to return the best possible objective value? Why or why (not)? What sort of numerical experiments would support a determination in either case?  \n",
    "</div>"
   ]
  },
  {
   "cell_type": "markdown",
   "metadata": {
    "collapsed": true
   },
   "source": [
    "<hr style=\"border:2px solid gray\"> </hr>\n",
    "\n",
    "## A question to reflect on\n",
    "\n",
    "- We've solved two optimization problems: an integer program and a nonlinear program. The full design of a wastewater treatment plant may be handled by combining these two approaches. This can include which process units, how many process units, and treatment units are included as well as a full exploration of recycle loop configurations. This variety of problem is termed [**superstructure optimization**](https://www.sciencedirect.com/science/article/abs/pii/S0098135405002991) and developing efficient means of solving these problems remains an active area of research. **How might we modify the above problem using 0-1 integer variables to explore other potential recycle configurations?**"
   ]
  }
 ],
 "metadata": {
  "kernelspec": {
   "display_name": "Julia 1.5.1",
   "language": "julia",
   "name": "julia-1.5"
  },
  "language_info": {
   "file_extension": ".jl",
   "mimetype": "application/julia",
   "name": "julia",
   "version": "1.5.1"
  }
 },
 "nbformat": 4,
 "nbformat_minor": 4
}
