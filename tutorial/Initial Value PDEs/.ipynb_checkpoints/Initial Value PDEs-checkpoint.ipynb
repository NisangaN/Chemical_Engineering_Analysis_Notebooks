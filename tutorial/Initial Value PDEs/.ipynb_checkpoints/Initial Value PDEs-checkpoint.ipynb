{
 "cells": [
  {
   "cell_type": "markdown",
   "metadata": {},
   "source": [
    "#  <span style=\"color:darkblue\"> Initial Boundary Value PDEs </span>\n",
    "\n",
    "*Supplemental material (Julia) for Chapters 7 of \"Numerical Methods and Chemical Engineering Applications\" by Dorfman and Daoutidis*\n",
    "\n",
    "<hr style=\"border:6px solid black\"> </hr>\n",
    "\n",
    "# Learning Objectives\n",
    "\n",
    "- Be able to recognize Laplace & Poisson equations\n",
    "- Describe the basic steps involved in the Method of Lines (MOL)\n",
    "- Apply knowledge of how discretize interior nodes\n",
    "- Apply knowledge of how to discretize exterior nodes for each boundary condition (Neumann, Robin, Dirichlet)\n",
    "- Solve a 1D system of PDEs using MOL with explicit Euler's method.\n",
    "- Formulate the system of ODEs created with MOL by interlacing variables on a rectangular grid.\n",
    "- Formulate the implicit Euler's method\n",
    "\n",
    "<hr style=\"border:6px solid black\"> </hr>"
   ]
  },
  {
   "cell_type": "markdown",
   "metadata": {},
   "source": [
    "# Simulating a graded catalyst bed\n",
    "\n",
    "Process engineers are often engaged in tasks centered around increasing the economic productivity of process equipment while ensuring safe operation. For the commodity chemical industry, increased conversion of reactant to product remains a desired outcome. One of the most common used continuously operating reactor in this sector is that of the catalytic packed bed reactor. In this configuration, a tubular reactor is employed. This reactor is packed with a catalystic particles and the reactant flows over the catalyst bed. \n",
    "\n",
    "**ADD PFR DIAGRAM HERE**\n",
    "\n",
    "Depending on the nature of the reaction (endothermic vs. exothermic) several different regions of cooling jackets or heating elements may be used to maintian a desired temperature profile. Moreover, the reaction rate may also be modulated by changing the dis.\n",
    "\n",
    "**REACTOR RUN AWAY PICTURE**\n",
    "\n",
    "One important industrial chemical is that ortho-xylene which is used to produce phthalic anhydride a common plastizer. Our interest will be in simulate a system with a graded catalyst bed. \n",
    "\n",
    "What is runaway\n",
    "Commecial packed bed reactors often must be operated near runaway conditions in order to achieve high conversion.\n",
    "\n",
    "The desired reaction is:\n",
    "![react1](react1edited.png)\n",
    "\n",
    "Two underdesirable side reactions are also known to occur:\n",
    "\n",
    "<img src=\"react2edited.png\" width=\"600\">\n",
    "\n",
    "<img src=\"react3edited.png\" width=\"600\">\n",
    "\n",
    "In this example, we'll look at \n",
    "\n",
    "\n",
    "## A basic descriptive model\n",
    "\n",
    "A two-dimensional steady-state pseudohomogeneous packed bed raector equations consist of a mass balance and an energy balance:\n",
    "\n",
    "\\\\[ Q\\frac{\\partial c_j}{\\partial V} = \\frac{D}{R}\\frac{\\partial}{\\partial R}\\left(R\\frac{\\partial c_j}{\\partial R}\\right) + \\sum_{i}{\\nu_{ij}r_i(c,T)}  \\\\]\n",
    "\n",
    "\\\\[\\sum_{i}{f_{i}c_{pj}}\\frac{\\partial T}{\\partial V} = \\frac{\\Lambda}{R}\\frac{\\partial}{\\partial R}\\left(R\\frac{\\partial T}{\\partial R}\\right) + \\sum_{i}{(-\\Delta H_{i})r_i(c,T)}  \\\\]\n",
    "\n",
    "<div class=\"alert alert-block alert-info\">\n",
    "<b>Special forms:</b> XXXX.\n",
    "</div>\n",
    "\n",
    "We assume a sufficient cooling flow exists to hold the reactor wall temperature constant at a fixed value of $T^c$. Then we can write a symmetry and cooling () boundary condition:\n",
    "\n",
    "\\\\[ Q\\frac{\\partial c_j}{\\partial V} = \\frac{D}{R}\\frac{\\partial}{\\partial R}\\left(R\\frac{\\partial c_j}{\\partial R}\\right) + \\sum_{i}{\\nu_{ij}r_i(c,T)}  \\\\]\n",
    "\n",
    "<div class=\"alert alert-block alert-info\">\n",
    "<b>Special forms:</b> XXXX.\n",
    "</div>\n",
    "\n",
    "## Further model simplification\n",
    "\n",
    "- The radial diffusion in this reactor is typically quite fast (radial concentration gradients can be neglected).\n",
    "\n",
    "\\\\[ Q\\frac{\\partial c_j}{\\partial V} = \\sum_{i}{\\nu_{ij}r_i(c,T)}  \\\\]\n",
    "\n",
    "- As the reaction is highly exothermic, a large amount of cooling at the wall is necessary. As such thermal gradients at the wall of the reactor may be high (cannot neglect radial temperature differences).\n",
    "\n",
    "\\\\[\\left.\\frac{dT}{dR}\\right\\vert_{R=0} = 0 \\qquad \\qquad \\left.\\frac{dT}{dR}\\right\\vert_{R=0} = -Bi(T - T^c) \\\\]\n",
    "\n",
    "In this configuration, \n",
    "https://pubs.acs.org/doi/abs/10.1021/ie4005699\n",
    "\n",
    "Simulate a cylindrical packed bed exothermic reactor a discussion of its relevance to chemical looping combustion for both commodity chemical processing namely o-xylene (Nie 2013) and carbon capture (Hamers 2013)."
   ]
  },
  {
   "cell_type": "markdown",
   "metadata": {},
   "source": [
    "<hr style=\"border:6px solid black\"> </hr>\n",
    "\n",
    "We'll now make use \n",
    "\n",
    "Unlike typically combustion processes in which a gaseous oxygen source is used the\n",
    "\n",
    "Chemical looping combustion: https://www.sciencedirect.com/science/article/abs/pii/S1750583613001151"
   ]
  },
  {
   "cell_type": "code",
   "execution_count": null,
   "metadata": {},
   "outputs": [],
   "source": []
  },
  {
   "cell_type": "markdown",
   "metadata": {},
   "source": [
    "<hr style=\"border:6px solid black\"> </hr>\n",
    "\n",
    "# Questions for reflection\n",
    "- For a simple, what factors influence whether a system is numerically stable?\n",
    "- For IVP-PDEs, the problem size can grow quite rapidly. For a 3D systems, using 20 discretization points in each dimension leads to an 8000-by-8000 system while 256 points leads to a ~16 million by ~16 million system. As illustrated by [Jaroudi, et al.](https://www.tandfonline.com/doi/full/10.1080/00207160.2019.1613526?af=R), a large number of such systems can be solved in a few hours on standard desktop. In light of this fact, how do you think the resulting linear systems formulated and solved?\n",
    "- What are some other questions that you'd expect to be important when design a chemical looping combustion system? Can you provide some ideas of how numerical methods could be used to help answer these?\n",
    "\n",
    "<hr style=\"border:6px solid black\"> </hr>"
   ]
  },
  {
   "cell_type": "code",
   "execution_count": null,
   "metadata": {},
   "outputs": [],
   "source": []
  }
 ],
 "metadata": {
  "kernelspec": {
   "display_name": "Julia 1.5.1",
   "language": "julia",
   "name": "julia-1.5"
  },
  "language_info": {
   "file_extension": ".jl",
   "mimetype": "application/julia",
   "name": "julia",
   "version": "1.5.1"
  }
 },
 "nbformat": 4,
 "nbformat_minor": 4
}
