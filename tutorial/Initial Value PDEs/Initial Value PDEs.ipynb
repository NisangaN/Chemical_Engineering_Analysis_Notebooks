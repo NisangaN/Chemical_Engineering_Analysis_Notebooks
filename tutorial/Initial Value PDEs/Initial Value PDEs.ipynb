{
 "cells": [
  {
   "cell_type": "markdown",
   "metadata": {},
   "source": [
    "#  <span style=\"color:darkblue\"> Initial Boundary Value PDEs </span>\n",
    "\n",
    "*Supplemental material (Julia) for Chapters 7 of \"Numerical Methods and Chemical Engineering Applications\" by Dorfman and Daoutidis*\n",
    "\n",
    "<hr style=\"border:6px solid black\"> </hr>\n",
    "\n",
    "# Learning Objectives\n",
    "\n",
    "- Be able to recognize Laplace & Poisson equations\n",
    "- Describe the basic steps involved in the Method of Lines (MOL)\n",
    "- Apply knowledge of how discretize interior nodes\n",
    "- Apply knowledge of how to discretize exterior nodes for each boundary condition (Neumann, Robin, Dirichlet)\n",
    "- Solve a 1D system of PDEs using MOL with explicit Euler's method.\n",
    "- Formulate the system of ODEs created with MOL by interlacing variables on a rectangular grid.\n",
    "- Formulate the implicit Euler's method\n",
    "\n",
    "<hr style=\"border:6px solid black\"> </hr>"
   ]
  },
  {
   "cell_type": "markdown",
   "metadata": {},
   "source": [
    "# Simulating a graded catalyst bed\n",
    "\n",
    "Process engineers are often engaged in tasks centered around increasing the economic productivity of process equipment while ensuring safe operation. For the commodity chemical industry, increased conversion of reactant to product remains a desired outcome. One of the most common used continuously operating reactor in this sector is that of the catalytic packed bed reactor. In this configuration, a tubular reactor is employed. This tube is packed with catalyst covered particles and the reactant flows over the catalyst bed. In many cases, a large number of tubes will be used in parallel cooled by the same jacket. We'll just consider the single tube variant here. A simplifed depiction is given below. \n",
    "\n",
    "<img src=\"reactor_diagram.png\" width=\"600\">\n",
    "\n",
    "\n",
    "One important industrial chemical is that ortho-xylene which is used to produce phthalic anhydride a common plastizer. \n",
    "The desired reaction is:\n",
    "<img src=\"react1edited.png\" width=\"500\">\n",
    "\n",
    "However, two underdesirable side reactions are also known to occur:\n",
    "\n",
    "<img src=\"react2edited.png\" width=\"500\">\n",
    "\n",
    "<img src=\"react3edited.png\" width=\"500\">\n",
    "\n",
    "The reactor is typically operated such at a hotspot occurs in the reactor, the reactor is stable (and in turn safe), and a high degree of selectivity and conversion is achieved. A number of process parameters including pressure, temperature, residence time, cooling rate, and feed composition may be manipulated to improve reactor productivity, selectivity, conversion, or overall profitability. We'll build a simulation (based on the model in this [paper](https://pubs.acs.org/doi/abs/10.1021/ie4005699).) to investigate the how using a graded catalyst may impact reactor performance. That is to say a reactor in which differing zones are loaded with catalyst of differing activity levels. This can allow the operator to raise the effective reactor temperature while preventing thermal runaway and maintaining adequate selectivity.\n",
    "\n",
    "## A basic descriptive model\n",
    "\n",
    "A two-dimensional steady-state pseudohomogeneous packed bed reactor equations consist of a mass balance and an energy balance:\n",
    "\n",
    "\\\\[ Q\\frac{\\partial c_j}{\\partial V} = \\frac{D}{R}\\frac{\\partial}{\\partial R}\\left(R\\frac{\\partial c_j}{\\partial R}\\right) + \\sum_{i}{\\nu_{ij}r_i(c,T)}  \\\\]\n",
    "\n",
    "\\\\[\\sum_{i}{f_{i}c_{pj}}\\frac{\\partial T}{\\partial V} = \\frac{\\Lambda}{R}\\frac{\\partial}{\\partial R}\\left(R\\frac{\\partial T}{\\partial R}\\right) + \\sum_{i}{(-\\Delta H_{i})r_i(c,T)}  \\\\]\n",
    "\n",
    "For a full review of different packed bed reactor models, the reader is directed to [this reference](https://ris.utwente.nl/ws/portalfiles/portal/6073612/t0000040.pdf).\n",
    "\n",
    "<div class=\"alert alert-block alert-info\">\n",
    "<b>Form of the above equations:</b> The above equations are coupled convection-diffusion equations. One of the most commonly encountered forms in fluid mechanics.\n",
    "</div>\n",
    "\n",
    "<div class=\"alert alert-block alert-warning\">\n",
    "<b>Limiting cases:</b> Consider briefly under what conditions we might assume that these equations reduce to the Poisson or Laplace equations below.\n",
    "</div>\n",
    "\n",
    "1. **Poisson Equation**: \\\\[\\nabla^2 x = f(x)\\\\]\n",
    "2. **Laplace Equation**: \\\\[\\nabla^2 x = 0\\\\]\n",
    "\n",
    "Next, we assume a sufficient cooling flow exists to hold the reactor wall temperature constant at a fixed value of $T^c$. Then we can write a symmetry and cooling () boundary condition:\n",
    "\n",
    "\\\\[ Q\\frac{\\partial c_j}{\\partial V} = \\frac{D}{R}\\frac{\\partial}{\\partial R}\\left(R\\frac{\\partial c_j}{\\partial R}\\right) + \\sum_{i}{\\nu_{ij}r_i(c,T)}  \\\\]\n",
    "\n",
    "## Further model simplification\n",
    "\n",
    "- The radial diffusion in this reactor is typically quite fast (radial concentration gradients can be neglected).\n",
    "\n",
    "\\\\[ Q\\frac{\\partial c_j}{\\partial V} = \\sum_{i}{\\nu_{ij}r_i(c,T)}  \\\\]\n",
    "\n",
    "- As the reaction is highly exothermic, a large amount of cooling at the wall is necessary. As such thermal gradients at the wall of the reactor may be high (cannot neglect radial temperature differences).\n",
    "\n",
    "\\\\[\\left.\\frac{dT}{dR}\\right\\vert_{R=0} = 0 \\qquad \\qquad \\left.\\frac{dT}{dR}\\right\\vert_{R=R_t} = -Bi(T - T^c) \\\\]\n",
    "\n",
    "<div class=\"alert alert-block alert-info\">\n",
    "<b>Note:</b> The wall boundary condition ($R = R_t$) is of the Robin type and the symmetry condition ($R = 0$) is of the Neumann type.\n",
    "</div>\n",
    "\n",
    "- Assume the inlet stream is well-mixed.\n",
    "\\\\[\\begin{align} f_j(0) &= f_{j,in} \\\\\n",
    "     T(0) &= T_{in} \\end{align}\\\\]\n",
    "     \n",
    "<div class=\"alert alert-block alert-info\">\n",
    "<b>Note:</b> The inlet conditions are examples of Dirichlet boundary conditions.\n",
    "</div>\n",
    "\n",
    "<div class=\"alert alert-block alert-warning\">\n",
    "<b>Activity!</b> If the type of the boundary condition isn't immediate obvious take a moment and see if you can rearrange these equations into one of the below forms. \n",
    "</div>\n",
    "\n",
    "1. **Dirichlet Boundary Condition**: \\\\[x = a\\\\] \n",
    "2. **Neumann Boundary Condition**: \\\\[\\hat{n}\\cdot\\nabla x = f(x)\\\\]\n",
    "3. **Robin Boundary Condition**: \\\\[\\hat{n}\\cdot\\nabla x + \\alpha x = f(x)\\\\]\n",
    "\n",
    "- All reactions are treated as pseudo-first-order. Each reaction rate may be written with relation to it's partial pressure\n",
    "\n",
    "\\\\[r_1 = (\\sigma P_{O_2}\\rho_s) k_1 P_{OX} \\\\]\n",
    "\\\\[r_2 = (\\sigma P_{O_2}\\rho_s) k_2 P_{PA} \\\\]\n",
    "\\\\[r_3 = (\\sigma P_{O_2}\\rho_s) k_3 P_{OX} \\\\]\n",
    "\n",
    "The rate constant can be calculated using the Arrhenius relationship as such\n",
    "\n",
    "\\\\[k_i = k_i^r \\exp{\\frac{E^r_i(T - T^r)}{T R_g T^r}}, \\qquad i = \\{1, 2, 3\\} \\\\]\n",
    "\n",
    "Individual component rates of change may then be written as:\n",
    "\n",
    "\\\\[\\begin{align} r_{OX} &= -r_1 + r_3 \\\\\n",
    "r_{PA} &= r_1 - r_2 \\\\\n",
    "r_{H_2 O} &= 3r_1 + 2r_2 + 5r_3 \\\\\n",
    "r_{O_2} &= -3r_1 - 7.5r_2 + 10.5r_3 \\\\\n",
    "r_{CO_2} &= 8r_2 + 8r_3 \\\\\n",
    "r_{N_2} &= 0\n",
    "\\end{align}\\\\]\n",
    "\n",
    "XXXX.... We need to solve the following simplified PDE:\n",
    "\n",
    "\n",
    "## Method of Lines Derivation\n",
    "\n",
    "We now make use of second-order approximations for the derivatives in the radial direction\n",
    "\n",
    "\\\\[\\left.\\frac{\\partial u}{\\partial r}\\right\\vert_{r=r_j} = \\frac{u_{j+1} - u_{j}}{dr_j + dr_{j-1}} \\\\]\n",
    "\\\\[\\left.\\frac{\\partial^2 u}{\\partial r^2}\\right\\vert_{r=r_j} = \\frac{2}{dr_j(dr_j + dr_{j-1})}u_{j+1} - \\frac{2}{dr_j dr_{j-1}}u_{j} + \\frac{2}{dr_{j-1}(dr_j + dr_{j-1})}u_{j-1} \\\\]\n",
    "\n",
    "Then the mass balance simplifies to \n",
    "\n",
    "\\\\[ Q\\left.\\frac{\\partial c_j}{\\partial V}\\right\\vert_{R=R_j} = \\sum_{i}{\\nu_{ij}r_i(c(R_j),T(R_j))}  \\\\]\n",
    "\n",
    "and the temperature balances simplifies to \n",
    "\n",
    "\\\\[\\sum_{i}{f_{i}c_{pj}}\\frac{\\partial T}{\\partial V} = \\frac{\\Lambda}{R}\\frac{\\partial}{\\partial R}\\left(R\\frac{\\partial T}{\\partial R}\\right) + \\sum_{i}{(-\\Delta H_{i})r_i(c,T)}  \\\\]\n"
   ]
  },
  {
   "cell_type": "markdown",
   "metadata": {},
   "source": [
    "<hr style=\"border:6px solid black\"> </hr>\n",
    "\n",
    "We'll now make use \n",
    "\n",
    "Unlike typically combustion processes in which a gaseous oxygen source is used the\n",
    "\n",
    "Chemical looping combustion: https://www.sciencedirect.com/science/article/abs/pii/S1750583613001151"
   ]
  },
  {
   "cell_type": "code",
   "execution_count": null,
   "metadata": {},
   "outputs": [],
   "source": [
    "# Input model parameters\n",
    "\n",
    "k_ref = [6.519E-2; 5.698E-3; 6.442E-3]   # Reaction rate at refence temperature\n",
    "E_ref = [113.57; 129.71; 119.68]         # Activation energy at reference temperature\n",
    "T_ref = 600                              # Reference temperature\n",
    "Rg =                                     #\n",
    "catalyst_density = 1300                  # Density of packed catalytic material (kg/m^3)\n",
    "heat_dispersion = 7.3871                 # heat dispersion coefficient(kJ/m h K)\n",
    "\n",
    "P0 = 1.7                                 # total atmospheres of pressure\n",
    "biot_number = 0.8                        # Biot number, Bi (dimensionless)\n",
    "reactor_length = 9                       # length of reactor (m)\n",
    "reactor_diam = 0.0254                    # diameter of reactor (m)\n",
    "\n",
    "feed_rate = 0.174                        # total molar feed rate (mol/h) \n",
    "feed_mole_frac = [0.011; 0.208; 0.781]   # mole fraction\n"
   ]
  },
  {
   "cell_type": "code",
   "execution_count": null,
   "metadata": {},
   "outputs": [],
   "source": [
    "#=\n",
    "We define a nonlinear\n",
    "=#\n",
    "function get_residual!(out, x, a, p)\n",
    "    nr, nv = p\n",
    "    \n",
    "    dr = 1/(nr - 1)\n",
    "    dv = 1/(nv - 1)\n",
    "    \n",
    "    # interior nodes\n",
    "    \n",
    "    # inlet\n",
    "    \n",
    "    # outlet\n",
    "    \n",
    "    # center\n",
    "    \n",
    "    # wall\n",
    "    \n",
    "    return nothing\n",
    "end"
   ]
  },
  {
   "cell_type": "code",
   "execution_count": null,
   "metadata": {},
   "outputs": [],
   "source": [
    "#=\n",
    "We define a nonlinear\n",
    "=#\n",
    "function get_jacobian!(out, x, a, p)\n",
    "     nr, nv = p\n",
    "    \n",
    "    dr = 1/(nr - 1)\n",
    "    dv = 1/(nv - 1)\n",
    "    \n",
    "    # interior nodes\n",
    "    \n",
    "    # inlet\n",
    "    \n",
    "    # outlet\n",
    "    \n",
    "    # center\n",
    "    \n",
    "    # wall\n",
    "    \n",
    "    return nothing\n",
    "end"
   ]
  },
  {
   "cell_type": "markdown",
   "metadata": {},
   "source": [
    "We'll use an off the shelf implementation of Newton's method through the package NLSolve.jl. "
   ]
  },
  {
   "cell_type": "code",
   "execution_count": 1,
   "metadata": {
    "collapsed": true
   },
   "outputs": [
    {
     "ename": "LoadError",
     "evalue": "ArgumentError: Package NLsolve not found in current path:\n- Run `import Pkg; Pkg.add(\"NLsolve\")` to install the NLsolve package.\n",
     "output_type": "error",
     "traceback": [
      "ArgumentError: Package NLsolve not found in current path:\n- Run `import Pkg; Pkg.add(\"NLsolve\")` to install the NLsolve package.\n",
      "",
      "Stacktrace:",
      " [1] require(::Module, ::Symbol) at .\\loading.jl:893",
      " [2] include_string(::Function, ::Module, ::String, ::String) at .\\loading.jl:1091",
      " [3] execute_code(::String, ::String) at C:\\Users\\wilhe\\.julia\\packages\\IJulia\\a1SNk\\src\\execute_request.jl:27",
      " [4] execute_request(::ZMQ.Socket, ::IJulia.Msg) at C:\\Users\\wilhe\\.julia\\packages\\IJulia\\a1SNk\\src\\execute_request.jl:86",
      " [5] #invokelatest#1 at .\\essentials.jl:710 [inlined]",
      " [6] invokelatest at .\\essentials.jl:709 [inlined]",
      " [7] eventloop(::ZMQ.Socket) at C:\\Users\\wilhe\\.julia\\packages\\IJulia\\a1SNk\\src\\eventloop.jl:8",
      " [8] (::IJulia.var\"#15#18\")() at .\\task.jl:356"
     ]
    }
   ],
   "source": [
    "import Pkg; Pkg.add(\"NLsolve\")\n",
    "using NLsolve\n",
    "\n",
    "nr = 10 # number of discretization points in radial direction\n",
    "nv = 20 # number of discretization points in axial direction\n",
    "\n",
    "params = (nr,nv)\n",
    "function activity_profile(v)\n",
    "    if v < 0.25\n",
    "        0.5\n",
    "    elseif v < 0.5\n",
    "        0.7\n",
    "    end\n",
    "    return 1.0\n",
    "end\n",
    "residual_func! = (out, x) -> get_residual!(out, x, v -> activity_profile, params)\n",
    "jacobian_func! = (out, x) -> get_jacobian!(out, x, v -> activity_profile, params)"
   ]
  },
  {
   "cell_type": "code",
   "execution_count": null,
   "metadata": {},
   "outputs": [],
   "source": [
    "result = nlsolve(residual_func!, get_jacobian!, initial_x, method = :newton)\n",
    "x_value = result.zero"
   ]
  },
  {
   "cell_type": "markdown",
   "metadata": {},
   "source": [
    "In many of the worked examples, you provided a function which computes a jacobian as part of performing a nonlinear solve. In many cases, we can forgo this process and instead use software packages that automatically compute derivative information (termed automatic differentiation (AD)). Even in the relatively young Julia language there are five mature packages for this (https://www.juliadiff.org/) and that's neglecting the large number of AD frameworks required by modern machine learning platforms (Pytorch, Tensorflow, Flux, etc.) which often expose specialized AD tools for backpropagation. "
   ]
  },
  {
   "cell_type": "code",
   "execution_count": null,
   "metadata": {},
   "outputs": [],
   "source": [
    "result = nlsolve(residual_func!, get_jacobian!, initial_x, autodiff = :forward, method = :newton)\n",
    "x_value = result.zero"
   ]
  },
  {
   "cell_type": "markdown",
   "metadata": {},
   "source": [
    "<div class=\"alert alert-block alert-warning\">\n",
    "<b>Activity!</b> Try modifying the activity curve...\n",
    "</div>"
   ]
  },
  {
   "cell_type": "markdown",
   "metadata": {},
   "source": [
    "<hr style=\"border:6px solid black\"> </hr>\n",
    "\n",
    "# Questions for reflection\n",
    "- For a simple, what factors influence whether a system is numerically stable?\n",
    "- For IVP-PDEs, the problem size can grow quite rapidly. For a 3D systems, using 20 discretization points in each dimension leads to an 8000-by-8000 system while 256 points leads to a ~16 million by ~16 million system. As illustrated by [Jaroudi, et al.](https://www.tandfonline.com/doi/full/10.1080/00207160.2019.1613526?af=R), a large number of such systems can be solved in a few hours on standard desktop. In light of this fact, how do you think the resulting linear systems formulated and solved?\n",
    "- What are some other questions that you'd expect to be important when design a chemical looping combustion system? Can you provide some ideas of how numerical methods could be used to help answer these?\n",
    "\n",
    "<hr style=\"border:6px solid black\"> </hr>"
   ]
  },
  {
   "cell_type": "code",
   "execution_count": null,
   "metadata": {},
   "outputs": [],
   "source": []
  }
 ],
 "metadata": {
  "kernelspec": {
   "display_name": "Julia 1.5.1",
   "language": "julia",
   "name": "julia-1.5"
  },
  "language_info": {
   "file_extension": ".jl",
   "mimetype": "application/julia",
   "name": "julia",
   "version": "1.5.1"
  }
 },
 "nbformat": 4,
 "nbformat_minor": 4
}
